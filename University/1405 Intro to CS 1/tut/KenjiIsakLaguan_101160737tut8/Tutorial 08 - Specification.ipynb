{
 "cells": [
  {
   "cell_type": "code",
   "execution_count": 74,
   "metadata": {
    "deletable": false,
    "editable": false,
    "hide_input": true,
    "init_cell": true
   },
   "outputs": [
    {
     "data": {
      "text/html": [
       "<style>\n",
       "div.warn {    \n",
       "    background-color: #ffe6e6;\n",
       "    padding: 0.5em;\n",
       "    padding-left: 1em;\n",
       "}\n",
       "div.warn-title { \n",
       "    background-color: #cc0000;\n",
       "    color: #FFFFFF;\n",
       "    padding-left: 0.75em;\n",
       "    font-weight: bold;\n",
       "}\n",
       "\n",
       ".numberCircleWarn {\n",
       "    border-radius: 50%;\n",
       "    behavior: url(PIE.htc);\n",
       "    display: inline-block;\n",
       "    /* remove if you don't care about IE8 */\n",
       "    width: 18px;\n",
       "    height: 18px;\n",
       "    padding: 3px;\n",
       "    background: #ffffff;\n",
       "    color: #cc0000;\n",
       "    text-align: center;\n",
       "    font: 12px Arial, sans-serif;\n",
       "}\n",
       "\n",
       "div.note {\n",
       "    background-color: #e6f2ff;\n",
       "    padding: 0.5em;\n",
       "    padding-left: 1em;\n",
       "}\n",
       "\n",
       "div.note-title {\n",
       "    background-color: #80bdff;\n",
       "    color: #FFFFFF;\n",
       "    padding-left: 0.75em;\n",
       "    font-weight: bold;\n",
       "}\n",
       "\n",
       ".numberCircleNote {\n",
       "    border-radius: 50%;\n",
       "    behavior: url(PIE.htc);\n",
       "    display: inline-block;\n",
       "    /* remove if you don't care about IE8 */\n",
       "    width: 18px;\n",
       "    height: 18px;\n",
       "    padding: 3px;\n",
       "    background: #ffffff;\n",
       "    color: #80bdff;\n",
       "    text-align: center;\n",
       "    font: 12px Arial, sans-serif;\n",
       "    font-weight: bold;\n",
       "}\n",
       "\n",
       "div.success {\n",
       "    background-color: #e6fff3;\n",
       "    padding: 0.5em;\n",
       "    padding-left: 1em;\n",
       "}\n",
       "\n",
       "div.success-title {\n",
       "    background-color: #009933;\n",
       "    color: #FFFFFF;\n",
       "    padding-left: 0.75em;\n",
       "    font-weight: bold;\n",
       "}\n",
       "\n",
       ".numberCircleSuccess {\n",
       "    border-radius: 50%;\n",
       "    behavior: url(PIE.htc);\n",
       "    display: inline-block;\n",
       "    /* remove if you don't care about IE8 */\n",
       "    width: 18px;\n",
       "    height: 18px;\n",
       "    padding: 3px;\n",
       "    background: #ffffff;\n",
       "    color: #009933;\n",
       "    text-align: center;\n",
       "    font: 12px Arial, sans-serif;\n",
       "    line-height: 1.2;\n",
       "}\n",
       "\n",
       "div.code {\n",
       "    background-color: #f9e6ff;\n",
       "    padding: 0.5em;\n",
       "    padding-left: 1em;\n",
       "}\n",
       "\n",
       "div.code-title {\n",
       "    background-color: #730099;\n",
       "    color: #FFFFFF;\n",
       "    padding-left: 0.75em;\n",
       "    font-weight: bold;\n",
       "}\n",
       "\n",
       ".numberCircleCode {\n",
       "    border-radius: 50%;\n",
       "    behavior: url(PIE.htc);\n",
       "    display: inline-block;\n",
       "    /* remove if you don't care about IE8 */\n",
       "    width: 18px;\n",
       "    height: 18px;\n",
       "    padding: 3px;\n",
       "    background: #ffffff;\n",
       "    color: #730099;\n",
       "    text-align: center;\n",
       "    font: 12px Arial, sans-serif;\n",
       "}\n",
       "</style>"
      ],
      "text/plain": [
       "<IPython.core.display.HTML object>"
      ]
     },
     "execution_count": 74,
     "metadata": {},
     "output_type": "execute_result"
    }
   ],
   "source": [
    "from IPython.core.display import HTML\n",
    "def css_styling():\n",
    "    styles = open(\"Resources/stylesheet.css\", \"r\").read()\n",
    "    return HTML(styles)\n",
    "css_styling()"
   ]
  },
  {
   "cell_type": "code",
   "execution_count": 75,
   "metadata": {
    "deletable": false,
    "editable": false,
    "hide_input": true,
    "init_cell": true
   },
   "outputs": [
    {
     "data": {
      "text/html": [
       "<style>\n",
       "    .widget-label { min-width: 20ex !important; }\n",
       "</style>"
      ],
      "text/plain": [
       "<IPython.core.display.HTML object>"
      ]
     },
     "metadata": {},
     "output_type": "display_data"
    }
   ],
   "source": [
    "from IPython.display import display, clear_output\n",
    "import ipywidgets as widgets\n",
    "import sys, traceback, signal\n",
    "from IPython.display import HTML, display\n",
    "\n",
    "display(HTML('''<style>\n",
    "    .widget-label { min-width: 20ex !important; }\n",
    "</style>'''))"
   ]
  },
  {
   "cell_type": "code",
   "execution_count": 76,
   "metadata": {
    "deletable": false,
    "editable": false,
    "hide_input": true,
    "init_cell": true
   },
   "outputs": [],
   "source": [
    "class Error(Exception):\n",
    "    pass\n",
    "\n",
    "def test1(more_info_flag = False):\n",
    "    try:\n",
    "        t1 = stringConcatenator(\"Hello\", 15) == \"Hello15\"\n",
    "        t2 = stringConcatenator(\"Good Evening\", \"Hi\", 15.51) == \"Good EveningHi15.51\"\n",
    "        if t1 and t2:\n",
    "            return True\n",
    "        else:\n",
    "            return False\n",
    "    except Exception as e:\n",
    "        exceptionInfo = sys.exc_info()\n",
    "        tracebackInfo = traceback.extract_tb(exceptionInfo[2])\n",
    "        if more_info_flag:\n",
    "            prefix = len(tracebackInfo) > 1 and (\"Line {}: \".format(tracebackInfo[1][1])) or \"\"\n",
    "            print(prefix +\"[{}] \".format(type(e)) + str(e))\n",
    "        return False\n",
    "    \n",
    "def test2(more_info_flag = False):\n",
    "    try:\n",
    "        t1 = generatePhrase(\"Hello {}\", \"World\") == \"Hello World\"\n",
    "        t2 = generatePhrase(\"Hi {} {} {}\", \"Mr.\", \"Kevin\", \"Hua\") == \"Hi Mr. Kevin Hua\"\n",
    "        t3 = generatePhrase(\"Hello {} {}\", \"World\") == None\n",
    "        t4 = generatePhrase(\"Good evening\", \"Mr.\", \"Kevin\", \"Hua\") == None\n",
    "        if t1 and t2 and t3 and t4:\n",
    "            return True\n",
    "        else:\n",
    "            raise Error\n",
    "    except Error:\n",
    "        if more_info_flag:\n",
    "            print(\"Expected output did not match the actual output for at least 1 case.\\n\")\n",
    "            print('generatePhrase(\"Hello {{}}\", \"World\") \\t\\t\\t\\t==>\\t {}'.format(\"Passed!\" if t1 else \"Failed.\"))\n",
    "            print('generatePhrase(\"Hi {{}} {{}} {{}}\", \"Mr.\", \"Kevin\", \"Hua\") \\t\\t==>\\t {}'.format(\"Passed!\" if t2 else \"Failed.\"))\n",
    "            print('generatePhrase(\"Hello {{}} {{}}\", \"World\") \\t\\t\\t\\t==>\\t {}'.format(\"Passed!\" if t3 else \"Failed.\"))\n",
    "            print('generatePhrase(\"Good evening\", \"Mr.\", \"Kevin\", \"Hua\") \\t\\t==>\\t {}'.format(\"Passed!\" if t4 else \"Failed.\"))\n",
    "        return False\n",
    "    except Exception as e:\n",
    "        exceptionInfo = sys.exc_info()\n",
    "        tracebackInfo = traceback.extract_tb(exceptionInfo[2])\n",
    "        if more_info_flag:\n",
    "            prefix = len(tracebackInfo) > 1 and (\"Line {}: \".format(tracebackInfo[1][1])) or \"\"\n",
    "            print(prefix +\"[{}] \".format(type(e)) + str(e))\n",
    "        return False\n",
    "    \n",
    "def test3(more_info_flag = False):\n",
    "    try:\n",
    "        t1 = checkForPrime(5) == True\n",
    "        t2 = checkForPrime(10) == False\n",
    "        t3 = checkForPrime(13) == True\n",
    "        t4 = checkForPrime(15) == False\n",
    "        if t1 and t2 and t3 and t4:\n",
    "            return True\n",
    "        else:\n",
    "            if more_info_flag:\n",
    "                print(\"Expected output did not match the actual output for at least 1 case.\\n\")\n",
    "                print('checkForPrime(5) \\t\\t\\t\\t==>\\t {}'.format(\"Passed!\" if t1 else \"Failed.\"))\n",
    "                print('checkForPrime(10) \\t\\t\\t\\t==>\\t {}'.format(\"Passed!\" if t2 else \"Failed.\"))\n",
    "                print('checkForPrime(13) \\t\\t\\t\\t==>\\t {}'.format(\"Passed!\" if t3 else \"Failed.\"))\n",
    "                print('checkForPrime(15) \\t\\t\\t\\t==>\\t {}'.format(\"Passed!\" if t4 else \"Failed.\"))\n",
    "            return False\n",
    "    except Exception as e:\n",
    "        exceptionInfo = sys.exc_info()\n",
    "        tracebackInfo = traceback.extract_tb(exceptionInfo[2])\n",
    "        if more_info_flag:\n",
    "            prefix = len(tracebackInfo) > 1 and (\"Line {}: \".format(tracebackInfo[1][1])) or \"\"\n",
    "            print(prefix +\"[{}] \".format(type(e)) + str(e))\n",
    "        return False\n",
    "    \n",
    "def test5(more_info_flag = False):\n",
    "    try:\n",
    "        t1 = stringInverter(\"Hello World\") == \"dlroW olleH\"\n",
    "        t2 = stringInverter(\"Works with numbers 123!\") == \"!321 srebmun htiw skroW\"\n",
    "        if t1 and t2:\n",
    "            return True\n",
    "        else:\n",
    "            raise Error\n",
    "    except Error:\n",
    "        if more_info_flag:\n",
    "            print(\"Expected output did not match the actual output for at least 1 case.\\n\")\n",
    "            print('stringInverter(\"Hello World\") \\t\\t\\t\\t==>\\t {}'.format(\"Passed!\" if t1 else \"Failed.\"))\n",
    "            print('stringInverter(\"Works with numbers 123!\") \\t\\t\\t==>\\t {}'.format(\"Passed!\" if t2 else \"Failed.\"))\n",
    "        return False\n",
    "    except Exception as e:\n",
    "        exceptionInfo = sys.exc_info()\n",
    "        tracebackInfo = traceback.extract_tb(exceptionInfo[2])\n",
    "        if more_info_flag:\n",
    "            prefix = len(tracebackInfo) > 1 and (\"Line {}: \".format(tracebackInfo[1][1])) or \"\"\n",
    "            print(prefix +\"[{}] \".format(type(e)) + str(e))\n",
    "        return False\n",
    "    \n",
    "def test6(more_info_flag = False):\n",
    "    try:\n",
    "        t1 = doubleLastListElement([\"Hello World\", 5]) == [\"Hello World\", 10]\n",
    "        t2 = doubleLastListElement([124, \"hi\"]) == [124, \"hihi\"]\n",
    "        if t1 and t2:\n",
    "            return True\n",
    "        else:\n",
    "            raise Error\n",
    "    except Error:\n",
    "        if more_info_flag:\n",
    "            print(\"Expected output did not match the actual output for at least 1 case.\\n\")\n",
    "            print('doubleLastListElement([\"Hello World\", 5]) \\t\\t\\t==>\\t {}'.format(\"Passed!\" if t1 else \"Failed.\"))\n",
    "            print('doubleLastListElement([124, \"hi\"]) \\t\\t\\t\\t==>\\t {}'.format(\"Passed!\" if t2 else \"Failed.\"))\n",
    "        return False\n",
    "    except Exception as e:\n",
    "        exceptionInfo = sys.exc_info()\n",
    "        tracebackInfo = traceback.extract_tb(exceptionInfo[2])\n",
    "        if more_info_flag:\n",
    "            prefix = len(tracebackInfo) > 1 and (\"Line {}: \".format(tracebackInfo[1][1])) or \"\"\n",
    "            print(prefix +\"[{}] \".format(type(e)) + str(e))\n",
    "        return False\n",
    "    \n",
    "def test7(more_info_flag = False):\n",
    "    try:\n",
    "        t1 = echo(\"Hello World\", \"Print()\") == None\n",
    "        if t1:\n",
    "            return True\n",
    "        else:\n",
    "            raise Error\n",
    "    except Error:\n",
    "        print(\"Echo Function expected None as output but something else was given.\")\n",
    "        return False\n",
    "    except Exception as e:\n",
    "        exceptionInfo = sys.exc_info()\n",
    "        tracebackInfo = traceback.extract_tb(exceptionInfo[2])\n",
    "        if more_info_flag:\n",
    "            prefix = len(tracebackInfo) > 1 and (\"Line {}: \".format(tracebackInfo[1][1])) or \"\"\n",
    "            print(prefix +\"[{}] \".format(type(e)) + str(e))\n",
    "        return False\n",
    "    \n",
    "def test8(more_info_flag = False):\n",
    "    try:\n",
    "        t1 = returnComparison(\"greater than\", 55, 17, 12) == 55\n",
    "        t2 = returnComparison(\"less than\", 55, 17, 12) == 12\n",
    "        t3 = returnComparison(\"equal to\", 55, 17, 12) == False\n",
    "        t4 = returnComparison(\"equal to\", 55, 55, 55) == True\n",
    "        if t1 and t2 and t3 and t4:\n",
    "            return True\n",
    "        else:\n",
    "            raise Error\n",
    "    except Error:\n",
    "        if more_info_flag:\n",
    "            print(\"Expected output did not match the actual output for at least 1 case.\\n\")\n",
    "            print('returnComparison(\"greater than\", 55, 17, 12) \\t\\t\\t\\t==>\\t {}'.format(\"Passed!\" if t1 else \"Failed.\"))\n",
    "            print('returnComparison(\"less than\", 55, 17, 12) \\t\\t\\t\\t==>\\t {}'.format(\"Passed!\" if t2 else \"Failed.\"))\n",
    "            print('returnComparison(\"equal to\", 55, 17, 12) \\t\\t\\t\\t==>\\t {}'.format(\"Passed!\" if t3 else \"Failed.\"))\n",
    "            print('returnComparison(\"equal to\", 55, 55, 55) \\t\\t\\t\\t==>\\t {}'.format(\"Passed!\" if t4 else \"Failed.\"))\n",
    "        return False\n",
    "    except Exception as e:\n",
    "        exceptionInfo = sys.exc_info()\n",
    "        tracebackInfo = traceback.extract_tb(exceptionInfo[2])\n",
    "        if more_info_flag:\n",
    "            prefix = len(tracebackInfo) > 1 and (\"Line {}: \".format(tracebackInfo[1][1])) or \"\"\n",
    "            print(prefix +\"[{}] \".format(type(e)) + str(e))\n",
    "        return False\n",
    "    \n",
    "def test9(more_info_flag = False):\n",
    "    try:\n",
    "        t1 = multiply(1, 25, 6, 7) == 1050\n",
    "        t2 = multiply(1, 25, 0, 7) == 0\n",
    "        t3 = multiply(1, 25, -6, 7) == -1050\n",
    "        t4 = multiply(1, 25, 6.6, 7) == 1155\n",
    "        t5 = multiply(1, 25, 6.5, 7) == 1137.5\n",
    "        if t1 and t2 and t3 and t4 and t5:\n",
    "            return True\n",
    "        else:\n",
    "            raise Error\n",
    "    except Error:\n",
    "        if more_info_flag:\n",
    "            print(\"Expected output did not match the actual output for at least 1 case.\\n\")\n",
    "            print('multiply(1, 25, 6, 7) \\t\\t\\t\\t==>\\t {}'.format(\"Passed!\" if t1 else \"Failed.\"))\n",
    "            print('multiply(1, 25, 0, 7) \\t\\t\\t\\t==>\\t {}'.format(\"Passed!\" if t2 else \"Failed.\"))\n",
    "            print('multiply(1, 25, -6, 7) \\t\\t\\t\\t==>\\t {}'.format(\"Passed!\" if t3 else \"Failed.\"))\n",
    "            print('multiply(1, 25, 6.6, 7) \\t\\t\\t\\t==>\\t {}'.format(\"Passed!\" if t4 else \"Failed.\"))\n",
    "            print('multiply(1, 25, 6.5, 7) \\t\\t\\t\\t==>\\t {}'.format(\"Passed!\" if t5 else \"Failed.\"))\n",
    "        return False\n",
    "    except Exception as e:\n",
    "        exceptionInfo = sys.exc_info()\n",
    "        tracebackInfo = traceback.extract_tb(exceptionInfo[2])\n",
    "        if more_info_flag:\n",
    "            prefix = len(tracebackInfo) > 1 and (\"Line {}: \".format(tracebackInfo[1][1])) or \"\"\n",
    "            print(prefix+\"[{}] \".format(type(e)) + str(e))\n",
    "        return False\n",
    "    \n",
    "def test10(more_info_flag = False):\n",
    "    try:\n",
    "        t1 = replacer(\"Hello World\", ['l', 'r']) == \"Herro Worrd\"\n",
    "        t2 = replacer(\"Hello World\", ['l', 'r'], ['o', 'a']) == \"Herra Warrd\"\n",
    "        if t1 and t2:\n",
    "            return True\n",
    "        else:\n",
    "            raise Error\n",
    "    except Error:\n",
    "        if more_info_flag:\n",
    "            print(\"Expected output did not match the actual output for at least 1 case.\\n\")\n",
    "            print('replacer(\"Hello World\", [\"l\", \"r\"]) \\t\\t\\t==>\\t {}'.format(\"Passed!\" if t1 else \"Failed.\"))\n",
    "            print('\"Hello World\", [\"l\", \"r\"], [\"o\", \"a\"]) \\t\\t\\t\\t==>\\t {}'.format(\"Passed!\" if t2 else \"Failed.\"))\n",
    "        return False\n",
    "    except Exception as e:\n",
    "        exceptionInfo = sys.exc_info()\n",
    "        tracebackInfo = traceback.extract_tb(exceptionInfo[2])\n",
    "        if more_info_flag:\n",
    "            prefix = len(tracebackInfo) > 1 and (\"Line {}: \".format(tracebackInfo[1][1])) or \"\"\n",
    "            print(prefix +\"[{}] \".format(type(e)) + str(e))\n",
    "        return False\n",
    "    \n",
    "def test4(more_info_flag = False):\n",
    "    try:\n",
    "        t1 = summation(1, 2, 3, 4, 5) == 15\n",
    "        t2 = summation(1, -2, 3, -4, 5) == 3\n",
    "        t3 = summation(1, \"hello\", -2) == -1\n",
    "        t4 = summation(1, \"hello\", -0.5) == 0.5\n",
    "        if t1 and t2 and t3 and t4:\n",
    "            return True\n",
    "        else:\n",
    "            raise Error\n",
    "    except Error:\n",
    "        if more_info_flag:\n",
    "            print(\"Expected output did not match the actual output for at least 1 case.\\n\")\n",
    "            print('summation(1, 2, 3, 4, 5) \\t\\t\\t\\t==>\\t {}'.format(\"Passed!\" if t1 else \"Failed.\"))\n",
    "            print('summation(1, -2, 3, -4, 5) \\t\\t\\t\\t==>\\t {}'.format(\"Passed!\" if t2 else \"Failed.\"))\n",
    "            print('summation(1, \"hello\", -2) \\t\\t\\t\\t==>\\t {}'.format(\"Passed!\" if t3 else \"Failed.\"))\n",
    "            print('summation(1, \"hello\", -0.5) \\t\\t\\t\\t==>\\t {}'.format(\"Passed!\" if t4 else \"Failed.\"))\n",
    "        return False\n",
    "    except Exception as e:\n",
    "        exceptionInfo = sys.exc_info()\n",
    "        tracebackInfo = traceback.extract_tb(exceptionInfo[2])\n",
    "        if more_info_flag:\n",
    "            prefix = len(tracebackInfo) > 1 and (\"Line {}: \".format(tracebackInfo[1][1])) or \"\"\n",
    "            print(prefix+\"[{}] \".format(type(e)) + str(e))\n",
    "        return False"
   ]
  },
  {
   "cell_type": "code",
   "execution_count": 77,
   "metadata": {
    "deletable": false,
    "editable": false,
    "hide_input": true,
    "init_cell": true
   },
   "outputs": [],
   "source": [
    "%%capture\n",
    "import time\n",
    "import sys\n",
    "!{sys.executable} -m pip install matplotlib\n",
    "!{sys.executable} -m pip install scipy\n",
    "time.sleep(1)"
   ]
  },
  {
   "cell_type": "markdown",
   "metadata": {
    "deletable": false,
    "editable": false,
    "run_control": {
     "frozen": true
    }
   },
   "source": [
    "**COMP 1005A / 1405A - Introduction to Computer Science I (Fall 2019)** <img style=\"float: right; height: 50px;\" src=\"Resources/carleton.png\"><br>\n",
    "\n",
    "*Specification for Tutorial 8 / 10*\n",
    "\n",
    "***"
   ]
  },
  {
   "cell_type": "markdown",
   "metadata": {
    "deletable": false,
    "editable": false,
    "run_control": {
     "frozen": true
    }
   },
   "source": [
    "## Tutorial 8: Sorting Algorithms and Debugging\n",
    "Last week, we covered multidimensional lists. Today we will be covering two important topics: 1) Sorting Algorithms and 2) Debugging. If you are unclear about any additional topics covered peripherally in this Tutorial (i.e. Functions, Lists/Multidimensional Lists, etc.) please be sure to refer back to the Tutorial pertaining to them or the lecture slides on the topic. At this stage, you should be relatively comfortable with all the topics covered in previous Tutorials.\n",
    "\n",
    "This will be a **graded** Tutorial and you must submit your Tutorial by the end of your respective Tutorial time to receive the credit for it. This Tutorial must be accomplished during the Tutorial time and in the Tutorial Lab at school - we will be taking attendance: submissions by non-attendees will not be considered and an automatic grade of 0 will be given. Otherwise, the milestones for this Tutorial will be as followed:\n",
    "\n",
    "| <p align=\"left\">Milestone</p>                                                       | <p align=\"center\">Associated Grade</p> |\n",
    "|-------------------------------------------------------------------------------------|------------------|\n",
    "| <p align=\"left\">Completing the introductory 'Tutorial' components (prior to the Tutorial Exercises)</p> |        <p align=\"center\">0%</p>       |\n",
    "| <p align=\"left\">Completing the Tutorial Exercises 'halfway' (Bubble Sort or Debugging)</p>  |        <p align=\"center\">30% - 50%</p>       |\n",
    "| <p align=\"left\">Completing the Tutorial Exercises</p>            |        <p align=\"center\">80%</p>       |\n",
    "| <p align=\"left\">Knowledge Quiz (5% per correct response)</p>                                            |    <p align=\"center\">80% - 100%</p>    |\n",
    "\n",
    "Once you are completed the Tutorial, please zip up all the relevant files (i.e. all the downloaded ones and any additional ones you have added) and adhere to the following naming convention:\n",
    "\n",
    "```FirstnameLastname_studentnumber.zip```\n",
    "\n",
    "Example: \n",
    "JohnDoe_100000000.zip<br><br>\n",
    "\n",
    "<div class=warn-title><p class=numberCircleWarn>&nbsp;!!</p> Warning</div>\n",
    "<div class=warn>Be sure to upload this .zip file to CuLearn under the <b>Tutorial 08 Submission</b>.</div>"
   ]
  },
  {
   "cell_type": "markdown",
   "metadata": {
    "deletable": false,
    "editable": false,
    "run_control": {
     "frozen": true
    }
   },
   "source": [
    "### Part 1: Selection Sort\n",
    "As we've seen in class, selection sort is the act of, for each $i^{th}$ element within a list, find the $i^{th}$ smallest and swap it with the value current in the $i^{th}$ position. As a clarification, imagine the following list:\n",
    "\n",
    "<table>\n",
    "    <tr>\n",
    "        <td style=\"border: 1px solid black;\">5</td>\n",
    "        <td style=\"border: 1px solid black;\">2</td>\n",
    "        <td style=\"border: 1px solid black;\">4</td>\n",
    "        <td style=\"border: 1px solid black;\">3</td>\n",
    "        <td style=\"border: 1px solid black;\">1</td>\n",
    "    </tr>\n",
    "</table>\n",
    "\n",
    "We would start with the $0^{th}$ position and then iterate through the list to find the smallest value.\n",
    "\n",
    "<table>\n",
    "    <tr>\n",
    "        <td style=\"background-color: red; color: white; border: 1px solid black;\">5</td>\n",
    "        <td style=\"border: 1px solid black;\">2</td>\n",
    "        <td style=\"border: 1px solid black;\">4</td>\n",
    "        <td style=\"border: 1px solid black;\">3</td>\n",
    "        <td style=\"border: 1px solid black;\">1</td>\n",
    "    </tr>\n",
    "</table>\n",
    "\n",
    "As we cycle through, we find that the smallest value is the ```1``` in the $4^{th}$ position.\n",
    "\n",
    "<table>\n",
    "    <tr>\n",
    "        <td style=\"background-color: red; color: white; border: 1px solid black;\">5</td>\n",
    "        <td style=\"border: 1px solid black;\">2</td>\n",
    "        <td style=\"border: 1px solid black;\">4</td>\n",
    "        <td style=\"border: 1px solid black;\">3</td>\n",
    "        <td style=\"background-color: green; color: white; border: 1px solid black;\">1</td>\n",
    "    </tr>\n",
    "</table>\n",
    "\n",
    "We then swap the two:\n",
    "\n",
    "<table>\n",
    "    <tr>\n",
    "        <td style=\"background-color: green; color: white; border: 1px solid black;\">1</td>\n",
    "        <td style=\"border: 1px solid black;\">2</td>\n",
    "        <td style=\"border: 1px solid black;\">3</td>\n",
    "        <td style=\"border: 1px solid black;\">4</td>\n",
    "        <td style=\"background-color: red; color: white; border: 1px solid black;\">5</td>\n",
    "    </tr>\n",
    "</table>\n",
    "\n",
    "And then move on to the next position, or the $1^{st}$ position. We know for certain position 0 is sorted.\n",
    "\n",
    "<table>\n",
    "    <tr>\n",
    "        <td style=\"background-color: gray; color: white; border: 1px solid black;\">1</td>\n",
    "        <td style=\"background-color: red; color: white; border: 1px solid black;\">2</td>\n",
    "        <td style=\"border: 1px solid black;\">4</td>\n",
    "        <td style=\"border: 1px solid black;\">3</td>\n",
    "        <td style=\"border: 1px solid black;\">5</td>\n",
    "    </tr>\n",
    "</table>\n",
    "\n",
    "We repeat this until we hit the last element in the list, at which point the list is sorted.\n",
    "\n",
    "<table>\n",
    "    <tr>\n",
    "        <td style=\"background-color: gray; color: white; border: 1px solid black;\">1</td>\n",
    "        <td style=\"background-color: gray; color: white; border: 1px solid black;\">2</td>\n",
    "        <td style=\"background-color: gray; color: white; border: 1px solid black;\">4</td>\n",
    "        <td style=\"background-color: gray; color: white; border: 1px solid black;\">3</td>\n",
    "        <td style=\"background-color: gray; color: white; border: 1px solid black;\">5</td>\n",
    "    </tr>\n",
    "</table>"
   ]
  },
  {
   "cell_type": "markdown",
   "metadata": {
    "deletable": false,
    "editable": false,
    "run_control": {
     "frozen": true
    }
   },
   "source": [
    "To help illustrate this further, you may refer to this GIF courtesy of Wikipedia$^1$:\n",
    "\n",
    "![Selection Sort Animation](https://upload.wikimedia.org/wikipedia/commons/9/94/Selection-Sort-Animation.gif)\n",
    "\n",
    "$^{1 (\\text{By Joestape89, CC BY-SA 3.0, https://commons.wikimedia.org/w/index.php?curid=3330231})}$"
   ]
  },
  {
   "cell_type": "markdown",
   "metadata": {
    "deletable": false,
    "editable": false,
    "run_control": {
     "frozen": true
    }
   },
   "source": [
    "The Algorithm, defined in pseudocode (as a refresher - pulled from the Slides for this course) is:\n",
    "\n",
    "$\\text{for }i \\in [0, \\text{ length}-1)$:<br>\n",
    "&nbsp;&nbsp;&nbsp;$\\text{nextsmallestindex } \\leftarrow i$<br>\n",
    "&nbsp;&nbsp;&nbsp;$\\text{for }j\\in[i+1\\text{, length}):$<br>\n",
    "&nbsp;&nbsp;&nbsp;&nbsp;&nbsp;&nbsp;$\\text{if (item[}j\\text{] < item[nextsmallest]):}$<br>\n",
    "&nbsp;&nbsp;&nbsp;&nbsp;&nbsp;&nbsp;&nbsp;&nbsp;&nbsp;$\\text{nextsmallest}\\leftarrow j$<br>\n",
    "&nbsp;&nbsp;&nbsp;$\\text{swap item[}i\\text{] with item[nextsmallest]}$"
   ]
  },
  {
   "cell_type": "markdown",
   "metadata": {
    "deletable": false,
    "editable": false,
    "run_control": {
     "frozen": true
    }
   },
   "source": [
    "Of course, while simple, this sorting mechanism isn't the most efficient. At worst, the time it takes to sort a list is exponentially dependent on the number of items to be sorted. Let's observe a few run throughs of the algorithm below - it has already been run with the results below. It iterates over the selection sort algorithm 100 times, with each list of size 8000, and plots the results for you to see. While you're welcome to re-run the algorithm to see how it runs, I'd recommend against it during this Tutorial as it does take some time to complete."
   ]
  },
  {
   "cell_type": "code",
   "execution_count": 16,
   "metadata": {
    "deletable": false,
    "editable": false
   },
   "outputs": [],
   "source": [
    "# The simple Selection Sort function.\n",
    "def selection_sort_trial(unsorted_list):\n",
    "    for i in range(len(unsorted_list)-1):\n",
    "        smallest_index = i\n",
    "        for j in range(i+1, len(unsorted_list)):\n",
    "            if (unsorted_list[j] < unsorted_list[i]):\n",
    "                smallest_index = j\n",
    "        current = unsorted_list[i]\n",
    "        unsorted_list[i] = unsorted_list[smallest_index]\n",
    "        unsorted_list[smallest_index] = current\n",
    "    return unsorted_list"
   ]
  },
  {
   "cell_type": "code",
   "execution_count": 6,
   "metadata": {
    "deletable": false,
    "editable": false,
    "hide_input": true,
    "run_control": {
     "frozen": true
    }
   },
   "outputs": [
    {
     "name": "stdout",
     "output_type": "stream",
     "text": [
      "The Average Time for 100 Trials for Selection Sort is 6223.18098ms\n"
     ]
    },
    {
     "data": {
      "image/png": "[encoded data removed]",
      "text/plain": [
       "<Figure size 1440x720 with 1 Axes>"
      ]
     },
     "metadata": {},
     "output_type": "display_data"
    }
   ],
   "source": [
    "%matplotlib inline\n",
    "\n",
    "import matplotlib\n",
    "import numpy as np\n",
    "import matplotlib.pyplot as plt\n",
    "import time\n",
    "import random\n",
    "from scipy import stats\n",
    "\n",
    "# Code starts here. Above imports are mostly for plotting and stats - you may ignore them.\n",
    "\n",
    "time_per_trial = []\n",
    "\n",
    "for _ in range(100):\n",
    "    # Randomly generate a list of numbers between 0 and 1000. List is of size 100\n",
    "    current_list = []\n",
    "    for i in range(8000):\n",
    "        current_list.append(int(random.randint(0, 8000)))\n",
    "    # Following line includes Jupyter's built-in command for one-line timing. You are not required\n",
    "    # to know this nor to use this.\n",
    "    time = %timeit -q -o -r 1 -n 1 selection_sort_trial(current_list)\n",
    "    time_per_trial.append(time.best * 1000)\n",
    "    \n",
    "average_time = sum(time_per_trial)/len(time_per_trial)\n",
    "print(\"The Average Time for 100 Trials for Selection Sort is {:.5f}ms\".format(average_time))\n",
    "# ---------------------------------------------------------------------------------------------- #\n",
    "# Some quick Statistics and Graphing - don't worry about this. This is purely for a visual and you\n",
    "# are NOT expected to know this. You may ignore this portion onwards.\n",
    "\n",
    "# Generated linear fit\n",
    "xi = np.arange(0, 100)\n",
    "slope, intercept, r_value, p_value, std_err = stats.linregress(xi,time_per_trial)\n",
    "line = slope*xi+intercept\n",
    "\n",
    "# Plotting the Graph\n",
    "plt.figure(figsize=(20, 10))\n",
    "plt.plot(xi, time_per_trial, 'o', xi, line)\n",
    "#plt.plot(time_per_trial, 'ro')\n",
    "plt.title(\"Plot of Average Time to Sort Across 100 Trials\")\n",
    "plt.xlabel(\"Trials\")\n",
    "plt.ylabel(\"Time (ms)\")\n",
    "plt.xticks(np.arange(0, len(time_per_trial), 5.0))\n",
    "plt.show()"
   ]
  },
  {
   "cell_type": "markdown",
   "metadata": {
    "deletable": false,
    "editable": false,
    "run_control": {
     "frozen": true
    }
   },
   "source": [
    "## Tutorial Exercises"
   ]
  },
  {
   "cell_type": "markdown",
   "metadata": {
    "deletable": false,
    "editable": false,
    "run_control": {
     "frozen": true
    }
   },
   "source": [
    "Your task for this Tutorial is to complete BOTH of the following two components. The first component centers around Sorting Algorithms, whereas the second introduces a few debugging problems that you must solve.\n",
    "\n",
    "**Please also note: due to a current bug in Jupyter, some cells that are automatically set to run on-open do so before some core components are loaded in, causing some strange errors. Fortunately, the fix is fairly simple - if the buttons appear more than once for each question, simply click on the calculator-like icon in the bar above. It looks like this:**<br>\n",
    "<img style=\"height: 100px;\" src=\"Resources/run_all_init.png\"><br>\n",
    "\n",
    "**If the issue is instead a series of Warnings: \"Widget Javascript not detected.  It may not be installed or enabled properly.\", you can just ignore these at this point.**\n",
    "\n",
    "### 1) Sorting Algorithm\n",
    "* You will write out a function called ```bubble_sort``` that takes a list as parameter and outputs a sorted list.\n",
    "    * This function must use the Bubble Sort algorithm as discussed in class\n",
    "    * You must use loops to accomplish this exercise - recursive functions are not permitted.\n",
    "    * Your function must work for any size unsorted list (though you need not test it with overly large values)."
   ]
  },
  {
   "cell_type": "code",
   "execution_count": 18,
   "metadata": {},
   "outputs": [
    {
     "name": "stdout",
     "output_type": "stream",
     "text": [
      "[1, 3, 5, 7, 9]\n"
     ]
    }
   ],
   "source": [
    "def bubble_sort(listtosort):\n",
    "    lengthlist = len(listtosort)\n",
    "    for x in range(lengthlist):\n",
    "        for i in range(0,lengthlist-x-1):\n",
    "            if listtosort[x] > listtosort [i+1]:\n",
    "                listtosort[i],listtosort[i+1] = listtosort[i+1],listtosort[i]\n",
    "    return listtosort\n",
    "listtosort = [1,5,3,7,9]\n",
    "print(bubble_sort(listtosort))"
   ]
  },
  {
   "cell_type": "markdown",
   "metadata": {
    "deletable": false,
    "editable": false,
    "run_control": {
     "frozen": true
    }
   },
   "source": [
    "***\n",
    "### 2) Debugging\n",
    "You will be awarded 10 marks per successful debug. You may choose to solve any of the five below to receive your credit. As verification, we will be running the validator below - it will help you keep track of how many have been complete. **Please note that you will need to run the cell that you modified (each of the functions below) in order for the validator to catch your changes. This MUST be done every time you make a modification.** "
   ]
  },
  {
   "cell_type": "markdown",
   "metadata": {
    "deletable": false,
    "editable": false,
    "run_control": {
     "frozen": true
    }
   },
   "source": [
    "***\n",
    "#### Debugging Validator"
   ]
  },
  {
   "cell_type": "code",
   "execution_count": 89,
   "metadata": {
    "deletable": false,
    "editable": false,
    "hide_input": true,
    "init_cell": true
   },
   "outputs": [],
   "source": [
    "tests = [ (test1, \"stringConcatenator\"), (test2, \"generatePhrase\"), (test3, \"checkForPrime\"), (test4, \"summation\"), \n",
    "         (test5, \"stringInverter\"), (test6, \"doubleLastListElement\"), (test7, \"echo\"), (test8, \"returnComparison\"), \n",
    "         (test9, \"multiply\"), (test10, \"replacer\") ]\n",
    "\n",
    "label_text = [widgets.Valid(value=False, description=\"{}\".format(test[1]), style={'description_width': '150px'}, layout=widgets.Layout(width=\"100%\", align_self=\"center\")) for test in tests]\n",
    "\n",
    "def run_tests(*args):\n",
    "    progress.value = 0\n",
    "    num_complete = 0\n",
    "    counter = 0\n",
    "    for test in tests:\n",
    "        result = test[0]()\n",
    "        if result:\n",
    "            label_text[counter].value = True\n",
    "            progress.value += 1\n",
    "        else:\n",
    "            label_text[counter].value = False\n",
    "        counter += 1\n",
    "    clear_output()\n",
    "\n",
    "run_validator = widgets.Button(\n",
    "    description='Run Validator',\n",
    "    icon='check',\n",
    "    layout=widgets.Layout(width=\"250px\", height=\"50px\", align_self=\"center\"),\n",
    "    style=widgets.ButtonStyle(button_color=\"#CEF5FF\")\n",
    ")\n",
    "run_validator.on_click(run_tests)\n",
    "\n",
    "progress = widgets.IntProgress(\n",
    "    min=0,\n",
    "    max=5,\n",
    "    step=1,\n",
    "    bar_style='success',\n",
    "    orientation='horizontal',\n",
    "    layout=widgets.Layout(width='95%', height=\"40px\", align_self=\"center\")\n",
    ")\n",
    "prog_label = widgets.Label(value=\"Current Progress:\")\n",
    "\n",
    "display(prog_label)\n",
    "display(progress)\n",
    "display(run_validator)\n",
    "\n",
    "vbox = widgets.VBox(label_text, layout=widgets.Layout(width=\"30%\", align_self=\"center\"))\n",
    "display(vbox)"
   ]
  },
  {
   "cell_type": "markdown",
   "metadata": {
    "deletable": false,
    "editable": false,
    "run_control": {
     "frozen": true
    }
   },
   "source": [
    "***\n",
    "#### Debugging Exercise [1]: ```stringConcatenator``` function"
   ]
  },
  {
   "cell_type": "code",
   "execution_count": 31,
   "metadata": {},
   "outputs": [
    {
     "name": "stdout",
     "output_type": "stream",
     "text": [
      "hello15\n"
     ]
    }
   ],
   "source": [
    "'''\n",
    "This is the stringConcatenator function. It will take a variable number of arguments \n",
    "and concatenate them into a single string, which it will return.\n",
    "\n",
    "@params                    list (denoted as args)\n",
    "@return                    string (denoted as outputString)\n",
    "'''\n",
    "def stringConcatenator(*args):\n",
    "    # Sample:\n",
    "    #   stringConcatenator(\"Hello\", 15) --> 'Hello15'\n",
    "    outputString = \"\"\n",
    "    # iterates over each provided argument, where value takes on each argument one by one\n",
    "    for value in args:\n",
    "        outputString += str(value)\n",
    "    return outputString\n",
    "print(stringConcatenator(\"hello\",15))"
   ]
  },
  {
   "cell_type": "code",
   "execution_count": 79,
   "metadata": {
    "deletable": false,
    "editable": false,
    "hide_input": true,
    "init_cell": true
   },
   "outputs": [
    {
     "data": {
      "application/vnd.jupyter.widget-view+json": {
       "model_id": "6f03f3d2fabe41f2a6bb38bb016e5296"
      }
     },
     "metadata": {},
     "output_type": "display_data"
    },
    {
     "data": {
      "application/vnd.jupyter.widget-view+json": {
       "model_id": "9257d2106fc649a18a42f1534059afd7"
      }
     },
     "metadata": {},
     "output_type": "display_data"
    },
    {
     "data": {
      "application/vnd.jupyter.widget-view+json": {
       "model_id": "b60e2a77ea194135b486c538b3549afc"
      }
     },
     "metadata": {},
     "output_type": "display_data"
    }
   ],
   "source": [
    "t1_validator = widgets.Button(\n",
    "    description='Validate stringConcatenator',\n",
    "    layout=widgets.Layout(width=\"250px\", height=\"50px\", align_self=\"center\"),\n",
    "    icon='check',\n",
    "    style=widgets.ButtonStyle(button_color=\"#CEF5FF\")\n",
    ")\n",
    "\n",
    "def t1_callback(b):\n",
    "    with out1:\n",
    "        clear_output()\n",
    "        result = test1(True)\n",
    "        if result:\n",
    "            print(\"stringConcatenator successfully passed!\")\n",
    "            t1_validator.style.button_color=\"#B8EEBA\"\n",
    "        else:\n",
    "            t1_validator.style.button_color=\"#FFB7B7\"\n",
    "        \n",
    "out1 = widgets.Output(layout={'border': '1px solid black'})\n",
    "label1 = widgets.Label(value=\"Result of Validation:\")\n",
    "t1_validator.on_click(t1_callback)\n",
    "display(t1_validator)\n",
    "display(label1)\n",
    "display(out1)"
   ]
  },
  {
   "cell_type": "markdown",
   "metadata": {
    "deletable": false,
    "editable": false,
    "run_control": {
     "frozen": true
    }
   },
   "source": [
    "***\n",
    "#### Debugging Exercise [2]: ```generatePhrase``` function"
   ]
  },
  {
   "cell_type": "code",
   "execution_count": 32,
   "metadata": {},
   "outputs": [
    {
     "name": "stdout",
     "output_type": "stream",
     "text": [
      "0\n",
      "None\n"
     ]
    }
   ],
   "source": [
    "'''\n",
    "This is the generatePhrase function. It will take a basePhrase and a variable number of arguments\n",
    "that will be inserted into the basePhrase. To do so, it will use the built-in .format function in\n",
    "Python. Thus, a set of empty braces '{}' will be used as markers to denote where each argument will\n",
    "get subbed in. The number of braces MUST match the number of arguments, or the function returns\n",
    "None to denote a failed phrase generation.\n",
    "\n",
    "@params                    string, list (denoted as args)\n",
    "@return                    string or None\n",
    "'''\n",
    "def generatePhrase(basePhrase, *args):\n",
    "    # Sample:\n",
    "    #   generatePhrase('hello {}', 'world') --> 'hello world'\n",
    "    # .count(..) will return the number of substitutions to make\n",
    "    # len(*args) will return the number of arguments provided\n",
    "    # If the number of arguments does not equal the number of braces ({}), None is returned to indicate an error.\n",
    "    print(basePhrase.count(\"{}\"))\n",
    "    if basePhrase.count(\"{}\") == len(args):\n",
    "        return basePhrase.format(*args)\n",
    "    elif int(basePhrase.count(\"{}\")) == int(0):\n",
    "        return None\n",
    "    \n",
    "print(generatePhrase(\"hello \", \"world\"))"
   ]
  },
  {
   "cell_type": "code",
   "execution_count": 80,
   "metadata": {
    "deletable": false,
    "editable": false,
    "hide_input": true,
    "init_cell": true
   },
   "outputs": [
    {
     "data": {
      "application/vnd.jupyter.widget-view+json": {
       "model_id": "6a02cb079439426a8e562dcd0f08e231"
      }
     },
     "metadata": {},
     "output_type": "display_data"
    },
    {
     "data": {
      "application/vnd.jupyter.widget-view+json": {
       "model_id": "28f08fdbdc6f4f1dbd7c016b854509a3"
      }
     },
     "metadata": {},
     "output_type": "display_data"
    },
    {
     "data": {
      "application/vnd.jupyter.widget-view+json": {
       "model_id": "56e65db154034c41b8b4acb9fdbcc054"
      }
     },
     "metadata": {},
     "output_type": "display_data"
    }
   ],
   "source": [
    "t2_validator = widgets.Button(\n",
    "    description='Validate generatePhrase',\n",
    "    layout=widgets.Layout(width=\"250px\", height=\"50px\", align_self=\"center\"),\n",
    "    icon='check',\n",
    "    style=widgets.ButtonStyle(button_color=\"#CEF5FF\")\n",
    ")\n",
    "\n",
    "def t2_callback(b):\n",
    "    with out2:\n",
    "        clear_output()\n",
    "        result = test2(True)\n",
    "        if result:\n",
    "            print(\"generatePhrase successfully passed!\")\n",
    "            t2_validator.style.button_color=\"#B8EEBA\"\n",
    "        else:\n",
    "            t2_validator.style.button_color=\"#FFB7B7\"\n",
    "        \n",
    "out2 = widgets.Output(layout={'border': '1px solid black'})\n",
    "label2 = widgets.Label(value=\"Result of Validation:\")\n",
    "t2_validator.on_click(t2_callback)\n",
    "display(t2_validator)\n",
    "display(label2)\n",
    "display(out2)"
   ]
  },
  {
   "cell_type": "markdown",
   "metadata": {
    "deletable": false,
    "editable": false,
    "run_control": {
     "frozen": true
    }
   },
   "source": [
    "***\n",
    "#### Debugging Exercise [3]: ```checkForPrime``` function"
   ]
  },
  {
   "cell_type": "code",
   "execution_count": 33,
   "metadata": {},
   "outputs": [
    {
     "name": "stdout",
     "output_type": "stream",
     "text": [
      "True\n"
     ]
    }
   ],
   "source": [
    "'''\n",
    "This is the checkForPrime function. It takes a single integer as input and returns a boolean stating\n",
    "whether or not that integer value is a a prime number. This function assumes all inputs given are\n",
    "integers.\n",
    "\n",
    "@params                    integer\n",
    "@return                    boolean\n",
    "'''\n",
    "def checkForPrime(value):\n",
    "    # Sample:\n",
    "    #   checkForPrime(7) --> True\n",
    "    # check to see if each number < value is an even divisor of value (dividend)\n",
    "    for num in range(2, value):\n",
    "        if value/num == int(value/num):\n",
    "            return False\n",
    "    return True\n",
    "print(checkForPrime(1))"
   ]
  },
  {
   "cell_type": "code",
   "execution_count": 81,
   "metadata": {
    "deletable": false,
    "editable": false,
    "hide_input": true,
    "init_cell": true
   },
   "outputs": [
    {
     "data": {
      "application/vnd.jupyter.widget-view+json": {
       "model_id": "80ce48ff978a455fa1f0b8110d4ab8c8"
      }
     },
     "metadata": {},
     "output_type": "display_data"
    },
    {
     "data": {
      "application/vnd.jupyter.widget-view+json": {
       "model_id": "0c0ddafbe6f5475d8868bd5c3dd0dd0c"
      }
     },
     "metadata": {},
     "output_type": "display_data"
    },
    {
     "data": {
      "application/vnd.jupyter.widget-view+json": {
       "model_id": "be4a6264ae14427884d102bea9adea27"
      }
     },
     "metadata": {},
     "output_type": "display_data"
    }
   ],
   "source": [
    "t3_validator = widgets.Button(\n",
    "    description='Validate checkForPrime',\n",
    "    layout=widgets.Layout(width=\"250px\", height=\"50px\", align_self=\"center\"),\n",
    "    icon='check',\n",
    "    style=widgets.ButtonStyle(button_color=\"#CEF5FF\")\n",
    ")\n",
    "\n",
    "def t3_callback(b):\n",
    "    with out3:\n",
    "        clear_output()\n",
    "        result = test3(True)\n",
    "        if result:\n",
    "            print(\"checkForPrime successfully passed!\")\n",
    "            t3_validator.style.button_color=\"#B8EEBA\"\n",
    "        else:\n",
    "            t3_validator.style.button_color=\"#FFB7B7\"\n",
    "        \n",
    "out3 = widgets.Output(layout={'border': '1px solid black'})\n",
    "label3 = widgets.Label(value=\"Result of Validation:\")\n",
    "t3_validator.on_click(t3_callback)\n",
    "display(t3_validator)\n",
    "display(label3)\n",
    "display(out3)"
   ]
  },
  {
   "cell_type": "markdown",
   "metadata": {
    "deletable": false,
    "editable": false,
    "run_control": {
     "frozen": true
    }
   },
   "source": [
    "***\n",
    "#### Debugging Exercise [4]: ```summation``` function"
   ]
  },
  {
   "cell_type": "code",
   "execution_count": 34,
   "metadata": {},
   "outputs": [
    {
     "name": "stdout",
     "output_type": "stream",
     "text": [
      "12\n"
     ]
    }
   ],
   "source": [
    "'''\n",
    "This is the summation function. It takes a variable number of arguments and returns the\n",
    "sum of all the numeric arguments. This mean that it simply ignores all other types like\n",
    "strings.\n",
    "\n",
    "@params                    list (denoted as args)\n",
    "@return                    int or float\n",
    "'''\n",
    "def summation(*args):\n",
    "    # sample:\n",
    "    #   summation(5, 10, 20) --> 35\n",
    "    outputSum = 0\n",
    "    # iterates over each provided argument, where value takes on each argument one by one\n",
    "    for value in args:\n",
    "        # type-checking provided values to make sure they are summable\n",
    "        if ((type(value) == int) or type(value) == float):\n",
    "            outputSum += value\n",
    "    \n",
    "    return outputSum\n",
    "print(summation(3,4,5))"
   ]
  },
  {
   "cell_type": "code",
   "execution_count": 82,
   "metadata": {
    "deletable": false,
    "editable": false,
    "hide_input": true,
    "init_cell": true
   },
   "outputs": [
    {
     "data": {
      "application/vnd.jupyter.widget-view+json": {
       "model_id": "33cbe63eb1cb4af6a870599c3f02d6c7"
      }
     },
     "metadata": {},
     "output_type": "display_data"
    },
    {
     "data": {
      "application/vnd.jupyter.widget-view+json": {
       "model_id": "e1ed1f85c5a34170bce3d8d8ce4d2182"
      }
     },
     "metadata": {},
     "output_type": "display_data"
    },
    {
     "data": {
      "application/vnd.jupyter.widget-view+json": {
       "model_id": "def388ab947842d6853ccac73d713cd0"
      }
     },
     "metadata": {},
     "output_type": "display_data"
    }
   ],
   "source": [
    "t4_validator = widgets.Button(\n",
    "    description='Validate summation',\n",
    "    layout=widgets.Layout(width=\"250px\", height=\"50px\", align_self=\"center\"),\n",
    "    icon='check',\n",
    "    style=widgets.ButtonStyle(button_color=\"#CEF5FF\")\n",
    ")\n",
    "\n",
    "def t4_callback(b):\n",
    "    with out4:\n",
    "        clear_output()\n",
    "        result = test4(True)\n",
    "        if result:\n",
    "            print(\"summation successfully passed!\")\n",
    "            t4_validator.style.button_color=\"#B8EEBA\"\n",
    "        else:\n",
    "            t4_validator.style.button_color=\"#FFB7B7\"\n",
    "        \n",
    "out4 = widgets.Output(layout={'border': '1px solid black'})\n",
    "label4 = widgets.Label(value=\"Result of Validation:\")\n",
    "t4_validator.on_click(t4_callback)\n",
    "display(t4_validator)\n",
    "display(label4)\n",
    "display(out4)"
   ]
  },
  {
   "cell_type": "markdown",
   "metadata": {
    "deletable": false,
    "editable": false,
    "run_control": {
     "frozen": true
    }
   },
   "source": [
    "***\n",
    "#### Debugging Exercise [5]: ```stringInverter``` function"
   ]
  },
  {
   "cell_type": "code",
   "execution_count": 35,
   "metadata": {},
   "outputs": [
    {
     "name": "stdout",
     "output_type": "stream",
     "text": [
      "olleh\n"
     ]
    }
   ],
   "source": [
    "'''\n",
    "This is the stringInverter function. It takes a single string as input and returns that \n",
    "string in reverse order.\n",
    "\n",
    "@params                    string\n",
    "@return                    string\n",
    "'''\n",
    "def stringInverter(string):\n",
    "    # Sample:\n",
    "    #   stringInverter('hello world') --> 'dlrow olleh'\n",
    "    invertedString = string[::-1]\n",
    "    # iterate over each character in string\n",
    " \n",
    "    return invertedString\n",
    "    \n",
    "print(stringInverter(\"hello\"))"
   ]
  },
  {
   "cell_type": "code",
   "execution_count": 83,
   "metadata": {
    "deletable": false,
    "editable": false,
    "hide_input": true,
    "init_cell": true
   },
   "outputs": [
    {
     "data": {
      "application/vnd.jupyter.widget-view+json": {
       "model_id": "a6fbaee5f9b64d7cab193184857b6507"
      }
     },
     "metadata": {},
     "output_type": "display_data"
    },
    {
     "data": {
      "application/vnd.jupyter.widget-view+json": {
       "model_id": "02478c9541e04da3985353035615c92b"
      }
     },
     "metadata": {},
     "output_type": "display_data"
    },
    {
     "data": {
      "application/vnd.jupyter.widget-view+json": {
       "model_id": "555ffc1b2aed4e5993e4820d7d10567f"
      }
     },
     "metadata": {},
     "output_type": "display_data"
    }
   ],
   "source": [
    "t5_validator = widgets.Button(\n",
    "    description='Validate stringInverter',\n",
    "    layout=widgets.Layout(width=\"250px\", height=\"50px\", align_self=\"center\"),\n",
    "    icon='check',\n",
    "    style=widgets.ButtonStyle(button_color=\"#CEF5FF\")\n",
    ")\n",
    "\n",
    "def t5_callback(b):\n",
    "    with out5:\n",
    "        clear_output()\n",
    "        result = test5(True)\n",
    "        if result:\n",
    "            print(\"stringInverter successfully passed!\")\n",
    "            t5_validator.style.button_color=\"#B8EEBA\"\n",
    "        else:\n",
    "            t5_validator.style.button_color=\"#FFB7B7\"\n",
    "        \n",
    "out5 = widgets.Output(layout={'border': '1px solid black'})\n",
    "label5 = widgets.Label(value=\"Result of Validation:\")\n",
    "t5_validator.on_click(t5_callback)\n",
    "display(t5_validator)\n",
    "display(label5)\n",
    "display(out5)"
   ]
  },
  {
   "cell_type": "markdown",
   "metadata": {
    "deletable": false,
    "editable": false,
    "run_control": {
     "frozen": true
    }
   },
   "source": [
    "***\n",
    "#### Debugging Exercise [6]: ```doubleLastListElement``` function"
   ]
  },
  {
   "cell_type": "code",
   "execution_count": null,
   "metadata": {},
   "outputs": [],
   "source": [
    "'''\n",
    "This is the doubleLastListElement function. It takes a list of values (assume only\n",
    "integers, floats, or strings) and returns an identical list except for the fact that\n",
    "the last element has been doubled.\n",
    "\n",
    "@params                    list\n",
    "@return                    list\n",
    "'''\n",
    "def doubleLastListElement(someList):\n",
    "    # Sample:\n",
    "    #   doubleLastListElement(5, 10, 'hello') --> (5, 10, 'hellohello')\n",
    "    # doubles element at final index\n",
    "    someList[len(someList)] *= 2\n",
    "    return someList"
   ]
  },
  {
   "cell_type": "code",
   "execution_count": 84,
   "metadata": {
    "deletable": false,
    "editable": false,
    "hide_input": true,
    "init_cell": true
   },
   "outputs": [
    {
     "data": {
      "application/vnd.jupyter.widget-view+json": {
       "model_id": "02a3125ce755406fbc7a41f1ef1c6a01"
      }
     },
     "metadata": {},
     "output_type": "display_data"
    },
    {
     "data": {
      "application/vnd.jupyter.widget-view+json": {
       "model_id": "ab3eca34cd734475b318a809ef08e7ac"
      }
     },
     "metadata": {},
     "output_type": "display_data"
    },
    {
     "data": {
      "application/vnd.jupyter.widget-view+json": {
       "model_id": "30b6433c1a0640a6b84d095eb149f31b"
      }
     },
     "metadata": {},
     "output_type": "display_data"
    }
   ],
   "source": [
    "t6_validator = widgets.Button(\n",
    "    description='Validate doubleLastListElement',\n",
    "    layout=widgets.Layout(width=\"250px\", height=\"50px\", align_self=\"center\"),\n",
    "    icon='check',\n",
    "    style=widgets.ButtonStyle(button_color=\"#CEF5FF\")\n",
    ")\n",
    "\n",
    "def t6_callback(b):\n",
    "    with out6:\n",
    "        clear_output()\n",
    "        result = test6(True)\n",
    "        if result:\n",
    "            print(\"doubleLastListElement successfully passed!\")\n",
    "            t6_validator.style.button_color=\"#B8EEBA\"\n",
    "        else:\n",
    "            t6_validator.style.button_color=\"#FFB7B7\"\n",
    "        \n",
    "out6 = widgets.Output(layout={'border': '1px solid black'})\n",
    "label6 = widgets.Label(value=\"Result of Validation:\")\n",
    "t6_validator.on_click(t6_callback)\n",
    "display(t6_validator)\n",
    "display(label6)\n",
    "display(out6)"
   ]
  },
  {
   "cell_type": "markdown",
   "metadata": {
    "deletable": false,
    "editable": false,
    "run_control": {
     "frozen": true
    }
   },
   "source": [
    "***\n",
    "#### Debugging Exercise [7]: ```echo``` function"
   ]
  },
  {
   "cell_type": "code",
   "execution_count": null,
   "metadata": {},
   "outputs": [],
   "source": [
    "'''\n",
    "This is the echo function. It takes a variable number of arguments (of type string)\n",
    "and prints out all these arguments with the 'echo' prefix. This function has no\n",
    "return.\n",
    "\n",
    "@params                    list (denoted as args)\n",
    "@return                    None\n",
    "'''\n",
    "def echo(*args):\n",
    "    # Sample:\n",
    "    #   echo('hello', 'print()') --> \"echo 'hello'\\necho 'print()'\"\n",
    "    # prints all arguments with 'echo'\n",
    "    for arg in args:\n",
    "        print(\"echo \\'\"arg\"\\'\")"
   ]
  },
  {
   "cell_type": "code",
   "execution_count": 85,
   "metadata": {
    "deletable": false,
    "editable": false,
    "hide_input": true,
    "init_cell": true
   },
   "outputs": [
    {
     "data": {
      "application/vnd.jupyter.widget-view+json": {
       "model_id": "aab205b374aa47e192086e441340c3b5"
      }
     },
     "metadata": {},
     "output_type": "display_data"
    },
    {
     "data": {
      "application/vnd.jupyter.widget-view+json": {
       "model_id": "d830d7bb0055494ab7b1c231c6354d73"
      }
     },
     "metadata": {},
     "output_type": "display_data"
    },
    {
     "data": {
      "application/vnd.jupyter.widget-view+json": {
       "model_id": "33bbba6097f4438c9e4913bba2910dc0"
      }
     },
     "metadata": {},
     "output_type": "display_data"
    }
   ],
   "source": [
    "t7_validator = widgets.Button(\n",
    "    description='Validate echo',\n",
    "    layout=widgets.Layout(width=\"250px\", height=\"50px\", align_self=\"center\"),\n",
    "    icon='check',\n",
    "    style=widgets.ButtonStyle(button_color=\"#CEF5FF\")\n",
    ")\n",
    "\n",
    "def t7_callback(b):\n",
    "    with out7:\n",
    "        clear_output()\n",
    "        result = test7(True)\n",
    "        if result:\n",
    "            print(\"echo successfully passed!\")\n",
    "            t7_validator.style.button_color=\"#B8EEBA\"\n",
    "        else:\n",
    "            t7_validator.style.button_color=\"#FFB7B7\"\n",
    "        \n",
    "out7 = widgets.Output(layout={'border': '1px solid black'})\n",
    "label7 = widgets.Label(value=\"Result of Validation:\")\n",
    "t7_validator.on_click(t7_callback)\n",
    "display(t7_validator)\n",
    "display(label7)\n",
    "display(out7)"
   ]
  },
  {
   "cell_type": "markdown",
   "metadata": {
    "deletable": false,
    "editable": false,
    "run_control": {
     "frozen": true
    }
   },
   "source": [
    "***\n",
    "#### Debugging Exercise [8]: ```returnComparison``` function"
   ]
  },
  {
   "cell_type": "code",
   "execution_count": null,
   "metadata": {},
   "outputs": [],
   "source": [
    "'''\n",
    "This is the returnComparison function. It takes an operation (in form of a string)\n",
    "and a variable list of integers. The operation can be either:\n",
    "    greater than\n",
    "    less than\n",
    "    equal to\n",
    "This function will return either an integer (in case of greater than and less than)\n",
    "or a boolean (in case of equal to).\n",
    "\n",
    "@params                    string, list (denoted as args)\n",
    "@return                    integer or boolean\n",
    "'''\n",
    "def returnComparison(comparison, *args):\n",
    "    # Sample:\n",
    "    #   returnComparison('greater than', 10, 20, 55) --> 55\n",
    "    if comparison = \"greater than\":\n",
    "        return max(args)\n",
    "    elif comparison = \"less than\":\n",
    "        return min(args)\n",
    "    else:\n",
    "        flag = True\n",
    "        for arg in range(args-1):\n",
    "            if args[arg] != args[arg+1]:\n",
    "                flag = False\n",
    "        return flag"
   ]
  },
  {
   "cell_type": "code",
   "execution_count": 86,
   "metadata": {
    "deletable": false,
    "editable": false,
    "hide_input": true,
    "init_cell": true
   },
   "outputs": [
    {
     "data": {
      "application/vnd.jupyter.widget-view+json": {
       "model_id": "ba3027c666164603ac76839c809dd2ce"
      }
     },
     "metadata": {},
     "output_type": "display_data"
    },
    {
     "data": {
      "application/vnd.jupyter.widget-view+json": {
       "model_id": "1248d290b7354149bcba566ac404e580"
      }
     },
     "metadata": {},
     "output_type": "display_data"
    },
    {
     "data": {
      "application/vnd.jupyter.widget-view+json": {
       "model_id": "45bab745798846abae0d4d0d1143eb1b"
      }
     },
     "metadata": {},
     "output_type": "display_data"
    }
   ],
   "source": [
    "t8_validator = widgets.Button(\n",
    "    description='Validate returnComparison',\n",
    "    layout=widgets.Layout(width=\"250px\", height=\"50px\", align_self=\"center\"),\n",
    "    icon='check',\n",
    "    style=widgets.ButtonStyle(button_color=\"#CEF5FF\")\n",
    ")\n",
    "\n",
    "def t8_callback(b):\n",
    "    with out8:\n",
    "        clear_output()\n",
    "        result = test8(True)\n",
    "        if result:\n",
    "            print(\"returnComparison successfully passed!\")\n",
    "            t8_validator.style.button_color=\"#B8EEBA\"\n",
    "        else:\n",
    "            t8_validator.style.button_color=\"#FFB7B7\"\n",
    "        \n",
    "out8 = widgets.Output(layout={'border': '1px solid black'})\n",
    "label8 = widgets.Label(value=\"Result of Validation:\")\n",
    "t8_validator.on_click(t8_callback)\n",
    "display(t8_validator)\n",
    "display(label8)\n",
    "display(out8)"
   ]
  },
  {
   "cell_type": "markdown",
   "metadata": {
    "deletable": false,
    "editable": false,
    "run_control": {
     "frozen": true
    }
   },
   "source": [
    "***\n",
    "#### Debugging Exercise [9]: ```multiply``` function"
   ]
  },
  {
   "cell_type": "code",
   "execution_count": null,
   "metadata": {},
   "outputs": [],
   "source": [
    "'''\n",
    "This is the multiply function. It takes a variable number of arguments and returns\n",
    "the product of all these arguments. It can be assumed that all provided arguments \n",
    "are integers or floats.\n",
    "\n",
    "\n",
    "@params                    list (denoted as args)\n",
    "@return                    integer or float\n",
    "'''\n",
    "def multiply:\n",
    "    # Sample:\n",
    "    #   multiply(5, 10, 2) --> 100\n",
    "    product = args[0]\n",
    "    for arg in range(1, len(args)):\n",
    "        product *= args[arg]\n",
    "    return product"
   ]
  },
  {
   "cell_type": "code",
   "execution_count": 87,
   "metadata": {
    "deletable": false,
    "editable": false,
    "hide_input": true,
    "init_cell": true
   },
   "outputs": [
    {
     "data": {
      "application/vnd.jupyter.widget-view+json": {
       "model_id": "55dc4d71a9ae4f37a29f11f09a158f0d"
      }
     },
     "metadata": {},
     "output_type": "display_data"
    },
    {
     "data": {
      "application/vnd.jupyter.widget-view+json": {
       "model_id": "d1ca7957eea947f48136c646621ca704"
      }
     },
     "metadata": {},
     "output_type": "display_data"
    },
    {
     "data": {
      "application/vnd.jupyter.widget-view+json": {
       "model_id": "ca23f5818a4c43469111fec4af96443b"
      }
     },
     "metadata": {},
     "output_type": "display_data"
    }
   ],
   "source": [
    "t9_validator = widgets.Button(\n",
    "    description='Validate multiply',\n",
    "    layout=widgets.Layout(width=\"250px\", height=\"50px\", align_self=\"center\"),\n",
    "    icon='check',\n",
    "    style=widgets.ButtonStyle(button_color=\"#CEF5FF\")\n",
    ")\n",
    "\n",
    "def t9_callback(b):\n",
    "    with out9:\n",
    "        clear_output()\n",
    "        result = test9(True)\n",
    "        if result:\n",
    "            print(\"multiply successfully passed!\")\n",
    "            t9_validator.style.button_color=\"#B8EEBA\"\n",
    "        else:\n",
    "            t9_validator.style.button_color=\"#FFB7B7\"\n",
    "        \n",
    "out9 = widgets.Output(layout={'border': '1px solid black'})\n",
    "label9 = widgets.Label(value=\"Result of Validation:\")\n",
    "t9_validator.on_click(t9_callback)\n",
    "display(t9_validator)\n",
    "display(label9)\n",
    "display(out9)"
   ]
  },
  {
   "cell_type": "markdown",
   "metadata": {
    "deletable": false,
    "editable": false,
    "run_control": {
     "frozen": true
    }
   },
   "source": [
    "***\n",
    "#### Debugging Exercise [10]: ```replacer``` function"
   ]
  },
  {
   "cell_type": "code",
   "execution_count": null,
   "metadata": {},
   "outputs": [],
   "source": [
    "'''\n",
    "This is the replacer function. It takes a phrase in the form of a string, \n",
    "as well as a variable number of tuple arguments. The tuples are in the\n",
    "form of:\n",
    "    (char_to_be_replaced, char_to_replace_with)\n",
    "This function will replace all occurrences of char_to_be_replaced with\n",
    "char_to_replace_with, then return the new string.\n",
    "\n",
    "@params                    string, list (denoted as args)\n",
    "@return                    string\n",
    "'''\n",
    "def replacer(phrase, *args):\n",
    "    # Sample:\n",
    "    #   replacer('hello world', ('l', 'r')) --> 'herro worrd'\n",
    "    outputString = \"\"\n",
    "    for char in phrase:\n",
    "        foundFlag = False\n",
    "        for arg in args:\n",
    "            if char == arg:\n",
    "                outputString += arg[1]\n",
    "                foundFlag = True\n",
    "                break\n",
    "        if foundFlag:\n",
    "            outputString += char\n",
    "    return outputString"
   ]
  },
  {
   "cell_type": "code",
   "execution_count": 88,
   "metadata": {
    "deletable": false,
    "editable": false,
    "hide_input": true,
    "init_cell": true
   },
   "outputs": [
    {
     "data": {
      "application/vnd.jupyter.widget-view+json": {
       "model_id": "cbdf9f520ec94a7e833758bfe9814595"
      }
     },
     "metadata": {},
     "output_type": "display_data"
    },
    {
     "data": {
      "application/vnd.jupyter.widget-view+json": {
       "model_id": "92d0cb53615b4b6093f67323b5a87f60"
      }
     },
     "metadata": {},
     "output_type": "display_data"
    },
    {
     "data": {
      "application/vnd.jupyter.widget-view+json": {
       "model_id": "7e02d0baac5b4578b2486958562f841a"
      }
     },
     "metadata": {},
     "output_type": "display_data"
    }
   ],
   "source": [
    "t10_validator = widgets.Button(\n",
    "    description='Validate replacer',\n",
    "    layout=widgets.Layout(width=\"250px\", height=\"50px\", align_self=\"center\"),\n",
    "    icon='check',\n",
    "    style=widgets.ButtonStyle(button_color=\"#CEF5FF\")\n",
    ")\n",
    "\n",
    "def t10_callback(b):\n",
    "    with out10:\n",
    "        clear_output()\n",
    "        result = test10(True)\n",
    "        if result:\n",
    "            print(\"replacer successfully passed!\")\n",
    "            t10_validator.style.button_color=\"#B8EEBA\"\n",
    "        else:\n",
    "            t10_validator.style.button_color=\"#FFB7B7\"\n",
    "        \n",
    "out10 = widgets.Output(layout={'border': '1px solid black'})\n",
    "label10 = widgets.Label(value=\"Result of Validation:\")\n",
    "t10_validator.on_click(t10_callback)\n",
    "display(t10_validator)\n",
    "display(label10)\n",
    "display(out10)"
   ]
  },
  {
   "cell_type": "markdown",
   "metadata": {
    "deletable": false,
    "editable": false,
    "run_control": {
     "frozen": true
    }
   },
   "source": [
    "***\n",
    "## Knowledge Test\n",
    "To cap off this Tutorial, complete the following test of knowledge. Please answer the following question(s) to the best of your ability. Try to complete this without consulting the notes above if possible. As mentioned in the milestones above, each question is worth a possible 5%, with no part marks possible."
   ]
  },
  {
   "cell_type": "markdown",
   "metadata": {
    "deletable": false,
    "editable": false,
    "run_control": {
     "frozen": true
    }
   },
   "source": [
    "*(1) In Selection Sort, at most, how many comparisons will be made for a list of size $n$ in one iteration? At minimum, how many are made?*\n",
    "***"
   ]
  },
  {
   "cell_type": "markdown",
   "metadata": {},
   "source": [
    "n-1 for one iteration"
   ]
  },
  {
   "cell_type": "markdown",
   "metadata": {
    "deletable": false,
    "editable": false,
    "run_control": {
     "frozen": true
    }
   },
   "source": [
    "*(2) Given the following error message: ```TypeError: Can't convert 'int' object to str implicitly```. What would you guess is the issue that was encountered?*\n",
    "***"
   ]
  },
  {
   "cell_type": "markdown",
   "metadata": {},
   "source": [
    "youre trying to add strings and int objects together which you cant do. so you need to type cast the int into a string. "
   ]
  },
  {
   "cell_type": "markdown",
   "metadata": {},
   "source": []
  },
  {
   "cell_type": "markdown",
   "metadata": {
    "deletable": false,
    "editable": false,
    "run_control": {
     "frozen": true
    }
   },
   "source": [
    "*(3) Given the following error message: ```NameError: name 'multiply' is not defined```. What would you guess is the issue that was encountered?*\n",
    "***"
   ]
  },
  {
   "cell_type": "markdown",
   "metadata": {},
   "source": [
    "multiply isnt declared"
   ]
  },
  {
   "cell_type": "markdown",
   "metadata": {},
   "source": [
    "*(4) Given the following error message: ```IndexError: list index out of range```. What would you guess is the issue that was encountered?*\n",
    "***"
   ]
  },
  {
   "cell_type": "markdown",
   "metadata": {},
   "source": [
    "position they are trying to use is out of range of the list"
   ]
  },
  {
   "cell_type": "markdown",
   "metadata": {
    "deletable": false,
    "editable": false,
    "run_control": {
     "frozen": true
    }
   },
   "source": [
    "***\n",
    "## Resources / References\n",
    "<br>\n",
    "<div class=note-title><p class=numberCircleNote>R</p> External Resources</div>\n",
    "<div class=note></div>\n",
    "<br>\n",
    "<div class=note-title><p class=numberCircleNote>iR</p> Internal Resources</div>\n",
    "<div class=note>Lecture 15 - Debugging and Exceptions<br>Lecture 16 - Introduction to Sorting and Selection Sort<br>Lecture 17 - Bubble Sorting and Performance Comparison</div>\n",
    "\n",
    "\n",
    "***\n",
    "## Appendix\n",
    "The following section will contain some code vital to the visual component of this Tutorial Specification. Note that any code found in the section will not impact any code being run, though it is highly recommended to re-run the cells here if you have cleared the output of ALL cells."
   ]
  }
 ],
 "metadata": {
  "kernelspec": {
   "display_name": "Python 3",
   "language": "python",
   "name": "python3"
  },
  "language_info": {
   "codemirror_mode": {
    "name": "ipython",
    "version": 3
   },
   "file_extension": ".py",
   "mimetype": "text/x-python",
   "name": "python",
   "nbconvert_exporter": "python",
   "pygments_lexer": "ipython3",
   "version": "3.6.8"
  }
 },
 "nbformat": 4,
 "nbformat_minor": 2
}
