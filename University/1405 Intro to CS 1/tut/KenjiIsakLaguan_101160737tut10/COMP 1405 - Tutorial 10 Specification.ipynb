{
 "cells": [
  {
   "cell_type": "markdown",
   "metadata": {
    "deletable": false,
    "editable": false,
    "run_control": {
     "frozen": true
    }
   },
   "source": [
    "**COMP 1405 - Introduction to Computer Science I (Fall 2018)** <img style=\"float: right; height: 50px;\" src=\"Resources/carleton.png\"><br>\n",
    "\n",
    "*Specification for Tutorial 10 / 10*\n",
    "\n",
    "***"
   ]
  },
  {
   "cell_type": "markdown",
   "metadata": {},
   "source": [
    "## Tutorial 10: Associative Collections\n",
    "Last week, we covered recursion. This week will be the final Tutorial for this course. In this Tutorial, we will be covering the concept of Associative Collections (namely Dictionaries). Also included in this Tutorial will be several concepts that you should be comfortable with at this point, but if you are having some difficulties, we would highly recommend reviewing them in the Tutorials they were covered in, or in the Lecture Slides they appear in. Some of these topics include (but are not limited to): Functions and Looping Structures.\n",
    "\n",
    "This will be a **graded** Tutorial and you must submit your Tutorial by the end of your respective Tutorial time to receive the credit for it. This Tutorial must be accomplished during the Tutorial time and in the Tutorial Lab at school - we will be taking attendance: submissions by non-attendees will not be considered and an automatic grade of 0 will be given. Otherwise, the milestones for this Tutorial will be as followed:\n",
    "\n",
    "| <p align=\"left\">Milestone</p>                                                       | <p align=\"center\">Associated Grade</p> |\n",
    "|-------------------------------------------------------------------------------------|------------------|\n",
    "| <p align=\"left\">Completing the introductory 'Tutorial' components (prior to the Tutorial Exercises)</p> |        <p align=\"center\">20%</p>       |\n",
    "| <p align=\"left\">Completing the Tutorial Exercises 'halfway' (2 sets of problems)</p>  |        <p align=\"center\">50%</p>       |\n",
    "| <p align=\"left\">Completing the Tutorial Exercises</p>            |        <p align=\"center\">80%</p>       |\n",
    "| <p align=\"left\">Knowledge Quiz (5% per correct response)</p>                                            |    <p align=\"center\">80% - 100%</p>    |\n",
    "\n",
    "Once you are completed the Tutorial, please zip up all the relevant files (i.e. all the downloaded ones and any additional ones you have added) and adhere to the following naming convention:\n",
    "\n",
    "```FirstnameLastname_studentnumber.zip```\n",
    "\n",
    "Example: \n",
    "JohnDoe_100000000.zip<br><br>\n",
    "\n",
    "<div class=warn-title><p class=numberCircleWarn>&nbsp;!!</p> Warning</div>\n",
    "<div class=warn>Be sure to upload this .zip file to CuLearn under the <b>Tutorial 10 Submission</b>.</div>"
   ]
  },
  {
   "cell_type": "markdown",
   "metadata": {
    "deletable": false,
    "editable": false,
    "run_control": {
     "frozen": true
    }
   },
   "source": [
    "### Part 1: Associative Collections\n",
    "A powerful tool that you have made use of for a large portion of this semester is the linear collection. In other words, lists or tuples. As a quick recap, these were a collection of items that always maintained their ordering and that could be accessed with numeric indices ranging from zero to the length of the collection minus one. For example, in the following list:\n",
    "\n",
    "```python\n",
    "a_list = [3, 5, 6, 9]\n",
    "```\n",
    "\n",
    "If we wanted to access the value 6, we would use the following syntax: ```a_list[2]```. The basis here is that one can only access an element by knowing which order in the list in appears. Of course, if one doesn't know, then iterating through to find it is also an option. \n",
    "\n",
    "As an alternative approach to storing things together, we can make use of the associative collection (or dictionary). An associative collection does exactly what the name implies - it stores associations. For example, imagine we have a set of items (say groceries) that have an associated price to them. If we only use linear collections, there are a few different ways to handle them:\n",
    "\n",
    "##### Approach 1: Multiple lists\n",
    "We can store these different things in completely different lists and hope that the order is always maintained. This is not a great solution, but can get the job done.\n",
    "```python\n",
    "item_list = [\"apple\", \"orange\"]\n",
    "cost_list = [0.35, 0.79]\n",
    "```\n",
    "\n",
    "##### Approach 2: Multidimensional lists\n",
    "We can store these different items together in sublists within some master list. This approach makes things cleaner and much more tightly binds the two values together. The downside of course is you'd need to iterate over the entire list everytime you want to find something. Furthermore, it doesn't handle duplicate values at all, and requires writing your own comparisons.\n",
    "```python\n",
    "supply_list = [[\"apple\", 0.35], [\"orange\", 0.79]]\n",
    "```\n",
    "\n",
    "It is at this point that Dictionaries start looking appealing - they store things much in the same way as our second approach, but provide a much simpler interface for accessing elements, checking for duplicate values, and more. A Dictionary is a collection of what are called Key-Value pairs. Every value that you wish to enter into a Dictionary has an associated unique Key to identify them with. If we take our previous example, we can say that the items are the keys and the prices are the values. The syntax of a Dictionary is pretty simple - we denote them using curly braces (```{}```). Inside the curly braces, we separate each entry with commas, and denote each individual item in the following form: ```key: value```. So, our above example looks like this:\n",
    "```python\n",
    "supply_dict = { \"apple\": 0.35, \"orange\": 0.79 }\n",
    "```\n",
    "\n",
    "Okay, sure, it looks a little cleaner. But how does it work? Well, this is where the magic of Dictionaries come into play: let's say that we want to know the price of an Apple. Let's go through each of the above approaches:\n",
    "\n",
    "##### Approach 1: Multiple lists"
   ]
  },
  {
   "cell_type": "code",
   "execution_count": 3,
   "metadata": {
    "deletable": false,
    "editable": false
   },
   "outputs": [
    {
     "name": "stdout",
     "output_type": "stream",
     "text": [
      "The cost of an Apple is: 0.35\n"
     ]
    }
   ],
   "source": [
    "item_list = [\"apple\", \"orange\"]\n",
    "cost_list = [0.35, 0.79]\n",
    "\n",
    "for item_index in range(len(item_list)):\n",
    "    if item_list[item_index] == \"apple\":\n",
    "        print(\"The cost of an Apple is: {}\".format(cost_list[item_index]))"
   ]
  },
  {
   "cell_type": "markdown",
   "metadata": {
    "deletable": false,
    "editable": false,
    "run_control": {
     "frozen": true
    }
   },
   "source": [
    "##### Approach 2: Multidimensional lists"
   ]
  },
  {
   "cell_type": "code",
   "execution_count": 4,
   "metadata": {
    "deletable": false,
    "editable": false
   },
   "outputs": [
    {
     "name": "stdout",
     "output_type": "stream",
     "text": [
      "The cost of an Apple is: 0.35\n"
     ]
    }
   ],
   "source": [
    "supply_list = [[\"apple\", 0.35], [\"orange\", 0.79]]\n",
    "\n",
    "for item in supply_list:\n",
    "    if item[0] == \"apple\":\n",
    "        print(\"The cost of an Apple is: {}\".format(item[1]))"
   ]
  },
  {
   "cell_type": "markdown",
   "metadata": {
    "deletable": false,
    "editable": false,
    "run_control": {
     "frozen": true
    }
   },
   "source": [
    "##### Approach 3: Dictionaries"
   ]
  },
  {
   "cell_type": "code",
   "execution_count": 2,
   "metadata": {
    "deletable": false,
    "editable": false
   },
   "outputs": [
    {
     "name": "stdout",
     "output_type": "stream",
     "text": [
      "The cost of an Apple is: 0.35\n"
     ]
    }
   ],
   "source": [
    "supply_dict = { \"apple\": 0.35, \"orange\": 0.79 }\n",
    "\n",
    "print(\"The cost of an Apple is: {}\".format(supply_dict[\"apple\"]))"
   ]
  },
  {
   "cell_type": "markdown",
   "metadata": {
    "deletable": false,
    "editable": false,
    "run_control": {
     "frozen": true
    }
   },
   "source": [
    "That's right. Rather than providing integer indices, a dictionary takes, as indices, the type of whatever the key is. In this scenario, we're using String-type keys, but that's not a requirement. Keep in mind though that all keys in the dictionary must be unique. The value component of the dictionary can be **any** type of object. This means that strings, lists, tuples, custom classes, functions, and even other dictionaries are fair game. Alright, let's go over some basic syntax:\n",
    "\n",
    "```python\n",
    "a_dict[key] # This is how you access the value of a key\n",
    "```\n",
    "\n",
    "To set it, you can do this:\n",
    "```python\n",
    "a_dict[key] = new_value # This is how you set a new value for key\n",
    "```\n",
    "Please note that for the above, if the key does not already exist in the dictionary, it will make a new one and add it into the dictionary.\n",
    "\n",
    "Finally, to remove or delete an element within a dictionary, one simply uses the ```del``` keyword:\n",
    "```python\n",
    "del a_dict[key]\n",
    "```"
   ]
  },
  {
   "cell_type": "markdown",
   "metadata": {
    "deletable": false,
    "editable": false,
    "run_control": {
     "frozen": true
    }
   },
   "source": [
    "Try making your own now! Convert the following two lists into a dictionary-form (note, do not covert them programmatically. Rather, given the values in this list, just define a new dictionary that contains them).\n",
    "```python\n",
    "key_list = [1, 2, 3, 4, 5, 6, 7]\n",
    "value_list = [True, True, True, False, True, True, True]\n",
    "```"
   ]
  },
  {
   "cell_type": "code",
   "execution_count": 6,
   "metadata": {},
   "outputs": [
    {
     "name": "stdout",
     "output_type": "stream",
     "text": [
      "False\n"
     ]
    }
   ],
   "source": [
    "a_dict = {1:True, 2:True,3:True,4:False,5:True,6:True,7:True}\n",
    "print(a_dict[4])"
   ]
  },
  {
   "cell_type": "markdown",
   "metadata": {
    "deletable": false,
    "editable": false,
    "run_control": {
     "frozen": true
    }
   },
   "source": [
    "Alright, now write a quick function that takes, as an argument, two lists. You can make the following assumptions:\n",
    "- The lists will be the same length\n",
    "- The lists will each contain only 1 type of object (i.e. all strings)\n",
    "- The lists will contain no duplicate values\n",
    "This function must then simply return a dictionary variant of it. Fill in the code below:"
   ]
  },
  {
   "cell_type": "code",
   "execution_count": null,
   "metadata": {
    "collapsed": true
   },
   "outputs": [],
   "source": [
    "def convert_to_dict(key_list = [\"a\", \"b\", \"c\", \"d\"], value_list = [1, 2, 3, 4]):\n",
    "    \n",
    "    # Add your code here.\n",
    "    \n",
    "    return # Change me to a return that makes sense\n",
    "\n",
    "print(convert_to_dict())"
   ]
  },
  {
   "cell_type": "markdown",
   "metadata": {
    "deletable": false,
    "editable": false,
    "run_control": {
     "frozen": true
    }
   },
   "source": [
    "### Part 2: Accessing Both Key/Value in Dictionaries"
   ]
  },
  {
   "cell_type": "markdown",
   "metadata": {
    "deletable": false,
    "editable": false,
    "run_control": {
     "frozen": true
    }
   },
   "source": [
    "Okay, I can see the use for Dictionaries, but how about when I don't know which key it'll be? Or maybe I want to show all the values inside the Dictionary? Well, one can iterate across a Dictionary a few different ways, but below are two of the most common ones:\n",
    "\n",
    "##### Method 1:\n",
    "```python\n",
    "supply_dict = { \"apple\": 0.35, \"orange\": 0.79 }\n",
    "for key in supply_dict:\n",
    "    print(\"{}: {}\".format(key, supply_dict[key]))\n",
    "```\n",
    "\n",
    "##### Method 2:\n",
    "```python\n",
    "supply_dict = { \"apple\": 0.35, \"orange\": 0.79 }\n",
    "for key, value in supply_dict.items():\n",
    "    print(\"{}: {}\".format(key, value))\n",
    "```\n",
    "\n",
    "Both are perfectly acceptable - it really depends of a) if you're permitted to use the .items() function and b) if you'd rather access it via 'indexing' or directly."
   ]
  },
  {
   "cell_type": "markdown",
   "metadata": {
    "deletable": false,
    "editable": false,
    "run_control": {
     "frozen": true
    }
   },
   "source": [
    "## Tutorial Exercises"
   ]
  },
  {
   "cell_type": "markdown",
   "metadata": {
    "deletable": false,
    "editable": false,
    "run_control": {
     "frozen": true
    }
   },
   "source": [
    "Write a complex inventory-building application. To accomplish this, you will be required to write several functions. These functions must include - at minimum - the following: \n",
    "- An overall ```build_inventory()``` function that calls other functions and returns a dictionary\n",
    "    - This function must include a while loop that will keep asking users for more items\n",
    "    - Depending on whether the item exists or not, you must call the appropriate function that you will be defining (see below)\n",
    "    - Please note that the dictionary returned will resemble the following format:\n",
    "        ```python\n",
    "{ name_of_item: { \"cost\": cost, \"quantity\": quantity }, ... }\n",
    "```\n",
    "- A function ```add_new_item()``` that asks the user for 2 inputs at minimum at returns a dictionary\n",
    "    - This function must ask the user (at minimum) for the quantity and cost of the item\n",
    "- A function ```update_item()``` that takes in the items current values and returns the dictionary with the values updated.\n",
    "    - Please note that when asking the user for updated values in this function, you are also required to display the current values first\n",
    "    - You will also require at minimum 2 input statements here\n",
    "- An advanced ```print_inventory()``` function that prints out the entire inventory nicely. This means no braces {}, square brackets ([]), etc.\n",
    "\n",
    "Please note, to help with debugging, it may be useful to write each function in a separate cell. If you wish to do so, you may create a new cell in Jupyter by clicking on the + icon beside the save icon above. Please note also that it will create a new cell directly below the cell that's currently in focus."
   ]
  },
  {
   "cell_type": "code",
   "execution_count": null,
   "metadata": {},
   "outputs": [],
   "source": [
    "def build_inventory():\n",
    "    itemdictionary = {} \n",
    "    while True:\n",
    "        item = input(\"Enter the item to add: \")\n",
    "        if item in itemdictionary:\n",
    "            update_item(itemdictionary,item)\n",
    "        else:\n",
    "            add_new_item(itemdictionary,item)\n",
    "        userquit = input(\"Would you like to quit? (y/n): \")\n",
    "        if userquit == \"y\":\n",
    "            return itemdictionary\n",
    "            break\n",
    "       \n",
    "            \n",
    "def add_new_item(itemdictionary,item):\n",
    "    quant = input(\"Enter quantity: \")\n",
    "    cost = float(input(\"Enter cost: \"))\n",
    "    itemdictionary[item] = [quant,cost]\n",
    "    return itemdictionary\n",
    "def update_item(itemdictionary, item):\n",
    "    print(itemdictionary[item])\n",
    "    newquant = float(input(\"Enter new quantity: \"))\n",
    "    newcost = float(input(\"Enter new cost: \"))\n",
    "    itemdictionary[item] = [newquant,newcost]\n",
    "def print_inventory(itemdictionary):\n",
    "    for key, value in itemdictionary.items():\n",
    "        print(\"{}\\nQuantity: {}\\nCost: {}\".format(key, value[0],value[1]))\n",
    "        \n",
    "def main():\n",
    "    inventory = build_inventory()\n",
    "    print_inventory(inventory)\n",
    "main()"
   ]
  },
  {
   "cell_type": "code",
   "execution_count": 20,
   "metadata": {
    "deletable": false,
    "editable": false
   },
   "outputs": [
    {
     "name": "stdout",
     "output_type": "stream",
     "text": [
      "Enter the item to add: apple\n",
      "Enter quantity: 3\n",
      "Enter cost: 2.5\n",
      "Would you like to quit? (y/n): n\n",
      "Enter the item to add: apple \n",
      "Enter quantity: 3\n",
      "Enter cost: 2\n",
      "Would you like to quit? (y/n): y\n",
      "apple\n",
      "Quantity: 3\n",
      "Cost: 2.5\n",
      "apple \n",
      "Quantity: 3\n",
      "Cost: 2.0\n"
     ]
    }
   ],
   "source": [
    "def main():\n",
    "    inventory = build_inventory()\n",
    "    print_inventory(inventory)\n",
    "main()"
   ]
  },
  {
   "cell_type": "markdown",
   "metadata": {
    "deletable": false,
    "editable": false,
    "run_control": {
     "frozen": true
    }
   },
   "source": [
    "## Knowledge Test"
   ]
  },
  {
   "cell_type": "markdown",
   "metadata": {
    "deletable": false,
    "editable": false,
    "run_control": {
     "frozen": true
    }
   },
   "source": [
    "To cap off this Tutorial, complete the following test of knowledge. Please answer the following question(s) to the best of your ability. Try to complete this without consulting the notes above if possible. As mentioned in the milestones above, each question is worth a possible 5%, with no part marks possible."
   ]
  },
  {
   "cell_type": "markdown",
   "metadata": {},
   "source": [
    "*(1) What type can the Value component of Dictionaries be?*\n",
    "***"
   ]
  },
  {
   "cell_type": "markdown",
   "metadata": {
    "collapsed": true
   },
   "source": [
    "anything you set it to"
   ]
  },
  {
   "cell_type": "markdown",
   "metadata": {
    "deletable": false,
    "editable": false,
    "run_control": {
     "frozen": true
    }
   },
   "source": [
    "*(2) How would you access the value of \"apple\" in some dictionary called ```some_dictionary```?*\n",
    "***"
   ]
  },
  {
   "cell_type": "markdown",
   "metadata": {
    "collapsed": true
   },
   "source": [
    "some_dictionary[\"apple\"]"
   ]
  },
  {
   "cell_type": "markdown",
   "metadata": {
    "deletable": false,
    "editable": false,
    "run_control": {
     "frozen": true
    }
   },
   "source": [
    "*(3) Suppose that we try the following:*\n",
    "```python\n",
    "a_dict = { \"apple\": 0.35, \"pear\": 0.80 }\n",
    "\n",
    "a_dict[\"orange\"] += 0.10\n",
    "```\n",
    "*What would happen?*\n",
    "***"
   ]
  },
  {
   "cell_type": "markdown",
   "metadata": {
    "collapsed": true
   },
   "source": [
    "it would work if there was an item called orange in the dictionary but there isnt, so it would produce an error"
   ]
  },
  {
   "cell_type": "markdown",
   "metadata": {
    "deletable": false,
    "editable": false,
    "run_control": {
     "frozen": true
    }
   },
   "source": [
    "*(4) Suppose that you implemented some form of error checking for your dictionary to try to make sure that slight spelling mistakes don't create new items. Ignoring the specifics of how such an system would actually identify and match these potential spelling errors, how would you then remove an element that was deemed a duplicate from the dictionary?*\n",
    "```\n",
    "***"
   ]
  },
  {
   "cell_type": "markdown",
   "metadata": {
    "collapsed": true
   },
   "source": [
    "del dictionaryname[itemduplicate]"
   ]
  },
  {
   "cell_type": "markdown",
   "metadata": {
    "deletable": false,
    "editable": false,
    "run_control": {
     "frozen": true
    }
   },
   "source": [
    "***\n",
    "## Resources / References\n",
    "<br>\n",
    "<div class=note-title><p class=numberCircleNote>R</p> External Resources</div>\n",
    "<div class=note></div>\n",
    "<br>\n",
    "<div class=note-title><p class=numberCircleNote>iR</p> Internal Resources</div>\n",
    "<div class=note></div>\n",
    "\n",
    "\n",
    "***\n",
    "## Appendix\n",
    "The following section will contain some code vital to the visual component of this Tutorial Specification. Note that any code found in the section will not impact any code being run, though it is highly recommended to re-run the cells here if you have cleared the output of ALL cells."
   ]
  },
  {
   "cell_type": "code",
   "execution_count": 1,
   "metadata": {
    "deletable": false,
    "editable": false,
    "hide_input": true,
    "init_cell": true,
    "run_control": {
     "frozen": true
    }
   },
   "outputs": [
    {
     "data": {
      "text/html": [
       "<style>\n",
       "div.warn {    \n",
       "    background-color: #ffe6e6;\n",
       "    padding: 0.5em;\n",
       "    padding-left: 1em;\n",
       "}\n",
       "div.warn-title { \n",
       "    background-color: #cc0000;\n",
       "    color: #FFFFFF;\n",
       "    padding-left: 0.75em;\n",
       "    font-weight: bold;\n",
       "}\n",
       "\n",
       ".numberCircleWarn {\n",
       "    border-radius: 50%;\n",
       "    behavior: url(PIE.htc);\n",
       "    display: inline-block;\n",
       "    /* remove if you don't care about IE8 */\n",
       "    width: 18px;\n",
       "    height: 18px;\n",
       "    padding: 3px;\n",
       "    background: #ffffff;\n",
       "    color: #cc0000;\n",
       "    text-align: center;\n",
       "    font: 12px Arial, sans-serif;\n",
       "}\n",
       "\n",
       "div.note {\n",
       "    background-color: #e6f2ff;\n",
       "    padding: 0.5em;\n",
       "    padding-left: 1em;\n",
       "}\n",
       "\n",
       "div.note-title {\n",
       "    background-color: #80bdff;\n",
       "    color: #FFFFFF;\n",
       "    padding-left: 0.75em;\n",
       "    font-weight: bold;\n",
       "}\n",
       "\n",
       ".numberCircleNote {\n",
       "    border-radius: 50%;\n",
       "    behavior: url(PIE.htc);\n",
       "    display: inline-block;\n",
       "    /* remove if you don't care about IE8 */\n",
       "    width: 18px;\n",
       "    height: 18px;\n",
       "    padding: 3px;\n",
       "    background: #ffffff;\n",
       "    color: #80bdff;\n",
       "    text-align: center;\n",
       "    font: 12px Arial, sans-serif;\n",
       "    font-weight: bold;\n",
       "}\n",
       "\n",
       "div.success {\n",
       "    background-color: #e6fff3;\n",
       "    padding: 0.5em;\n",
       "    padding-left: 1em;\n",
       "}\n",
       "\n",
       "div.success-title {\n",
       "    background-color: #009933;\n",
       "    color: #FFFFFF;\n",
       "    padding-left: 0.75em;\n",
       "    font-weight: bold;\n",
       "}\n",
       "\n",
       ".numberCircleSuccess {\n",
       "    border-radius: 50%;\n",
       "    behavior: url(PIE.htc);\n",
       "    display: inline-block;\n",
       "    /* remove if you don't care about IE8 */\n",
       "    width: 18px;\n",
       "    height: 18px;\n",
       "    padding: 3px;\n",
       "    background: #ffffff;\n",
       "    color: #009933;\n",
       "    text-align: center;\n",
       "    font: 12px Arial, sans-serif;\n",
       "    line-height: 1.2;\n",
       "}\n",
       "\n",
       "div.code {\n",
       "    background-color: #f9e6ff;\n",
       "    padding: 0.5em;\n",
       "    padding-left: 1em;\n",
       "}\n",
       "\n",
       "div.code-title {\n",
       "    background-color: #730099;\n",
       "    color: #FFFFFF;\n",
       "    padding-left: 0.75em;\n",
       "    font-weight: bold;\n",
       "}\n",
       "\n",
       ".numberCircleCode {\n",
       "    border-radius: 50%;\n",
       "    behavior: url(PIE.htc);\n",
       "    display: inline-block;\n",
       "    /* remove if you don't care about IE8 */\n",
       "    width: 18px;\n",
       "    height: 18px;\n",
       "    padding: 3px;\n",
       "    background: #ffffff;\n",
       "    color: #730099;\n",
       "    text-align: center;\n",
       "    font: 12px Arial, sans-serif;\n",
       "}\n",
       "</style>"
      ],
      "text/plain": [
       "<IPython.core.display.HTML object>"
      ]
     },
     "execution_count": 1,
     "metadata": {},
     "output_type": "execute_result"
    }
   ],
   "source": [
    "from IPython.core.display import HTML\n",
    "def css_styling():\n",
    "    styles = open(\"./Resources/stylesheet.css\", \"r\").read()\n",
    "    return HTML(styles)\n",
    "css_styling()"
   ]
  }
 ],
 "metadata": {
  "kernelspec": {
   "display_name": "Python 3",
   "language": "python",
   "name": "python3"
  },
  "language_info": {
   "codemirror_mode": {
    "name": "ipython",
    "version": 3
   },
   "file_extension": ".py",
   "mimetype": "text/x-python",
   "name": "python",
   "nbconvert_exporter": "python",
   "pygments_lexer": "ipython3",
   "version": "3.6.8"
  }
 },
 "nbformat": 4,
 "nbformat_minor": 2
}
