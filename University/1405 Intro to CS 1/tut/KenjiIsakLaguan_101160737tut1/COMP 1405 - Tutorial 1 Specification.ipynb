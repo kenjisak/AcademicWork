{
 "cells": [
  {
   "cell_type": "markdown",
   "metadata": {
    "deletable": false,
    "editable": false,
    "run_control": {
     "frozen": true
    }
   },
   "source": [
    "**COMP 1405 - Introduction to Computer Science I (Fall 2018)** <img style=\"float: right; height: 50px;\" src=\"Resources/carleton.png\"><br>\n",
    "\n",
    "*Specification for Tutorial 1 / 10*\n",
    "\n",
    "***"
   ]
  },
  {
   "cell_type": "markdown",
   "metadata": {
    "deletable": false,
    "editable": false,
    "run_control": {
     "frozen": true
    }
   },
   "source": [
    "## Tutorial 1: Variables and PyGame\n",
    "\n",
    "This tutorial will be your first \\*Official\\* Tutorial this semester. This Tutorial focuses on the concept of variables and introduces a visual library that we will be making extensive use of this semester: PyGame. Your goal by the end of this Tutorial is to develop a good understanding of how variables work, as well as a reasonable understanding of how to set up a basic PyGame application.\n",
    "\n",
    "This will be a **graded** Tutorial and you must submit your Tutorial by the end of your respective Tutorial time to receive the credit for it. This Tutorial must be accomplished during the Tutorial time and in the Tutorial Lab at school - we will be taking attendance: submissions by non-attendees will not be considered and an automatic grade of 0 will be given. Otherwise, the milestones for this Tutorial will be as followed:\n",
    "\n",
    "| <p align=\"left\">Milestone</p>                                                       | <p align=\"center\">Associated Grade</p> |\n",
    "|-------------------------------------------------------------------------------------|------------------|\n",
    "| <p align=\"left\">Completing the introductory 'Tutorial' components (prior to the Tutorial Exercises)</p> |        <p align=\"center\">20%</p>       |\n",
    "| <p align=\"left\">Completing the Tutorial Exercises 'halfway' (4 shapes, 2 colors, background color)</p>  |        <p align=\"center\">50%</p>       |\n",
    "| <p align=\"left\">Completing the Tutorial Exercises (8 shapes, 2 colors, background color)</p>            |        <p align=\"center\">80%</p>       |\n",
    "| <p align=\"left\">Knowledge Quiz (5% per correct response)</p>                                            |    <p align=\"center\">80% - 100%</p>    |\n",
    "\n",
    "Once you are completed the Tutorial, please zip up all the relevant files (i.e. all the downloaded ones and any additional ones you have added) and adhere to the following naming convention:\n",
    "\n",
    "```FirstnameLastname_studentnumber.zip```\n",
    "\n",
    "Example: \n",
    "JohnDoe_100000000.zip<br><br>\n",
    "\n",
    "<div class=warn-title><p class=numberCircleWarn>&nbsp;!!</p> Warning</div>\n",
    "<div class=warn>Be sure to upload this .zip file to CuLearn under the <b>Tutorial 01 Submission</b>.</div>"
   ]
  },
  {
   "cell_type": "markdown",
   "metadata": {
    "deletable": false,
    "editable": false,
    "run_control": {
     "frozen": true
    }
   },
   "source": [
    "### Part 1: Introduction to PyGame\n",
    "<img style=\"height: 100px;\" src=\"Resources\\pygame.png\">\n",
    "PyGame is a specialized library for making games in Python. To make things a bit more visual in the hopes of promoting more in-depth understanding, we will be making extensive use of PyGame to demonstrate various concepts in coding. This Tutorial will cover the basics of PyGame such that you should be able to make a very simple, static window appear on-screen. To get access to PyGame, you must first import it. Run the following cell to import PyGame."
   ]
  },
  {
   "cell_type": "code",
   "execution_count": null,
   "metadata": {
    "deletable": false,
    "editable": false
   },
   "outputs": [],
   "source": [
    "import pygame"
   ]
  },
  {
   "cell_type": "markdown",
   "metadata": {
    "deletable": false,
    "editable": false,
    "run_control": {
     "frozen": true
    }
   },
   "source": [
    "Including that snippet of code at the beginning of your script will give you access to PyGame's features. This Tutorial has provided it for you, but in the future you will be expected to include this yourselves. Failure to include this will mean that none of the PyGame commands/functions/classes will work."
   ]
  },
  {
   "cell_type": "markdown",
   "metadata": {
    "deletable": false,
    "editable": false,
    "run_control": {
     "frozen": true
    }
   },
   "source": [
    "### Part 2: Defining Some Color Variables\n",
    "Defining variables is a fairly simple task in Python - simply provide a **unique** variable name before giving it a value. The exact structure is as followed:\n",
    "<br><br>\n",
    "<div class=code-title><p class=numberCircleCode>&lt;&gt;</p> Code</div>\n",
    "<div class=\"code\">\n",
    "    <pre style=\"background-color: #f9e6ff;\"><code class=\"language-python\" style=\"background-color: #f9e6ff;\">variable_name = some_value</code></pre>\n",
    "</div>\n",
    "\n",
    "The single equal sign represents the ```assignment``` expression and is crucial for assigning a value to a given variable. The value to the right of the assignment expression is the value you're assigning. For example, let's run the following cell."
   ]
  },
  {
   "cell_type": "code",
   "execution_count": null,
   "metadata": {
    "deletable": false,
    "editable": false
   },
   "outputs": [],
   "source": [
    "# Assigning the value of 25 to the variable 'var_x'\n",
    "var_x = 25\n",
    "# Printing out the value stored within the variable 'var_x'\n",
    "print(var_x)"
   ]
  },
  {
   "cell_type": "markdown",
   "metadata": {
    "deletable": false,
    "editable": false,
    "run_control": {
     "frozen": true
    }
   },
   "source": [
    "Variables are seldom that simple though. Let's move on to a more topical example - when working with colors, we make use of a special class of object called a ```tuple```. A ```tuple``` is a unmodifiable list of values. In our case, these values are integers and the total number of integers we need in our tuple is 3. These 3 values represent the R-G-B (Red, Green, Blue) values. \n",
    "<br><br>\n",
    "<div class=note-title><p class=numberCircleNote>&nbsp;i</p> Note</div>\n",
    "<div class=note>\n",
    "    To gain a better understanding of how RGB color values work, refer to the following [color-wheel](https://htmlcolorcodes.com/color-picker/).\n",
    "</div>\n",
    "\n",
    "Let's save the value for the color Black as an example of this in practice. Run the code below for the color Black. Note that, by convention, any variable's value of which we do not intend to ever modify is written in ALL CAPS. This convention allows programmers to see, at a glance, that this variable is what is known as a constant - or unchanging variable."
   ]
  },
  {
   "cell_type": "code",
   "execution_count": null,
   "metadata": {
    "deletable": false,
    "editable": false
   },
   "outputs": [],
   "source": [
    "BLACK = (0, 0, 0)"
   ]
  },
  {
   "cell_type": "markdown",
   "metadata": {
    "deletable": false,
    "editable": false,
    "run_control": {
     "frozen": true
    }
   },
   "source": [
    "Okay, we'll need a lot more than just one color though. Add variables for at least 4 other colors, including pure white. Be creative in your color choices - ```(0, 255, 0)``` as Green is not a good answer."
   ]
  },
  {
   "cell_type": "code",
   "execution_count": null,
   "metadata": {},
   "outputs": [],
   "source": [
    "MIDNIGHT = (43, 27, 23)\n",
    "PURE_WHITE = (255,255,255)\n",
    "BLOSSOM_PINK = (249, 183, 255)\n",
    "AZTECH_PURPLE = (137, 59, 255)"
   ]
  },
  {
   "cell_type": "markdown",
   "metadata": {
    "deletable": false,
    "editable": false,
    "run_control": {
     "frozen": true
    }
   },
   "source": [
    "### Part 3: Setting up PyGame to Use\n",
    "Okay, now that we've imported our PyGame library and we've defined all our colors, there are a few more details that need to be handled first. Whenever you need to use PyGame, you must include the following:\n",
    "\n",
    "- A Screen Size\n",
    "- Initializing PyGame\n",
    "- Updating PyGame\n",
    "- Delaying PyGame\n",
    "- Quitting PyGame\n",
    "\n",
    "Let's approach these one at a time.\n",
    "#### Part 3.1: Setting up the Screen Size\n",
    "While simple, this step is crucial if you want a window to appear on the screen. A screen size is a variable of the type ```tuple``` that consists of 2 values - the X pixel value (or width) of the screen and the Y pixel value (or height of the screen). The order of this matters greatly - keep the following format: (WIDTH, HEIGHT). For this example, we'll keep it at a reasonable size of 700 pixels by 700 pixels. Write some code to define a variable called ```screen_size``` and give it the appropriate value."
   ]
  },
  {
   "cell_type": "code",
   "execution_count": null,
   "metadata": {},
   "outputs": [],
   "source": [
    "screen_size = (700,700)"
   ]
  },
  {
   "cell_type": "markdown",
   "metadata": {
    "deletable": false,
    "editable": false
   },
   "source": [
    "#### Part 3.2: Initializing PyGame\n",
    "To start drawing onto the screen, you must first initialize PyGame. To do so, you must include the following line of code right before any code concerning PyGame. When you begin writing your PyGame code, include this line as the first line of that cell.\n",
    "<br><br>\n",
    "<div class=code-title><p class=numberCircleCode>&lt;&gt;</p> Code</div>\n",
    "<div class=\"code\">\n",
    "    <pre style=\"background-color: #f9e6ff;\"><code class=\"language-python\" style=\"background-color: #f9e6ff;\">pygame.display.init()</code></pre>\n",
    "</div>\n",
    "\n",
    "#### Part 3.3: Updating PyGame\n",
    "To actually display the shapes or changes your making/drawing on the window, you'll need to make sure to call the update function. Include the following line of code, for now, after all your drawing code.\n",
    "<br><br>\n",
    "<div class=code-title><p class=numberCircleCode>&lt;&gt;</p> Code</div>\n",
    "<div class=\"code\">\n",
    "    <pre style=\"background-color: #f9e6ff;\"><code class=\"language-python\" style=\"background-color: #f9e6ff;\">pygame.display.update()</code></pre>\n",
    "</div>\n",
    "\n",
    "#### Part 3.4: Delaying PyGame\n",
    "Sometimes, it's nice to have a program stay open for longer than 0 seconds. While the function has a ton of other usages, we'll be using the ```pygame.time.delay(..)``` function to keep our PyGame window open for a time. The function is extremely simply - just provide the length of time in ms that you want the program to wait. Include this after the update function above.\n",
    "<br><br>\n",
    "<div class=code-title><p class=numberCircleCode>&lt;&gt;</p> Code</div>\n",
    "<div class=\"code\">\n",
    "    <pre style=\"background-color: #f9e6ff;\"><code class=\"language-python\" style=\"background-color: #f9e6ff;\">pygame.time.delay(5000)</code></pre>\n",
    "</div>\n",
    "\n",
    "#### Part 3.5: Quitting PyGame\n",
    "Finally, without the following line of code, the program will crash fairly spectacularly and kill the Python kernel. Of course, it'll get rebooted without any harm done, but we still want to avoid this at all cost. So, include the following line after the time delaying function above to gracefully quit the program.\n",
    "<br><br>\n",
    "<div class=code-title><p class=numberCircleCode>&lt;&gt;</p> Code</div>\n",
    "<div class=\"code\">\n",
    "    <pre style=\"background-color: #f9e6ff;\"><code class=\"language-python\" style=\"background-color: #f9e6ff;\">pygame.quit()</code></pre>\n",
    "</div>"
   ]
  },
  {
   "cell_type": "markdown",
   "metadata": {
    "deletable": false,
    "editable": false,
    "run_control": {
     "frozen": true
    }
   },
   "source": [
    "#### Part 3.6: The Complete Minimal PyGame Example\n",
    "The following cell contains a minimal working example that puts together everything from the last few sections together. If you haven't been following along, be sure to at least run the import cell and the defining of the color WHITE from above - the program will not work otherwise. Feel free to run the cell to see how it works - it should pop right up in the forefront and disappear within 5 seconds. **If it doesn't appear in the front of your Browser, don't worry - just let it close, then click back on the cell and try again. It should fix itself by the second run.**"
   ]
  },
  {
   "cell_type": "code",
   "execution_count": null,
   "metadata": {
    "deletable": false,
    "editable": false
   },
   "outputs": [],
   "source": [
    "# Initializing PyGame...\n",
    "pygame.display.init()\n",
    "# Defining the Screen Size\n",
    "screen_size = (700, 700)\n",
    "# Generating the Screen itself. Include this always here\n",
    "screen = pygame.display.set_mode(screen_size)\n",
    "# Filling the Screen with the color WHITE\n",
    "screen.fill(WHITE)\n",
    "# Updating PyGame to see the change\n",
    "pygame.display.update()\n",
    "# Setting a 5 second (5000 ms) delay for the Window to stay open\n",
    "pygame.time.delay(5000)\n",
    "# Quitting PyGame.\n",
    "pygame.quit()"
   ]
  },
  {
   "cell_type": "markdown",
   "metadata": {
    "deletable": false,
    "editable": false,
    "run_control": {
     "frozen": true
    }
   },
   "source": [
    "### Part 4: Drawing Shapes\n",
    "A pure white window, while so cool is, well, let's face it, pretty uncool. Its plain and doesn't do anything. Well, let's spice things up a bit now. This section will provide a brief introduction into drawing shapes onto our boring white screen. There are many shapes possible, but we will focus on 3 in this Tutorial - the ```Circle```, the ```Rectangle```, and the ```Polygon```. \n",
    "\n",
    "#### Part 4.1: Drawing a Circle\n",
    "The command to draw a Circle is fairly packed - it requires 4 distinct parameters! The first one would be the surface on which you would like to draw your circle. In this case, and in all cases for the remainder of this course, you will be drawing on the ```screen``` variable. The second parameter is the color of the Circle. You should have defined several colors above, so simple refer to one of these here. The third parameter is the X, Y pixel location of the center of your Circle (remember, the Y-axis is inverted in computer programming!!). Finally, the last parameter is the radius (as an integer) of the Circle. The cell below demonstrates the commands for a Circle. The command is the following:\n",
    "<br><br>\n",
    "<div class=code-title><p class=numberCircleCode>&lt;&gt;</p> Code</div>\n",
    "<div class=\"code\">\n",
    "    <pre style=\"background-color: #f9e6ff;\"><code class=\"language-python\" style=\"background-color: #f9e6ff;\">pygame.draw.circle(screen, color, (X, Y), RADIUS)</code></pre>\n",
    "</div>"
   ]
  },
  {
   "cell_type": "code",
   "execution_count": null,
   "metadata": {
    "deletable": false,
    "editable": false
   },
   "outputs": [],
   "source": [
    "# Initializing PyGame...\n",
    "pygame.display.init()\n",
    "# Defining the Screen Size\n",
    "screen_size = (700, 700)\n",
    "# Generating the Screen itself. Include this always here\n",
    "screen = pygame.display.set_mode(screen_size)\n",
    "# Filling the Screen with the color WHITE\n",
    "screen.fill(WHITE)\n",
    "\n",
    "# ------------------------------\n",
    "#       Drawing the Circle\n",
    "pygame.draw.circle(screen, BLACK, (350, 350), 25)\n",
    "# ------------------------------\n",
    "\n",
    "# Updating PyGame to see the change\n",
    "pygame.display.update()\n",
    "# Setting a 5 second (5000 ms) delay for the Window to stay open\n",
    "pygame.time.delay(5000)\n",
    "# Quitting PyGame.\n",
    "pygame.quit()"
   ]
  },
  {
   "cell_type": "markdown",
   "metadata": {
    "deletable": false,
    "editable": false,
    "run_control": {
     "frozen": true
    }
   },
   "source": [
    "#### Part 4.2: Drawing a Rectangle\n",
    "The command for a Rectangle is a tad simple and yet a bit more complex than the Circle; it requires 3 parameters. The first parameter, like the Circle, is the surface to be drawn on. Again, use ```Screen```. The second is, again, the color. Finally, the third parameter is the big one - it accepts a tuple of 4 values. The values, in order, are as followed: X coordinate of the top-left corner of the Rectangle, Y coordinate of the top-left corner of the Rectangle, the width of the rectangle, and the height of the rectangle. Like the Circle, all these values are integers. The cell below will demonstrate a basic example of a Rectangle being drawn. The command is the following:\n",
    "<br><br>\n",
    "<div class=code-title><p class=numberCircleCode>&lt;&gt;</p> Code</div>\n",
    "<div class=\"code\">\n",
    "    <pre style=\"background-color: #f9e6ff;\"><code class=\"language-python\" style=\"background-color: #f9e6ff;\">pygame.draw.rect(screen, color, (X, Y, WIDTH, HEIGHT))</code></pre>\n",
    "</div>"
   ]
  },
  {
   "cell_type": "code",
   "execution_count": null,
   "metadata": {
    "deletable": false,
    "editable": false
   },
   "outputs": [],
   "source": [
    "# Initializing PyGame...\n",
    "pygame.display.init()\n",
    "# Defining the Screen Size\n",
    "screen_size = (700, 700)\n",
    "# Generating the Screen itself. Include this always here\n",
    "screen = pygame.display.set_mode(screen_size)\n",
    "# Filling the Screen with the color WHITE\n",
    "screen.fill(WHITE)\n",
    "\n",
    "# ------------------------------\n",
    "#     Drawing the Rectangle\n",
    "pygame.draw.rect(screen, BLACK, (300, 300, 100, 100))\n",
    "# ------------------------------\n",
    "\n",
    "# Updating PyGame to see the change\n",
    "pygame.display.update()\n",
    "# Setting a 5 second (5000 ms) delay for the Window to stay open\n",
    "pygame.time.delay(5000)\n",
    "# Quitting PyGame.\n",
    "pygame.quit()"
   ]
  },
  {
   "cell_type": "markdown",
   "metadata": {
    "deletable": false,
    "editable": false,
    "run_control": {
     "frozen": true
    }
   },
   "source": [
    "#### 4.3: Drawing a Polygon\n",
    "Finally, the most versatile of the shapes is the Polygon. It also only requires 3 parameters, though the important one here is the last parameter. The first and the second are, like the Circle and the Rectangle, the surface and the color respectively. The third parameter is a tuple of indeterminate size - it contains, sequentially, all the vertices you want your Polygon to have. The format of this is essentially ```((x1, y1), (x2, y2), ...)```. The following cell shows a basic Polygon being drawn. The command is the following:\n",
    "<br><br>\n",
    "<div class=code-title><p class=numberCircleCode>&lt;&gt;</p> Code</div>\n",
    "<div class=\"code\">\n",
    "    <pre style=\"background-color: #f9e6ff;\"><code class=\"language-python\" style=\"background-color: #f9e6ff;\">pygame.draw.polygon(screen, color, ((X1, Y1), (X2, Y2), (X3, Y3), ...))</code></pre>\n",
    "</div>"
   ]
  },
  {
   "cell_type": "code",
   "execution_count": null,
   "metadata": {
    "deletable": false,
    "editable": false
   },
   "outputs": [],
   "source": [
    "# Initializing PyGame...\n",
    "pygame.display.init()\n",
    "# Defining the Screen Size\n",
    "screen_size = (700, 700)\n",
    "# Generating the Screen itself. Include this always here\n",
    "screen = pygame.display.set_mode(screen_size)\n",
    "# Filling the Screen with the color WHITE\n",
    "screen.fill(WHITE)\n",
    "\n",
    "# ------------------------------\n",
    "#     Drawing the Polygon\n",
    "pygame.draw.polygon(screen, BLACK, ((300, 400), (400, 400), (350, 300)))\n",
    "# ------------------------------\n",
    "\n",
    "# Updating PyGame to see the change\n",
    "pygame.display.update()\n",
    "# Setting a 5 second (5000 ms) delay for the Window to stay open\n",
    "pygame.time.delay(5000)\n",
    "# Quitting PyGame.\n",
    "pygame.quit()"
   ]
  },
  {
   "cell_type": "markdown",
   "metadata": {
    "deletable": false,
    "editable": false,
    "run_control": {
     "frozen": true
    }
   },
   "source": [
    "## Tutorial Exercises\n",
    "<div style=\"text-align: center;\"><img style=\"height: 100px; width=25%; display: inline;\" src=\"Resources\\stick1.png\">&nbsp;<img style=\"height: 100px; width=25%; display: inline;\" src=\"Resources\\stick2.png\">&nbsp;<img style=\"height: 100px; width=25%; display: inline;\" src=\"Resources\\stick3.png\">&nbsp;<img style=\"height: 100px; width=25%; display: inline;\" src=\"Resources\\stick4.png\"></div>\n",
    "\n",
    "Your exercise for this Tutorial is to combine all the knowledge above and, to the best of your abilities, try to draw a Stick Figure onto the screen. To do so, make use of the following:\n",
    "- 8 Shapes drawn, at minimum. Multiple copies of each shape is definitely allowed, though you should at have least 1 of each of the 3 basic kinds.\n",
    "- 2 Colors used, as defined above yourself. These cannot include the Black and White.\n",
    "- Background color must not be Black or White - choose the third color you defined and didn't use for the Stick Figure."
   ]
  },
  {
   "cell_type": "code",
   "execution_count": 3,
   "metadata": {},
   "outputs": [],
   "source": [
    "import pygame \n",
    "\n",
    "pygame.display.init()\n",
    "screen_size = (1000,1000)\n",
    "screen = pygame.display.set_mode(screen_size)\n",
    "\n",
    "LIGHT_SKY_BLUE = (130, 202, 250) \n",
    "GRAY = (115, 111, 110)\n",
    "STEEL_BLUE = (72, 99, 160)\n",
    "\n",
    "screen.fill(LIGHT_SKY_BLUE)\n",
    "\n",
    "pygame.draw.rect(screen,GRAY,(500,300,100,400),0)#torso1\n",
    "\n",
    "pygame.draw.rect(screen,STEEL_BLUE,(500,700,30,200),0)#left leg2\n",
    "pygame.draw.rect(screen,STEEL_BLUE,(570,700,30,200),0)#right leg3\n",
    "\n",
    "pygame.draw.circle(screen,STEEL_BLUE,(550,265),70,0)#head4\n",
    "pygame.draw.circle(screen,STEEL_BLUE,(300,600),20,0)#left side hand5\n",
    "pygame.draw.circle(screen,STEEL_BLUE,(800,600),20,0)#right side hand6\n",
    "\n",
    "pygame.draw.polygon(screen,STEEL_BLUE,[(500,350),(300,600),(500,400)],0)#left side arm7\n",
    "pygame.draw.polygon(screen,STEEL_BLUE,[(600,350),(800,600),(600,400)],0)#right side arm8\n",
    "\n",
    "pygame.display.update()\n",
    "pygame.time.delay(5000)\n",
    "pygame.quit()"
   ]
  },
  {
   "cell_type": "markdown",
   "metadata": {
    "deletable": false,
    "editable": false,
    "run_control": {
     "frozen": true
    }
   },
   "source": [
    "## Knowledge Test\n",
    "To cap off this Tutorial, complete the following test of knowledge. Please answer the following question(s) to the best of your ability. Try to complete this without consulting the notes above if possible. As mentioned in the milestones above, each question is worth a possible 5%, with no part marks possible.\n",
    "\n",
    "*(1) What must you include at the very start of any potential PyGame application to gain access to all the PyGame functions/classes/etc.? Don't forget to change your cell to Markdown for your response.*\n",
    "***"
   ]
  },
  {
   "cell_type": "markdown",
   "metadata": {},
   "source": [
    "import pygame"
   ]
  },
  {
   "cell_type": "markdown",
   "metadata": {
    "deletable": false,
    "editable": false,
    "run_control": {
     "frozen": true
    }
   },
   "source": [
    "*(2) If you want to avoid crashing the Python kernel, what must you include the end of any PyGame application? Don't forget to change your cell to Markdown for your response.*\n",
    "***"
   ]
  },
  {
   "cell_type": "markdown",
   "metadata": {},
   "source": [
    "pygame.quit()"
   ]
  },
  {
   "cell_type": "markdown",
   "metadata": {
    "deletable": false,
    "editable": false,
    "run_control": {
     "frozen": true
    }
   },
   "source": [
    "*(3) Observe the following snippet of code - the program seems to do almost nothing. It runs, but the ends immediately and no screen is visible. What should be added in to fix this to ensure the screen is actually displayed? Make the change yourself to the code.*\n",
    "***"
   ]
  },
  {
   "cell_type": "code",
   "execution_count": null,
   "metadata": {},
   "outputs": [],
   "source": [
    "# Initializing PyGame...\n",
    "pygame.display.init()\n",
    "# Defining the Screen Size\n",
    "screen_size = (700, 700)\n",
    "# Generating the Screen itself. Include this always here\n",
    "screen = pygame.display.set_mode(screen_size)\n",
    "# Filling the Screen with the color WHITE\n",
    "screen.fill(WHITE)\n",
    "\n",
    "#    Drawing something ...\n",
    "# --------------------------\n",
    "\n",
    "# Pretend there's something here.\n",
    "\n",
    "# --------------------------\n",
    "\n",
    "# Updating PyGame to see the change\n",
    "pygame.display.update()\n",
    "# Allows for the window to stay open for 3 seconds(edit)\n",
    "pygame.time.delay(3000)\n",
    "# Quitting PyGame.\n",
    "pygame.quit()"
   ]
  },
  {
   "cell_type": "markdown",
   "metadata": {
    "deletable": false,
    "editable": false,
    "run_control": {
     "frozen": true
    }
   },
   "source": [
    "*(4) Create four simple variables containing the RGB component values of the following colors: Magenta, Cyan, and Periwinkle. We're not looking for an exact match, but rather a close-enough approximation will be sufficient. Be sure to name your variables properly and provide a comment label for each.*\n",
    "***"
   ]
  },
  {
   "cell_type": "code",
   "execution_count": null,
   "metadata": {},
   "outputs": [],
   "source": [
    "MAGENTA = (255, 0, 255)#RGB colour value assign to magenta variable\n",
    "CYAN = (0, 255, 255)#RGB colour value assign to cyan variable\n",
    "PERIWINKLE = (233, 207, 236)#RGB colour value assign to periwinkle variable"
   ]
  },
  {
   "cell_type": "markdown",
   "metadata": {
    "deletable": false,
    "editable": false,
    "run_control": {
     "frozen": true
    }
   },
   "source": [
    "***\n",
    "## Resources / References\n",
    "<br>\n",
    "<div class=note-title><p class=numberCircleNote>R</p> External Resources</div>\n",
    "<div class=note> [PyGame Documentation](https://www.pygame.org/docs/)</div>\n",
    "<br>\n",
    "<div class=note-title><p class=numberCircleNote>iR</p> Internal Resources</div>\n",
    "<div class=note> Lecture 02 - Introduction to Python</div>\n",
    "\n",
    "\n",
    "***\n",
    "## Appendix\n",
    "The following section will contain some code vital to the visual component of this Tutorial Specification. Note that any code found in the section will not impact any code being run, though it is highly recommended to re-run the cells here if you have cleared the output of ALL cells."
   ]
  },
  {
   "cell_type": "code",
   "execution_count": 1,
   "metadata": {
    "deletable": false,
    "editable": false,
    "hide_input": true,
    "init_cell": true,
    "run_control": {
     "frozen": true
    }
   },
   "outputs": [
    {
     "data": {
      "text/html": [
       "<style>\n",
       "div.warn {    \n",
       "    background-color: #ffe6e6;\n",
       "    padding: 0.5em;\n",
       "    padding-left: 1em;\n",
       "}\n",
       "div.warn-title { \n",
       "    background-color: #cc0000;\n",
       "    color: #FFFFFF;\n",
       "    padding-left: 0.75em;\n",
       "    font-weight: bold;\n",
       "}\n",
       "\n",
       ".numberCircleWarn {\n",
       "    border-radius: 50%;\n",
       "    behavior: url(PIE.htc);\n",
       "    display: inline-block;\n",
       "    /* remove if you don't care about IE8 */\n",
       "    width: 18px;\n",
       "    height: 18px;\n",
       "    padding: 3px;\n",
       "    background: #ffffff;\n",
       "    color: #cc0000;\n",
       "    text-align: center;\n",
       "    font: 12px Arial, sans-serif;\n",
       "}\n",
       "\n",
       "div.note {\n",
       "    background-color: #e6f2ff;\n",
       "    padding: 0.5em;\n",
       "    padding-left: 1em;\n",
       "}\n",
       "\n",
       "div.note-title {\n",
       "    background-color: #80bdff;\n",
       "    color: #FFFFFF;\n",
       "    padding-left: 0.75em;\n",
       "    font-weight: bold;\n",
       "}\n",
       "\n",
       ".numberCircleNote {\n",
       "    border-radius: 50%;\n",
       "    behavior: url(PIE.htc);\n",
       "    display: inline-block;\n",
       "    /* remove if you don't care about IE8 */\n",
       "    width: 18px;\n",
       "    height: 18px;\n",
       "    padding: 3px;\n",
       "    background: #ffffff;\n",
       "    color: #80bdff;\n",
       "    text-align: center;\n",
       "    font: 12px Arial, sans-serif;\n",
       "    font-weight: bold;\n",
       "}\n",
       "\n",
       "div.success {\n",
       "    background-color: #e6fff3;\n",
       "    padding: 0.5em;\n",
       "    padding-left: 1em;\n",
       "}\n",
       "\n",
       "div.success-title {\n",
       "    background-color: #009933;\n",
       "    color: #FFFFFF;\n",
       "    padding-left: 0.75em;\n",
       "    font-weight: bold;\n",
       "}\n",
       "\n",
       ".numberCircleSuccess {\n",
       "    border-radius: 50%;\n",
       "    behavior: url(PIE.htc);\n",
       "    display: inline-block;\n",
       "    /* remove if you don't care about IE8 */\n",
       "    width: 18px;\n",
       "    height: 18px;\n",
       "    padding: 3px;\n",
       "    background: #ffffff;\n",
       "    color: #009933;\n",
       "    text-align: center;\n",
       "    font: 12px Arial, sans-serif;\n",
       "    line-height: 1.2;\n",
       "}\n",
       "\n",
       "div.code {\n",
       "    background-color: #f9e6ff;\n",
       "    padding: 0.5em;\n",
       "    padding-left: 1em;\n",
       "}\n",
       "\n",
       "div.code-title {\n",
       "    background-color: #730099;\n",
       "    color: #FFFFFF;\n",
       "    padding-left: 0.75em;\n",
       "    font-weight: bold;\n",
       "}\n",
       "\n",
       ".numberCircleCode {\n",
       "    border-radius: 50%;\n",
       "    behavior: url(PIE.htc);\n",
       "    display: inline-block;\n",
       "    /* remove if you don't care about IE8 */\n",
       "    width: 18px;\n",
       "    height: 18px;\n",
       "    padding: 3px;\n",
       "    background: #ffffff;\n",
       "    color: #730099;\n",
       "    text-align: center;\n",
       "    font: 12px Arial, sans-serif;\n",
       "}\n",
       "</style>"
      ],
      "text/plain": [
       "<IPython.core.display.HTML object>"
      ]
     },
     "execution_count": 1,
     "metadata": {},
     "output_type": "execute_result"
    }
   ],
   "source": [
    "from IPython.core.display import HTML\n",
    "def css_styling():\n",
    "    styles = open(\"./Resources/stylesheet.css\", \"r\").read()\n",
    "    return HTML(styles)\n",
    "css_styling()"
   ]
  }
 ],
 "metadata": {
  "kernelspec": {
   "display_name": "Python 3",
   "language": "python",
   "name": "python3"
  },
  "language_info": {
   "codemirror_mode": {
    "name": "ipython",
    "version": 3
   },
   "file_extension": ".py",
   "mimetype": "text/x-python",
   "name": "python",
   "nbconvert_exporter": "python",
   "pygments_lexer": "ipython3",
   "version": "3.6.8"
  },
  "toc": {
   "base_numbering": 1,
   "nav_menu": {
    "height": "375px",
    "width": "450px"
   },
   "number_sections": true,
   "sideBar": true,
   "skip_h1_title": false,
   "title_cell": "Table of Contents",
   "title_sidebar": "Contents",
   "toc_cell": false,
   "toc_position": {},
   "toc_section_display": true,
   "toc_window_display": false
  }
 },
 "nbformat": 4,
 "nbformat_minor": 2
}
