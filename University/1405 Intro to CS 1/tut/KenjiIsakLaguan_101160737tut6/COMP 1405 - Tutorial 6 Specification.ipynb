{
 "cells": [
  {
   "cell_type": "markdown",
   "metadata": {
    "deletable": false,
    "editable": false,
    "run_control": {
     "frozen": true
    }
   },
   "source": [
    "**COMP 1405 - Introduction to Computer Science I (Fall 2018)** <img style=\"float: right; height: 50px;\" src=\"Resources/carleton.png\"><br>\n",
    "\n",
    "*Specification for Tutorial 6 / 10*\n",
    "\n",
    "***"
   ]
  },
  {
   "cell_type": "markdown",
   "metadata": {
    "deletable": false,
    "editable": false,
    "run_control": {
     "frozen": true
    }
   },
   "source": [
    "## Tutorial 6: Functions and Function Scope\n",
    "Last week, we covered linear collections and nested loops. If you feel like you need a refresher on this topic, please refer back to either the Tutorial 5 specification or the class notes on the subjust. This week, we'll be covering functions and function scope.\n",
    "\n",
    "This will be a **graded** Tutorial and you must submit your Tutorial by the end of your respective Tutorial time to receive the credit for it. This Tutorial must be accomplished during the Tutorial time and in the Tutorial Lab at school - we will be taking attendance: submissions by non-attendees will not be considered and an automatic grade of 0 will be given. Otherwise, the milestones for this Tutorial will be as followed:\n",
    "\n",
    "| <p align=\"left\">Milestone</p>                                                       | <p align=\"center\">Associated Grade</p> |\n",
    "|-------------------------------------------------------------------------------------|------------------|\n",
    "| <p align=\"left\">Completing the introductory 'Tutorial' components (prior to the Tutorial Exercises)</p> |        <p align=\"center\">20%</p>       |\n",
    "| <p align=\"left\">Completing the Tutorial Exercises 'halfway' (1 complex design OR 1 complete function + most of another)</p>  |        <p align=\"center\">50%</p>       |\n",
    "| <p align=\"left\">Completing the Tutorial Exercises</p>            |        <p align=\"center\">80%</p>       |\n",
    "| <p align=\"left\">Knowledge Quiz (5% per correct response)</p>                                            |    <p align=\"center\">80% - 100%</p>    |\n",
    "\n",
    "Once you are completed the Tutorial, please zip up all the relevant files (i.e. all the downloaded ones and any additional ones you have added) and adhere to the following naming convention:\n",
    "\n",
    "```FirstnameLastname_studentnumber.zip```\n",
    "\n",
    "Example: \n",
    "JohnDoe_100000000.zip<br><br>\n",
    "\n",
    "<div class=warn-title><p class=numberCircleWarn>&nbsp;!!</p> Warning</div>\n",
    "<div class=warn>Be sure to upload this .zip file to CuLearn under the <b>Tutorial 06 Submission</b>.</div>"
   ]
  },
  {
   "cell_type": "markdown",
   "metadata": {
    "deletable": false,
    "editable": false,
    "run_control": {
     "frozen": true
    }
   },
   "source": [
    "### Part 1: Code Reuse and Efficiency\n",
    "By this point in the course, you may have noticed that you end up writing the same snippets of code often several times per program. This leads to the often frustrating experience of, whenever something needs to be modified, to have to go through all those 'copies' of the code fragment and change them individually. And, most likely, you've forgotten once or twice to do so on some fragment or another. This seems terribly inefficient and like a huge waste of time. Take this code, for example:"
   ]
  },
  {
   "cell_type": "code",
   "execution_count": null,
   "metadata": {
    "deletable": false,
    "editable": false
   },
   "outputs": [],
   "source": [
    "print(\"Welcome to the Shop! We have the following items to purchase:\")\n",
    "print(\"\\t(1) Sandwiches\\n\\t(2) Coffee\\n\\t(3) Juice\\n\\t(4) Soda\\n\\t(5) Soup\")\n",
    "user_input = input(\"What item do you wish to purchase? \")\n",
    "\n",
    "if user_input == \"Sandwiches\":\n",
    "    user_input_2 = input(\"What kind of Sandwich would you like? \\n\\t(1) Pastrami\\n\\t(2) Turkey\\n\\t(3) Bologna\\n>>> \")\n",
    "    print(\"The {} Sandwich - excellent choice!\".format(user_input_2))\n",
    "    print(\"That'll be $5!\")\n",
    "elif user_input == \"Coffee\":\n",
    "    user_input_2 = input(\"How do you want your Coffee? \\n\\t(1) Black\\n\\t(2) DoubleDouble\\n>>> \")\n",
    "    print(\"The {} Coffee - excellent choice!\".format(user_input_2))\n",
    "    print(\"That'll be $2!\")\n",
    "elif user_input == \"Juice\":\n",
    "    user_input_2 = input(\"What kind of Juice do you want? \\n\\t(1) Orange\\n\\t(2) Apple\\n>>> \")\n",
    "    print(\"The {} Juice - excellent choice!\".format(user_input_2))\n",
    "    print(\"That'll be $1.50!\")\n",
    "elif user_input == \"Soda\":\n",
    "    user_input_2 = input(\"What kind of Soda do you want? \\n\\t(1) Coke\\n\\t(2) Sprite\\n>>> \")\n",
    "    print(\"The {} - excellent choice!\".format(user_input_2))\n",
    "    print(\"That'll be $1.75!\")\n",
    "else:\n",
    "    user_input_2 = input(\"What kind of Soup do you want? \\n\\t(1) Broccoli\\n\\t(2) PotatoLeek\\n>>> \")\n",
    "    print(\"The {} Soup - excellent choice!\".format(user_input_2))\n",
    "    print(\"That'll be $3.25!\")"
   ]
  },
  {
   "cell_type": "markdown",
   "metadata": {
    "deletable": false,
    "editable": false,
    "run_control": {
     "frozen": true
    }
   },
   "source": [
    "Imagine if now we wanted to modify this interaction so that, for each option, we wanted to allow the user to order as many of each item they want via the use of a while loop. To implement this fix, we would need to add a while loop to each of the 5 conditional structures. This week, we will be exploring the concept of code reuse - specifically, we will be introducing the functions and how they work."
   ]
  },
  {
   "cell_type": "markdown",
   "metadata": {
    "deletable": false,
    "editable": false,
    "run_control": {
     "frozen": true
    }
   },
   "source": [
    "### Part 2: Functions\n",
    "A function is a named snippet of code that can take in parameters or values as well as return something back. In other words, we provide some information to this function, it incorporates this information into some generic code, then returns something back (typically either modified or some boolean-type flag indicating success or failure). Let's have a look at the code that was shown above - we can note that there seems to be about five inputs required - these are:\n",
    "* Type of Item (Sandwich, Coffee, Juice, Soda, and Soup)\n",
    "* The options available (probably a list format)\n",
    "* The 'What kind of' line\n",
    "* The 'Excellent Choice' line\n",
    "* The price\n",
    "\n",
    "So we need to make a function that uses these inputs. The first step is to set up the function definition:<br><br>\n",
    "<div class=code-title><p class=numberCircleCode>&lt;&gt;</p> Code</div>\n",
    "<div class=\"code\">\n",
    "    <pre style=\"background-color: #f9e6ff;\"><code class=\"language-python\" style=\"background-color: #f9e6ff;\">def get_item_type_from_user(type_of_item, options_available, price, input_line, excellent_choice_line):</code></pre>\n",
    "</div>\n",
    "\n",
    "Make note that we've moved the two 'lines' to the end - there's a good reason for this. In Python, we can supply something called a default value to these parameters. What this means is that, when calling this function, one does not need to provide those arguments (the ones with default values), and failure to do so will simply result in those default values being used. To make use of this, we simply adjust our definition to something like this:<br><br>\n",
    "<div class=code-title><p class=numberCircleCode>&lt;&gt;</p> Code</div>\n",
    "<div class=\"code\">\n",
    "    <pre style=\"background-color: #f9e6ff;\"><code class=\"language-python\" style=\"background-color: #f9e6ff;\">def get_item_type_from_user(type_of_item, options_available, price, \n",
    "                              input_line=\"What kind of {} would you like?\", \n",
    "                              excellent_choice_line=\"The {} {} - excellent choice!\"):</code></pre>\n",
    "</div>\n",
    "\n",
    "Variables with default values must ALWAYS be at the right-most side of the argument list.\n",
    "\n",
    "Before going any further on this though, it's important to cover the concept of function scope (and scopes in general). The next section will explain how this works, before going on and completing the transformation of our original, clunky code in the first section into its complete function form."
   ]
  },
  {
   "cell_type": "markdown",
   "metadata": {
    "deletable": false,
    "editable": false,
    "run_control": {
     "frozen": true
    }
   },
   "source": [
    "### Part 3: Scope and its Implications\n",
    "A scope in programming refers to variable visibility (amongst other things). An easy rule of thumb for Python, at the very least, is that each tab depth opens a new scope. Within a scope, you have access to everything in the scope that contains it. For example, imagine the following structure:\n",
    "\n",
    "* If Statement 1\n",
    "    * While Statement 1\n",
    "        * If Statement 2\n",
    "    * If Statement 3\n",
    "        * While Statement 2\n",
    "        \n",
    "In the above example, ```If Statement 1``` only has access to variables defined in its own scope or the global scope. ```While Statement 1``` has everything within its own scope PLUS everything from ```If Statement 1```. Based on this, which scopes should ```While Statement 2``` also have access to?"
   ]
  },
  {
   "cell_type": "markdown",
   "metadata": {},
   "source": [
    "any global scopes and its own scope and also everything from if statement 3 "
   ]
  },
  {
   "cell_type": "markdown",
   "metadata": {
    "deletable": false,
    "editable": false,
    "run_control": {
     "frozen": true
    }
   },
   "source": [
    "Scope works in a special way with regards to functions - because functions are traditionally only defined at the global scope level (with some exceptions you don't need to worry about now), a function would only have the global variables and its own defined variables available to use. However, we often need more - sometimes we need to slip in a few other variables to use. Like our example above, we do so via function arguments. These arguments are also available to use within the function's scope.\n",
    "\n",
    "Armed with this, we're finally ready to finish our function:"
   ]
  },
  {
   "cell_type": "code",
   "execution_count": 4,
   "metadata": {
    "deletable": false,
    "editable": false
   },
   "outputs": [],
   "source": [
    "def get_item_type_from_user(type_of_item, options_available, price, input_line=\"What kind of {} would you like?\", excellent_choice_line=\"The {} {} - excellent choice!\"):\n",
    "    numbered_options = []\n",
    "    for i in range(len(options_available)):\n",
    "        numbered_options += [\"{}\".format(i+1), options_available[i]]\n",
    "        \n",
    "    user_input = input((input_line + \"\\n\\t({}) {}\" * len(options_available) + \"\\n>>>\").format(type_of_item, *numbered_options))\n",
    "    print(excellent_choice_line.format(user_input, type_of_item))\n",
    "    print(\"That'll be ${:.2f}!\".format(price))"
   ]
  },
  {
   "cell_type": "markdown",
   "metadata": {
    "deletable": false,
    "editable": false,
    "run_control": {
     "frozen": true
    }
   },
   "source": [
    "If we updated our original code to use the function, we get something along the line of this - much cleaner, less repetition, and easier to maintain."
   ]
  },
  {
   "cell_type": "code",
   "execution_count": null,
   "metadata": {
    "deletable": false,
    "editable": false
   },
   "outputs": [],
   "source": [
    "print(\"Welcome to the Shop! We have the following items to purchase:\")\n",
    "print(\"\\t(1) Sandwiches\\n\\t(2) Coffee\\n\\t(3) Juice\\n\\t(4) Soda\\n\\t(5) Soup\")\n",
    "user_input = input(\"What item do you wish to purchase? \")\n",
    "\n",
    "if user_input == \"Sandwiches\":\n",
    "    get_item_type_from_user(\"Sandwich\", [\"Pastrami\", \"Turkey\", \"Bologna\"], 5.00)\n",
    "elif user_input == \"Coffee\":\n",
    "    get_item_type_from_user(\"Coffee\", [\"Black\", \"DoubleDouble\"], 2.00, input_line=\"How do you want your Coffee?\")\n",
    "elif user_input == \"Juice\":\n",
    "    get_item_type_from_user(\"Juice\", [\"Orange\", \"Apple\"], 1.50)\n",
    "elif user_input == \"Soda\":\n",
    "    get_item_type_from_user(\"Soda\", [\"Coke\", \"Sprite\"], 1.75, excellent_choice_line=\"The {} - excellent choice!\")\n",
    "else:\n",
    "    get_item_type_from_user(\"Soup\", [\"Broccoli\", \"PotatoLeek\"], 3.25)"
   ]
  },
  {
   "cell_type": "markdown",
   "metadata": {
    "deletable": false,
    "editable": false,
    "run_control": {
     "frozen": true
    }
   },
   "source": [
    "## Tutorial Exercises"
   ]
  },
  {
   "cell_type": "markdown",
   "metadata": {
    "deletable": false,
    "editable": false,
    "run_control": {
     "frozen": true
    }
   },
   "source": [
    "Your task this Tutorial is to write one of the two following programs - you're welcome to select whichever you prefer. Neither is worth more marks than the other.\n",
    "\n",
    "#### (1) Drawing Shapes with PyGame\n",
    "<img style=\"height: 100px;\" src=\"Resources\\pygame.png\">\n",
    "***\n",
    "You must write a PyGame program that satisfies the following requirements:\n",
    "* The program must include two different functions for drawing complex designs\n",
    "    * Each complex design is designed here as a combination of shapes drawn in the form/shape/pattern of something\n",
    "    * Each function must take in a center coordinate point (x, y) as a tuple\n",
    "    * When the function is called, with a coordinate, the program must draw that pattern centered on the provided location\n",
    "    * Colors must be defined with default values and must include at minimum 3 per design\n",
    "    * Each complex design must include at minimum 4 shapes\n",
    "* You must construct a while loop that will continuously ask users for which pattern they wish to draw, followed by where they want it drawn.\n",
    "* You may draw each shape immediately at the end of each loop iteration if you wish\n",
    "\n",
    "#### (2) Mathematical Functions with Console\n",
    "<img style=\"height: 100px;\" src=\"Resources\\terminal.png\">\n",
    "***\n",
    "You must write a series of math functions that satisfies the following requirements:\n",
    "* You must write the following 3 math functions: multiply, power, and divide\n",
    "* For each function, you are NOT allowed to use the corresponding built-in operator (i.e. no * in multiply)\n",
    "    * For multiply, reimagine this problem as an addition problem using loops\n",
    "        \\begin{align*}\n",
    "m\\times n = \\sum_{i=0}^{n}m\n",
    "\\end{align*}\n",
    "    * For power, reimagine this problem as a multiplication problem using loops\n",
    "        \\begin{align*}\n",
    "m^n = \\prod_{i=0}^n m\n",
    "\\end{align*}\n",
    "    * For divide, imagine this problem as a subtraction problem with loops\n",
    "        * Please also output the remainders here - no need to output decimal values\n",
    "* Your program does NOT need to handle any decimal values for any function\n",
    "* For all functions other than divide, please return the integer result\n",
    "    * For the divide function, please return a string in the format: \"5 / 2 = 2 with 1 remainder(s)\""
   ]
  },
  {
   "cell_type": "code",
   "execution_count": 5,
   "metadata": {},
   "outputs": [
    {
     "name": "stdout",
     "output_type": "stream",
     "text": [
      "enter which math function you would like: divide\n",
      "Enter your first number: 5\n",
      "Enter your second number: 2\n",
      "2 with 1 remainder(s)\n"
     ]
    }
   ],
   "source": [
    "def multiply(m,n):\n",
    "\tans = 0 \n",
    "\tfor x in range(n):\n",
    "\t\tans = m + ans\n",
    "\treturn(ans)\n",
    "\n",
    "def power(m,n):\n",
    "\tans = 1 \n",
    "\tfor x in range(n):\n",
    "\t\tans = m * ans\n",
    "\treturn(ans)\n",
    "\n",
    "def divide(m,n):\n",
    "\tans = m \n",
    "\tcounter = 0\n",
    "\twhile ans != 0 or ans > 0:\n",
    "\t\tans = ans - n \n",
    "\t\t#print(ans)\n",
    "\t\tcounter += 1 \n",
    "\t\tif ans < 0 :\n",
    "\t\t\tcounter = counter - 1\n",
    "\t\t\tbreak\n",
    "\tans = ans*(-1)\n",
    "\tcounter = str(counter)\n",
    "\tans = str(ans)\n",
    "\n",
    "\tprint(counter + \" with \" + ans + \" remainder(s)\")\n",
    " \n",
    "mathfunc = input(\"enter which math function you would like: \")\n",
    "\n",
    "if mathfunc == \"multiply\":\n",
    "\tfirstnum = input(\"Enter your first number: \")\n",
    "\tsecnum = input(\"Enter your second number: \")\n",
    "\t\n",
    "\tfirstnum = int(firstnum)\n",
    "\tsecnum = int(secnum)\n",
    "\n",
    "\tprint(str(firstnum) + \"*\" + str(secnum) + \"=\" + str(multiply(firstnum,secnum)))\n",
    "\n",
    "elif mathfunc == \"power\":\n",
    "\tfirstnum = input(\"Enter your first number: \")\n",
    "\tsecnum = input(\"Enter your second number: \")\n",
    "\t\n",
    "\tfirstnum = int(firstnum)\n",
    "\tsecnum = int(secnum)\n",
    "\n",
    "\tprint(str(firstnum) + \"^\" + str(secnum) + \"=\" + str(power(firstnum,secnum)))\n",
    "\n",
    "elif mathfunc == \"divide\":\n",
    "\tfirstnum = input(\"Enter your first number: \")\n",
    "\tsecnum = input(\"Enter your second number: \")\n",
    "\t\n",
    "\tfirstnum = int(firstnum)\n",
    "\tsecnum = int(secnum)\n",
    "\n",
    "\tdivide(firstnum,secnum)\n",
    " \n",
    "\n"
   ]
  },
  {
   "cell_type": "markdown",
   "metadata": {
    "deletable": false,
    "editable": false,
    "run_control": {
     "frozen": true
    }
   },
   "source": [
    "## Knowledge Test"
   ]
  },
  {
   "cell_type": "markdown",
   "metadata": {
    "deletable": false,
    "editable": false,
    "run_control": {
     "frozen": true
    }
   },
   "source": [
    "To cap off this Tutorial, complete the following test of knowledge. Please answer the following question(s) to the best of your ability. Try to complete this without consulting the notes above if possible. As mentioned in the milestones above, each question is worth a possible 5%, with no part marks possible."
   ]
  },
  {
   "cell_type": "markdown",
   "metadata": {
    "deletable": false,
    "editable": false,
    "run_control": {
     "frozen": true
    }
   },
   "source": [
    "*(1) How do we incorporate variables from outside of a function into a function's scope?*\n",
    "***"
   ]
  },
  {
   "cell_type": "markdown",
   "metadata": {},
   "source": [
    "put the variables inside the function scope"
   ]
  },
  {
   "cell_type": "markdown",
   "metadata": {
    "deletable": false,
    "editable": false,
    "run_control": {
     "frozen": true
    }
   },
   "source": [
    "*Use the following code for the next 2 questions:*\n",
    "```python\n",
    "var_1 = 5\n",
    "def function(...):\n",
    "    if (...):\n",
    "        while (...):\n",
    "    elif (...):\n",
    "        var_2 = 10\n",
    "        for (...):\n",
    "    else:\n",
    "```"
   ]
  },
  {
   "cell_type": "markdown",
   "metadata": {
    "deletable": false,
    "editable": false,
    "run_control": {
     "frozen": true
    }
   },
   "source": [
    "*(2) In the above code, where do we have access to the var_2 variable value?*\n",
    "***"
   ]
  },
  {
   "cell_type": "markdown",
   "metadata": {},
   "source": [
    "inside the elif statement, includes the for"
   ]
  },
  {
   "cell_type": "markdown",
   "metadata": {
    "deletable": false,
    "editable": false,
    "run_control": {
     "frozen": true
    }
   },
   "source": [
    "*(3) Where do we have access to var_1? Why is it available in these locations?*\n",
    "***"
   ]
  },
  {
   "cell_type": "markdown",
   "metadata": {},
   "source": [
    "var_1 hasnt been accessed , it was put before the function. "
   ]
  },
  {
   "cell_type": "markdown",
   "metadata": {
    "deletable": false,
    "editable": false,
    "run_control": {
     "frozen": true
    }
   },
   "source": [
    "*(4) When is the appropriate time to use a function rather than simply writing the code out?*\n",
    "***"
   ]
  },
  {
   "cell_type": "markdown",
   "metadata": {},
   "source": [
    "when there is a generic task that can take parameters or values ,it can also return something if needed, functions are more efficient in this case"
   ]
  },
  {
   "cell_type": "markdown",
   "metadata": {
    "deletable": false,
    "editable": false,
    "run_control": {
     "frozen": true
    }
   },
   "source": [
    "***\n",
    "## Resources / References\n",
    "<br>\n",
    "<div class=note-title><p class=numberCircleNote>R</p> External Resources</div>\n",
    "<div class=note> </div>\n",
    "<br>\n",
    "<div class=note-title><p class=numberCircleNote>iR</p> Internal Resources</div>\n",
    "<div class=note> </div>\n",
    "\n",
    "\n",
    "***\n",
    "## Appendix\n",
    "The following section will contain some code vital to the visual component of this Tutorial Specification. Note that any code found in the section will not impact any code being run, though it is highly recommended to re-run the cells here if you have cleared the output of ALL cells."
   ]
  },
  {
   "cell_type": "code",
   "execution_count": 1,
   "metadata": {
    "deletable": false,
    "editable": false,
    "hide_input": true,
    "init_cell": true,
    "run_control": {
     "frozen": true
    }
   },
   "outputs": [
    {
     "data": {
      "text/html": [
       "<style>\n",
       "div.warn {    \n",
       "    background-color: #ffe6e6;\n",
       "    padding: 0.5em;\n",
       "    padding-left: 1em;\n",
       "}\n",
       "div.warn-title { \n",
       "    background-color: #cc0000;\n",
       "    color: #FFFFFF;\n",
       "    padding-left: 0.75em;\n",
       "    font-weight: bold;\n",
       "}\n",
       "\n",
       ".numberCircleWarn {\n",
       "    border-radius: 50%;\n",
       "    behavior: url(PIE.htc);\n",
       "    display: inline-block;\n",
       "    /* remove if you don't care about IE8 */\n",
       "    width: 18px;\n",
       "    height: 18px;\n",
       "    padding: 3px;\n",
       "    background: #ffffff;\n",
       "    color: #cc0000;\n",
       "    text-align: center;\n",
       "    font: 12px Arial, sans-serif;\n",
       "}\n",
       "\n",
       "div.note {\n",
       "    background-color: #e6f2ff;\n",
       "    padding: 0.5em;\n",
       "    padding-left: 1em;\n",
       "}\n",
       "\n",
       "div.note-title {\n",
       "    background-color: #80bdff;\n",
       "    color: #FFFFFF;\n",
       "    padding-left: 0.75em;\n",
       "    font-weight: bold;\n",
       "}\n",
       "\n",
       ".numberCircleNote {\n",
       "    border-radius: 50%;\n",
       "    behavior: url(PIE.htc);\n",
       "    display: inline-block;\n",
       "    /* remove if you don't care about IE8 */\n",
       "    width: 18px;\n",
       "    height: 18px;\n",
       "    padding: 3px;\n",
       "    background: #ffffff;\n",
       "    color: #80bdff;\n",
       "    text-align: center;\n",
       "    font: 12px Arial, sans-serif;\n",
       "    font-weight: bold;\n",
       "}\n",
       "\n",
       "div.success {\n",
       "    background-color: #e6fff3;\n",
       "    padding: 0.5em;\n",
       "    padding-left: 1em;\n",
       "}\n",
       "\n",
       "div.success-title {\n",
       "    background-color: #009933;\n",
       "    color: #FFFFFF;\n",
       "    padding-left: 0.75em;\n",
       "    font-weight: bold;\n",
       "}\n",
       "\n",
       ".numberCircleSuccess {\n",
       "    border-radius: 50%;\n",
       "    behavior: url(PIE.htc);\n",
       "    display: inline-block;\n",
       "    /* remove if you don't care about IE8 */\n",
       "    width: 18px;\n",
       "    height: 18px;\n",
       "    padding: 3px;\n",
       "    background: #ffffff;\n",
       "    color: #009933;\n",
       "    text-align: center;\n",
       "    font: 12px Arial, sans-serif;\n",
       "    line-height: 1.2;\n",
       "}\n",
       "\n",
       "div.code {\n",
       "    background-color: #f9e6ff;\n",
       "    padding: 0.5em;\n",
       "    padding-left: 1em;\n",
       "}\n",
       "\n",
       "div.code-title {\n",
       "    background-color: #730099;\n",
       "    color: #FFFFFF;\n",
       "    padding-left: 0.75em;\n",
       "    font-weight: bold;\n",
       "}\n",
       "\n",
       ".numberCircleCode {\n",
       "    border-radius: 50%;\n",
       "    behavior: url(PIE.htc);\n",
       "    display: inline-block;\n",
       "    /* remove if you don't care about IE8 */\n",
       "    width: 18px;\n",
       "    height: 18px;\n",
       "    padding: 3px;\n",
       "    background: #ffffff;\n",
       "    color: #730099;\n",
       "    text-align: center;\n",
       "    font: 12px Arial, sans-serif;\n",
       "}\n",
       "</style>"
      ],
      "text/plain": [
       "<IPython.core.display.HTML object>"
      ]
     },
     "execution_count": 1,
     "metadata": {},
     "output_type": "execute_result"
    }
   ],
   "source": [
    "from IPython.core.display import HTML\n",
    "def css_styling():\n",
    "    styles = open(\"./Resources/stylesheet.css\", \"r\").read()\n",
    "    return HTML(styles)\n",
    "css_styling()"
   ]
  }
 ],
 "metadata": {
  "kernelspec": {
   "display_name": "Python 3",
   "language": "python",
   "name": "python3"
  },
  "language_info": {
   "codemirror_mode": {
    "name": "ipython",
    "version": 3
   },
   "file_extension": ".py",
   "mimetype": "text/x-python",
   "name": "python",
   "nbconvert_exporter": "python",
   "pygments_lexer": "ipython3",
   "version": "3.6.8"
  }
 },
 "nbformat": 4,
 "nbformat_minor": 2
}
