{
 "cells": [
  {
   "cell_type": "markdown",
   "metadata": {
    "deletable": false,
    "editable": false,
    "run_control": {
     "frozen": true
    }
   },
   "source": [
    "**COMP 1405 - Introduction to Computer Science I (Fall 2018)** <img style=\"float: right; height: 50px;\" src=\"Resources/carleton.png\"><br>\n",
    "\n",
    "*Specification for Tutorial 9 / 10*\n",
    "\n",
    "***"
   ]
  },
  {
   "cell_type": "markdown",
   "metadata": {
    "deletable": false,
    "editable": false,
    "run_control": {
     "frozen": true
    }
   },
   "source": [
    "## Tutorial 9: Recursion\n",
    "Last week, we covered sorting algorithms and debugging. This week we will be covering the concept of recursion. Please note that this topic is often viewed as difficult, so please take special care in trying to understand the concept conceptually as well as trying to understand how to code something that uses it. Recursive functions tend to be fairly small in length (for now anyways), so every line counts.\n",
    "\n",
    "This will be a **graded** Tutorial and you must submit your Tutorial by the end of your respective Tutorial time to receive the credit for it. This Tutorial must be accomplished during the Tutorial time and in the Tutorial Lab at school - we will be taking attendance: submissions by non-attendees will not be considered and an automatic grade of 0 will be given. Otherwise, the milestones for this Tutorial will be as followed:\n",
    "\n",
    "| <p align=\"left\">Milestone</p>                                                       | <p align=\"center\">Associated Grade</p> |\n",
    "|-------------------------------------------------------------------------------------|------------------|\n",
    "| <p align=\"left\">Completing the introductory 'Tutorial' components (prior to the Tutorial Exercises)</p> |        <p align=\"center\">20%</p>       |\n",
    "| <p align=\"left\">Completing the Tutorial Exercises 'halfway' (2 sets of problems)</p>  |        <p align=\"center\">50%</p>       |\n",
    "| <p align=\"left\">Completing the Tutorial Exercises</p>            |        <p align=\"center\">80%</p>       |\n",
    "| <p align=\"left\">Knowledge Quiz (5% per correct response)</p>                                            |    <p align=\"center\">80% - 100%</p>    |\n",
    "\n",
    "Once you are completed the Tutorial, please zip up all the relevant files (i.e. all the downloaded ones and any additional ones you have added) and adhere to the following naming convention:\n",
    "\n",
    "```FirstnameLastname_studentnumber.zip```\n",
    "\n",
    "Example: \n",
    "JohnDoe_100000000.zip<br><br>\n",
    "\n",
    "<div class=warn-title><p class=numberCircleWarn>&nbsp;!!</p> Warning</div>\n",
    "<div class=warn>Be sure to upload this .zip file to CuLearn under the <b>Tutorial 09 Submission</b>.</div>"
   ]
  },
  {
   "cell_type": "markdown",
   "metadata": {
    "deletable": false,
    "editable": false,
    "run_control": {
     "frozen": true
    }
   },
   "source": [
    "### Part 1: Conceptualization\n",
    "In its simplest form, recursion is usually a simple function that, within the its body, makes a call to itself. Of course, if this is done without care, the function will recurse endlessly. As such, before making the call to itself, the recursive function must simplify the input that it will pass on. Through this string of inputs, the problem that each subsequent calling of the function receives is simpler and simpler until it reaches what is called 'base cases'. These consist of the simplest forms that it reaches, resulting in a returning of some value rather than making another call to itself. This return is then propogated backwards along the chain of the calls made until it eventually returns from the original function. \n",
    "\n",
    "Okay, let's go with an example as that might have been a tad confusing to imagine. Let's write up a function that subtracts a value from an input continuously until it reaches some threshold we will define:\n",
    "```python\n",
    "def reducer(input_number):\n",
    "```\n",
    "Our next step is to define some baselines. Let's set this as.. less than or equal to 1:\n",
    "```python\n",
    "    if input_number <= 1:\n",
    "```\n",
    "Once we hit this condition, we want to simply return our input. So:\n",
    "```python\n",
    "        return input_number\n",
    "```\n",
    "With this baseline defined, we now need to write the component that actually does the simplifying. In our scenario, our function should reduce the input by some set value - shall we say 5?\n",
    "```python\n",
    "    return reducer(input_number - 5)\n",
    "```\n",
    "Note that we are calling our function within itself - this is the recursive component. Also note that the input_number we provided is simpler (or more towards our goal) than the original one. Let's see it all together now:"
   ]
  },
  {
   "cell_type": "code",
   "execution_count": null,
   "metadata": {
    "collapsed": true,
    "deletable": false,
    "editable": false
   },
   "outputs": [],
   "source": [
    "def reducer(input_number):\n",
    "    if input_number <= 1:\n",
    "        return input_number\n",
    "    return reducer(input_number - 5)"
   ]
  },
  {
   "cell_type": "markdown",
   "metadata": {
    "deletable": false,
    "editable": false,
    "run_control": {
     "frozen": true
    }
   },
   "source": [
    "Alright, with this defined, let's run through how the code will run - a traceback, if you will. Imagine we make the following call:\n",
    "```python\n",
    ">>> reducer(12)\n",
    "```\n",
    "In the first iteration, we, of course, have ```input_number = 12```. As ```input_number``` is NOT less than or equal to 1, we skip the if-statement. The next line makes the call ```reducer(7)``` and then returns the result. Because it's waiting for the result, this function does not resolve immediately. Instead, we defer to the body of the new function where ```input_number = 7```. Again, the if-statement is not triggered and we call reducer again, this time as ```reducer(2)```. Again, we are waiting for the result of this new function, so we defer to the body of this function. This will repeat once more until we eventually get the call ```reducer(-3)```. This DOES end up triggering the conditional, which ends this function call and simply returns -3. The -3 gets passed all the way back down the chain, as ```reducer(2)``` is just ```reducer(reducer(-3))```, all the way back to the original function, and then returns -3. So, to reiterate:\n",
    "\n",
    "```\n",
    "reducer(12)\n",
    "```\n",
    "***\n",
    "```\n",
    "reducer(12)\n",
    "    |_ reducer(7)\n",
    "```\n",
    "***\n",
    "```\n",
    "reducer(12)\n",
    "    |_ reducer(7)\n",
    "        |_ reducer(2)\n",
    "```\n",
    "***\n",
    "```\n",
    "reducer(12)\n",
    "    |_ reducer(7)\n",
    "        |_ reducer(2)\n",
    "            |_ reducer(-3)```\n",
    "***\n",
    "```\n",
    "reducer(12)\n",
    "    |_ reducer(7)\n",
    "        |_ reducer(2)\n",
    "            |_ -3```\n",
    "***\n",
    "```\n",
    "reducer(12)\n",
    "    |_ reducer(7)\n",
    "        |_ -3```\n",
    "***\n",
    "```\n",
    "reducer(12)\n",
    "    |_ -3```\n",
    "***\n",
    "```\n",
    "-3\n",
    "```"
   ]
  },
  {
   "cell_type": "markdown",
   "metadata": {
    "deletable": false,
    "editable": false,
    "run_control": {
     "frozen": true
    }
   },
   "source": [
    "## Tutorial Exercises"
   ]
  },
  {
   "cell_type": "markdown",
   "metadata": {
    "deletable": false,
    "editable": false,
    "run_control": {
     "frozen": true
    }
   },
   "source": [
    "Your task this Tutorial is to complete at least 3 of the 4 sets of problems below. You may choose amongst the four below, but you must complete at least 3 to receive full credit. Completing all problems successfully will be met with a 10% bonus for this Tutorial."
   ]
  },
  {
   "cell_type": "markdown",
   "metadata": {
    "deletable": false,
    "editable": false,
    "run_control": {
     "frozen": true
    }
   },
   "source": [
    "#### 1) Multiply Function\n",
    "Your task is to write two functions (```multiply(..)``` and ```rmultiply(..)```) that take in two integer values and returns the product of the two. You are NOT permitted to use the following: ```*```, ```**```, ```/```, ```//```, ```%```, and list comprehension. Note that the first variation (```multiply(..)```) is the non-recursive variant (no recursion is permitted) and (```rmultiply(..)```) is the recursive variant (you MUST use recursion). Both must be completed to receive credit for this set of problems. Please write each function in a separate cell below.\n",
    "```python\n",
    ">>> multiply(5, 6) # or rmultiply(5, 6)\n",
    "30\n",
    ">>> multiply(10, 3) # or rmultiply(10, 3)\n",
    "30\n",
    ">>> multiply(-5, 1) # or rmultiply(-5, 1)\n",
    "-5\n",
    ">>> multiply(5, 0) # or rmultiply(5, 0)\n",
    "0\n",
    "```"
   ]
  },
  {
   "cell_type": "markdown",
   "metadata": {
    "deletable": false,
    "editable": false,
    "run_control": {
     "frozen": true
    }
   },
   "source": [
    "##### Non-Recursive Multiply"
   ]
  },
  {
   "cell_type": "code",
   "execution_count": 3,
   "metadata": {},
   "outputs": [
    {
     "name": "stdout",
     "output_type": "stream",
     "text": [
      "30\n",
      "30\n",
      "-5\n",
      "0\n"
     ]
    }
   ],
   "source": [
    "def multiply(num1,num2):\n",
    "\tanswer = 0\n",
    "\tfor x in range(num2):\n",
    "\t\tanswer = answer + num1\n",
    "\treturn answer\n",
    "print(multiply(5,6))\n",
    "print(multiply(10,3))\n",
    "print(multiply(-5,1))\n",
    "print(multiply(5,0))"
   ]
  },
  {
   "cell_type": "markdown",
   "metadata": {
    "deletable": false,
    "editable": false,
    "run_control": {
     "frozen": true
    }
   },
   "source": [
    "##### Recursive Multiply"
   ]
  },
  {
   "cell_type": "code",
   "execution_count": 9,
   "metadata": {},
   "outputs": [
    {
     "name": "stdout",
     "output_type": "stream",
     "text": [
      "30\n",
      "30\n",
      "-5\n",
      "0\n"
     ]
    }
   ],
   "source": [
    "def rmultiply(num1,num2):\n",
    "\tif num2== 0:\n",
    "\t\treturn 0\n",
    "\telif num2 < 0:\n",
    "\t\treturn (num1 - rmultiply(num1,num2+1))\n",
    "\telse:\n",
    "\t\treturn (num1 + rmultiply(num1,num2-1))\n",
    "print(rmultiply(5,6))\n",
    "print(rmultiply(10,3))\n",
    "print(rmultiply(-5,1))\n",
    "print(rmultiply(5,0))\n"
   ]
  },
  {
   "cell_type": "markdown",
   "metadata": {
    "collapsed": true,
    "deletable": false,
    "editable": false,
    "run_control": {
     "frozen": true
    }
   },
   "source": [
    "#### 2) SumDigits Function\n",
    "Your task is to write two functions (```sumDigits(..)``` and ```rsumDigits(..)```) that takes in a single number as input and returns the sum of all of the digits in that number. Keep in mind that ```%10``` returns the rightmost digit of a given number. You are NOT allowed to convert the input to a string and then address each index in that fashion, or any other function other than mathematical operators and the modulo operator. Note that if you are uncomfortable with the modulo operator, there is a potential solution that does not make use of it. The first variation (```sumDigits(..)```) is the non-recursive variant (no recursion permitted) and (```rsumDigits(..)```) is the recursive variant (you MUST use recursion). Both must be completed to receive credit for this set of problems. Please write each function in a separate cell below.\n",
    "```python\n",
    ">>> sumDigits(51) # or rsumDigits(51)\n",
    "6\n",
    ">>> sumDigits(966) # or rsumDigits(966)\n",
    "21\n",
    ">>> sumDigits(851) # or rsumDigits(851)\n",
    "14\n",
    ">>> sumDigits(100000) # or rsumDigits(100000)\n",
    "1\n",
    "```"
   ]
  },
  {
   "cell_type": "markdown",
   "metadata": {
    "deletable": false,
    "editable": false,
    "run_control": {
     "frozen": true
    }
   },
   "source": [
    "##### Non-Recursive SumDigits"
   ]
  },
  {
   "cell_type": "code",
   "execution_count": 10,
   "metadata": {},
   "outputs": [
    {
     "name": "stdout",
     "output_type": "stream",
     "text": [
      "6\n",
      "21\n",
      "14\n",
      "1\n"
     ]
    }
   ],
   "source": [
    "def sumDigits(num):\n",
    "\tanswer = 0\n",
    "\twhile num:\n",
    "\t\tanswer = answer + num%10\n",
    "\t\tnum //= 10\n",
    "\treturn answer\n",
    "print(sumDigits(51))\n",
    "print(sumDigits(966))\t\n",
    "print(sumDigits(851))\n",
    "print(sumDigits(100000))"
   ]
  },
  {
   "cell_type": "markdown",
   "metadata": {
    "deletable": false,
    "editable": false,
    "run_control": {
     "frozen": true
    }
   },
   "source": [
    "##### Recursive SumDigits"
   ]
  },
  {
   "cell_type": "code",
   "execution_count": 11,
   "metadata": {},
   "outputs": [
    {
     "name": "stdout",
     "output_type": "stream",
     "text": [
      "6\n",
      "21\n",
      "14\n",
      "1\n"
     ]
    }
   ],
   "source": [
    "def rsumDigits(num):\n",
    "\tif num == 0:\n",
    "\t\treturn 0 \n",
    "\telse:\n",
    "\t\treturn((num%10)+rsumDigits(num//10))\n",
    "print(rsumDigits(51))\n",
    "print(rsumDigits(966))\t\n",
    "print(rsumDigits(851))\n",
    "print(rsumDigits(100000))"
   ]
  },
  {
   "cell_type": "markdown",
   "metadata": {
    "deletable": false,
    "editable": false,
    "run_control": {
     "frozen": true
    }
   },
   "source": [
    "#### 3) Maximum Function\n",
    "Your task is to write two functions (```maximum(..)``` and ```rmaximum(..)```) that takes a list of numbers (either floats or integers). This function must return the maximum numeric value (int or float) of the provided list of numbers. For the purpose of this tutorial, you may assume that the provided list contains only numbers. You are not allowed to make you of the built-in min/max functions. The first variation (```maximum(..)```) is the non-recursive variant (no recursion permitted) and (```rmaximum(..)```) is the recursive variant (you MUST use recursion). Both must be completed to receive credit for this set of problems. Please write each in a separate cell below.\n",
    "```python\n",
    ">>> maximum([1,2,3,4,5,6,76]) # or rmaximum([1,2,3,4,5,6,76])\n",
    "76\n",
    ">>> maximum([-1,-200, -50]) # or rmaximum([-1, -200, -50])\n",
    "-1\n",
    ">>> maximum([1.5, 2.65, 1.11, 0.58]) # or rmaximum([1.5, 2.65, 1.11, 0.58])\n",
    "2.65\n",
    ">>> maximum([-1, 1, 0]) # or rmaximum([-1, 1, 0])\n",
    "1\n",
    "```"
   ]
  },
  {
   "cell_type": "markdown",
   "metadata": {
    "deletable": false,
    "editable": false,
    "run_control": {
     "frozen": true
    }
   },
   "source": [
    "##### Non-Recursive Maximum"
   ]
  },
  {
   "cell_type": "code",
   "execution_count": 12,
   "metadata": {},
   "outputs": [
    {
     "name": "stdout",
     "output_type": "stream",
     "text": [
      "76\n",
      "-1\n",
      "2.65\n",
      "1\n"
     ]
    }
   ],
   "source": [
    "def maximum(listofnum):\n",
    "\tmaxnum = listofnum[0]\n",
    "    \n",
    "\tfor x in range(len(listofnum)):\n",
    "\t\tnum = listofnum[x]\n",
    "\t\tif maxnum < num:\n",
    "\t\t\tmaxnum = num\n",
    "\treturn maxnum\n",
    "print(maximum([1,2,3,4,5,6,76]))\n",
    "print(maximum([-1,-200, -50]))\n",
    "print(maximum([1.5, 2.65, 1.11, 0.58]))\n",
    "print(maximum([-1, 1, 0]))"
   ]
  },
  {
   "cell_type": "markdown",
   "metadata": {
    "deletable": false,
    "editable": false,
    "run_control": {
     "frozen": true
    }
   },
   "source": [
    "##### Recursive Maximum"
   ]
  },
  {
   "cell_type": "code",
   "execution_count": 13,
   "metadata": {},
   "outputs": [
    {
     "name": "stdout",
     "output_type": "stream",
     "text": [
      "76\n",
      "-1\n",
      "2.65\n",
      "1\n"
     ]
    }
   ],
   "source": [
    "def rmaximum(listofnum):\n",
    "\tif len(listofnum) == 1:\n",
    "\t\treturn listofnum[0]\n",
    "\telse:\n",
    "\t\tmaxnum = rmaximum(listofnum[1:])\n",
    "\t\treturn maxnum if maxnum > listofnum[0] else listofnum[0]\n",
    "print(rmaximum([1,2,3,4,5,6,76]))\n",
    "print(rmaximum([-1,-200, -50]))\n",
    "print(rmaximum([1.5, 2.65, 1.11, 0.58]))\n",
    "print(rmaximum([-1, 1, 0]))"
   ]
  },
  {
   "cell_type": "markdown",
   "metadata": {
    "deletable": false,
    "editable": false,
    "run_control": {
     "frozen": true
    }
   },
   "source": [
    "#### 4) RemoveLetters Function\n",
    "Your task is to write two functions (```removeLetters(..)``` and ```rremoveLetters(..)```) that take in a string and a list of characters as input. This function must return a modified phrase that does not contain any of the characters present in the list provided. You are not allowed to use any built-in string operations other than append (via the + operator or +=). You are also permitted to make use of the index operation. The first variant (```removeLetters(..)```) is the non-recursive variant (no recursion permitted) and (```rremoveLetters(..)```) is the recursive variant (you MUST use recursion). Both must be completed to receive credit for this set of problems. Please write each function in a separate cell below.\n",
    "```python\n",
    ">>> removeLetters(\"Hello World\", ['o', 'e']) # or rremoveLetters(\"Hello World\", ['o', 'e'])\n",
    "\"Hll Wrld\"\n",
    ">>> removeLetters(\"Good god\", ['G', 'o']) # or rremoveLetters(\"Good god\", ['G', 'o'])\n",
    "\"d gd\"\n",
    ">>> removeLetters(\"Happy Holidays!\", ['H', 'l', 'i', '!']) # or rremoveLetters(\"Happy Holidays!\", ['H', 'l', 'i', '!'])\n",
    "\"ppay odays\"\n",
    ">>> removeLetters(\"Bugs\", ['B', 'u', 'g', 's']) # or rremoveLetters(\"Bugs\", ['B', 'u', 'g', 's'])\n",
    "\"\"\n",
    "```"
   ]
  },
  {
   "cell_type": "markdown",
   "metadata": {
    "deletable": false,
    "editable": false,
    "run_control": {
     "frozen": true
    }
   },
   "source": [
    "##### Non-Recursive RemoveLetters"
   ]
  },
  {
   "cell_type": "code",
   "execution_count": null,
   "metadata": {
    "collapsed": true
   },
   "outputs": [],
   "source": []
  },
  {
   "cell_type": "markdown",
   "metadata": {
    "deletable": false,
    "editable": false,
    "run_control": {
     "frozen": true
    }
   },
   "source": [
    "##### Recursive RemoveLetters"
   ]
  },
  {
   "cell_type": "code",
   "execution_count": null,
   "metadata": {
    "collapsed": true
   },
   "outputs": [],
   "source": []
  },
  {
   "cell_type": "markdown",
   "metadata": {
    "deletable": false,
    "editable": false,
    "run_control": {
     "frozen": true
    }
   },
   "source": [
    "## Knowledge Test"
   ]
  },
  {
   "cell_type": "markdown",
   "metadata": {
    "deletable": false,
    "editable": false,
    "run_control": {
     "frozen": true
    }
   },
   "source": [
    "To cap off this Tutorial, complete the following test of knowledge. Please answer the following question(s) to the best of your ability. Try to complete this without consulting the notes above if possible. As mentioned in the milestones above, each question is worth a possible 5%, with no part marks possible."
   ]
  },
  {
   "cell_type": "markdown",
   "metadata": {
    "deletable": false,
    "editable": false,
    "run_control": {
     "frozen": true
    }
   },
   "source": [
    "*(1) What must you define in order to not recurse endlessly?*\n",
    "***"
   ]
  },
  {
   "cell_type": "markdown",
   "metadata": {
    "collapsed": true
   },
   "source": [
    "define the base case(s)"
   ]
  },
  {
   "cell_type": "markdown",
   "metadata": {
    "deletable": false,
    "editable": false,
    "run_control": {
     "frozen": true
    }
   },
   "source": [
    "*Use the following code for the next 2 questions:*\n",
    "```python\n",
    "def shortener(input_string):\n",
    "    if len(input_string) <= 3:\n",
    "        return input_string\n",
    "    return shortener(input_string)\n",
    "```"
   ]
  },
  {
   "cell_type": "markdown",
   "metadata": {
    "deletable": false,
    "editable": false,
    "run_control": {
     "frozen": true
    }
   },
   "source": [
    "*(2) What is wrong with the above code?*\n",
    "***"
   ]
  },
  {
   "cell_type": "markdown",
   "metadata": {
    "collapsed": true
   },
   "source": [
    "recursing endlessly because when it calls the function again it doesnt change input_string"
   ]
  },
  {
   "cell_type": "markdown",
   "metadata": {
    "deletable": false,
    "editable": false,
    "run_control": {
     "frozen": true
    }
   },
   "source": [
    "*(3) Suppose that you wanted a second case wherein it stops if the immediate next last letter is a punctuation (period, question mark, or excalamation mark). How would you rewrite the code to accommodate this?*\n",
    "***"
   ]
  },
  {
   "cell_type": "markdown",
   "metadata": {
    "collapsed": true
   },
   "source": [
    "you need to add an elif to check if the next element in string is the punctuation. inside of the if statement you return the string"
   ]
  },
  {
   "cell_type": "markdown",
   "metadata": {
    "deletable": false,
    "editable": false,
    "run_control": {
     "frozen": true
    }
   },
   "source": [
    "*(4) How many times will the following function get called?*\n",
    "```python\n",
    "def reducer(input_number, counter):\n",
    "    if input_number <= 1:\n",
    "        return input_number\n",
    "    return reducer(input_number - 3 * counter, counter + 2)\n",
    "print(reducer(58, 1))\n",
    "```\n",
    "***"
   ]
  },
  {
   "cell_type": "markdown",
   "metadata": {
    "collapsed": true
   },
   "source": [
    "(58 - 3, 1+2) = 55 , 3\n",
    "\n",
    "(55 - 9 ,3 +2) = 46 , 5\n",
    "\n",
    "(46 - 15 , 5 + 2) = 31 , 7\n",
    "\n",
    "(31 - 21 , 7 + 2) = 10 , 9\n",
    "\n",
    "(10 - 27 , 9 + 2) = -17 , 11\n",
    "\n",
    "returns 5 times\n",
    "but calls 6 times"
   ]
  },
  {
   "cell_type": "markdown",
   "metadata": {
    "deletable": false,
    "editable": false,
    "run_control": {
     "frozen": true
    }
   },
   "source": [
    "***\n",
    "## Resources / References\n",
    "<br>\n",
    "<div class=note-title><p class=numberCircleNote>R</p> External Resources</div>\n",
    "<div class=note><a href=\"https://realpython.com/python-thinking-recursively/\">Thinking Recursively in Python</a><br><a href=\"https://www.python-course.eu/python3_recursive_functions.php\">Recursive Functions</a> </div>\n",
    "<br>\n",
    "<div class=note-title><p class=numberCircleNote>iR</p> Internal Resources</div>\n",
    "<div class=note>Lecture 18 - Recursive Design<br>Lecture 19 - Recursive Sorting </div>\n",
    "\n",
    "\n",
    "***\n",
    "## Appendix\n",
    "The following section will contain some code vital to the visual component of this Tutorial Specification. Note that any code found in the section will not impact any code being run, though it is highly recommended to re-run the cells here if you have cleared the output of ALL cells."
   ]
  },
  {
   "cell_type": "code",
   "execution_count": 1,
   "metadata": {
    "deletable": false,
    "editable": false,
    "hide_input": true,
    "init_cell": true,
    "run_control": {
     "frozen": true
    }
   },
   "outputs": [
    {
     "data": {
      "text/html": [
       "<style>\n",
       "div.warn {    \n",
       "    background-color: #ffe6e6;\n",
       "    padding: 0.5em;\n",
       "    padding-left: 1em;\n",
       "}\n",
       "div.warn-title { \n",
       "    background-color: #cc0000;\n",
       "    color: #FFFFFF;\n",
       "    padding-left: 0.75em;\n",
       "    font-weight: bold;\n",
       "}\n",
       "\n",
       ".numberCircleWarn {\n",
       "    border-radius: 50%;\n",
       "    behavior: url(PIE.htc);\n",
       "    display: inline-block;\n",
       "    /* remove if you don't care about IE8 */\n",
       "    width: 18px;\n",
       "    height: 18px;\n",
       "    padding: 3px;\n",
       "    background: #ffffff;\n",
       "    color: #cc0000;\n",
       "    text-align: center;\n",
       "    font: 12px Arial, sans-serif;\n",
       "}\n",
       "\n",
       "div.note {\n",
       "    background-color: #e6f2ff;\n",
       "    padding: 0.5em;\n",
       "    padding-left: 1em;\n",
       "}\n",
       "\n",
       "div.note-title {\n",
       "    background-color: #80bdff;\n",
       "    color: #FFFFFF;\n",
       "    padding-left: 0.75em;\n",
       "    font-weight: bold;\n",
       "}\n",
       "\n",
       ".numberCircleNote {\n",
       "    border-radius: 50%;\n",
       "    behavior: url(PIE.htc);\n",
       "    display: inline-block;\n",
       "    /* remove if you don't care about IE8 */\n",
       "    width: 18px;\n",
       "    height: 18px;\n",
       "    padding: 3px;\n",
       "    background: #ffffff;\n",
       "    color: #80bdff;\n",
       "    text-align: center;\n",
       "    font: 12px Arial, sans-serif;\n",
       "    font-weight: bold;\n",
       "}\n",
       "\n",
       "div.success {\n",
       "    background-color: #e6fff3;\n",
       "    padding: 0.5em;\n",
       "    padding-left: 1em;\n",
       "}\n",
       "\n",
       "div.success-title {\n",
       "    background-color: #009933;\n",
       "    color: #FFFFFF;\n",
       "    padding-left: 0.75em;\n",
       "    font-weight: bold;\n",
       "}\n",
       "\n",
       ".numberCircleSuccess {\n",
       "    border-radius: 50%;\n",
       "    behavior: url(PIE.htc);\n",
       "    display: inline-block;\n",
       "    /* remove if you don't care about IE8 */\n",
       "    width: 18px;\n",
       "    height: 18px;\n",
       "    padding: 3px;\n",
       "    background: #ffffff;\n",
       "    color: #009933;\n",
       "    text-align: center;\n",
       "    font: 12px Arial, sans-serif;\n",
       "    line-height: 1.2;\n",
       "}\n",
       "\n",
       "div.code {\n",
       "    background-color: #f9e6ff;\n",
       "    padding: 0.5em;\n",
       "    padding-left: 1em;\n",
       "}\n",
       "\n",
       "div.code-title {\n",
       "    background-color: #730099;\n",
       "    color: #FFFFFF;\n",
       "    padding-left: 0.75em;\n",
       "    font-weight: bold;\n",
       "}\n",
       "\n",
       ".numberCircleCode {\n",
       "    border-radius: 50%;\n",
       "    behavior: url(PIE.htc);\n",
       "    display: inline-block;\n",
       "    /* remove if you don't care about IE8 */\n",
       "    width: 18px;\n",
       "    height: 18px;\n",
       "    padding: 3px;\n",
       "    background: #ffffff;\n",
       "    color: #730099;\n",
       "    text-align: center;\n",
       "    font: 12px Arial, sans-serif;\n",
       "}\n",
       "</style>"
      ],
      "text/plain": [
       "<IPython.core.display.HTML object>"
      ]
     },
     "execution_count": 1,
     "metadata": {},
     "output_type": "execute_result"
    }
   ],
   "source": [
    "from IPython.core.display import HTML\n",
    "def css_styling():\n",
    "    styles = open(\"./Resources/stylesheet.css\", \"r\").read()\n",
    "    return HTML(styles)\n",
    "css_styling()"
   ]
  }
 ],
 "metadata": {
  "kernelspec": {
   "display_name": "Python 3",
   "language": "python",
   "name": "python3"
  },
  "language_info": {
   "codemirror_mode": {
    "name": "ipython",
    "version": 3
   },
   "file_extension": ".py",
   "mimetype": "text/x-python",
   "name": "python",
   "nbconvert_exporter": "python",
   "pygments_lexer": "ipython3",
   "version": "3.6.8"
  }
 },
 "nbformat": 4,
 "nbformat_minor": 2
}
