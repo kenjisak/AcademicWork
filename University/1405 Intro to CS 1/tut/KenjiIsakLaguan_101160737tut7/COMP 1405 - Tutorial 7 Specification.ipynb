{
 "cells": [
  {
   "cell_type": "markdown",
   "metadata": {
    "deletable": false,
    "editable": false,
    "run_control": {
     "frozen": true
    }
   },
   "source": [
    "**COMP 1405 - Introduction to Computer Science I (Fall 2019)** <img style=\"float: right; height: 50px;\" src=\"Resources/carleton.png\"><br>\n",
    "\n",
    "*Specification for Tutorial 7 / 10*\n",
    "\n",
    "***"
   ]
  },
  {
   "cell_type": "markdown",
   "metadata": {
    "deletable": false,
    "editable": false,
    "run_control": {
     "frozen": true
    }
   },
   "source": [
    "## Tutorial 7: Multidimensional Linear Collections\n",
    "Last week, we covered functions and the concept of scope. This week we will be covering the concept of multidimensional linear lists - namely multidimensional lists and tuples. Due to the similarity of both, we'll primarily be focusing on multidimensional lists, though it should be understood that the concepts apply to tuples as well.\n",
    "\n",
    "This will be a **graded** Tutorial and you must submit your Tutorial by the end of your respective Tutorial time to receive the credit for it. This Tutorial must be accomplished during the Tutorial time and in the Tutorial Lab at school - we will be taking attendance: submissions by non-attendees will not be considered and an automatic grade of 0 will be given. Otherwise, the milestones for this Tutorial will be as followed:\n",
    "\n",
    "| <p align=\"left\">Milestone</p>                                                       | <p align=\"center\">Associated Grade</p> |\n",
    "|-------------------------------------------------------------------------------------|------------------|\n",
    "| <p align=\"left\">Completing the introductory 'Tutorial' components (prior to the Tutorial Exercises)</p> |        <p align=\"center\">20%</p>       |\n",
    "| <p align=\"left\">Completing the Tutorial Exercises 'halfway' (2 functions OR full internal grid structure)</p>  |        <p align=\"center\">50%</p>       |\n",
    "| <p align=\"left\">Completing the Tutorial Exercises</p>            |        <p align=\"center\">80%</p>       |\n",
    "| <p align=\"left\">Knowledge Quiz (5% per correct response)</p>                                            |    <p align=\"center\">80% - 100%</p>    |\n",
    "| <p align=\"left\">Bonus</p>                                            |    <p align=\"center\">110%</p>    |\n",
    "\n",
    "Once you are completed the Tutorial, please zip up all the relevant files (i.e. all the downloaded ones and any additional ones you have added) and adhere to the following naming convention:\n",
    "\n",
    "```FirstnameLastname_studentnumber.zip```\n",
    "\n",
    "Example: \n",
    "JohnDoe_100000000.zip<br><br>\n",
    "\n",
    "<div class=warn-title><p class=numberCircleWarn>&nbsp;!!</p> Warning</div>\n",
    "<div class=warn>Be sure to upload this .zip file to CuLearn under the <b>Tutorial 07 Submission</b>.</div>"
   ]
  },
  {
   "cell_type": "markdown",
   "metadata": {
    "deletable": false,
    "editable": false,
    "run_control": {
     "frozen": true
    }
   },
   "source": [
    "### Part 1: Conceptualization\n",
    "Before diving headlong into multidimensional lists, it's important to develop a strong understanding of what they represent. A classic example of a usage for a multidimensional list would be a Chess Board. Consider the following chess board configuation:\n",
    "\n",
    "<img style=\"height: 500px;\" src=\"Resources/chess.png\">"
   ]
  },
  {
   "cell_type": "markdown",
   "metadata": {
    "deletable": false,
    "editable": false,
    "run_control": {
     "frozen": true
    }
   },
   "source": [
    "Obviously, to anyone who has played chess before, this configuration represents the initial or starting state for a game of chess. This state can easily be represented using a 2-dimensional list structure. For example, we'd consider each row in the board to be an element of the outer list:\n",
    "\n",
    "```python\n",
    ">>> chessboard = [row1, row2, row3, row4, row5, row6, row7, row8]\n",
    "```\n",
    "\n",
    "With this setup, our next step of course is to replace the ```row1, ..., row8``` with more concreate values. For this example, we can consider each column in the chess board to be an element in each of these inner ```row``` lists:\n",
    "\n",
    "```python\n",
    ">>> row1 = [col1, col2, col3, col4, col5, col6, col7, col8]\n",
    "```\n",
    "\n",
    "Once these elements have been set, you'll have a simple 2-dimensional list. It should resemble something like this for the chessboard (assuming a blank tile is denoted with a --) and assuming the following legend:\n",
    "\n",
    "<style type=\"text/css\">\n",
    ".tg  {border-collapse:collapse;border-spacing:0;}\n",
    ".tg td{font-family:Arial, sans-serif;font-size:14px;padding:10px 5px;border-style:solid;border-width:1px;overflow:hidden;word-break:normal;border-color:black;}\n",
    ".tg th{font-family:Arial, sans-serif;font-size:14px;font-weight:normal;padding:10px 5px;border-style:solid;border-width:1px;overflow:hidden;word-break:normal;border-color:black;}\n",
    ".tg .tg-0pky{border-color:inherit;text-align:left;vertical-align:top}\n",
    ".tg .tg-0lax{text-align:left;vertical-align:top}\n",
    "</style>\n",
    "<table class=\"tg\">\n",
    "  <tr>\n",
    "      <th class=\"tg-0pky\">Piece</th>\n",
    "      <th class=\"tg-0pky\">Piece Name</th>\n",
    "      <th class=\"tg-0pky\">Piece Abbreviation</th>\n",
    "  </tr>\n",
    "  <tr>\n",
    "    <td class=\"tg-0pky\"><img style=\"height: 25px;\" src=\"Resources/wp.png\"></td>\n",
    "    <td class=\"tg-0pky\">White Pawn</td>\n",
    "    <td class=\"tg-0pky\">wp</td>\n",
    "  </tr>\n",
    "  <tr>\n",
    "    <td class=\"tg-0pky\"><img style=\"height: 25px;\" src=\"Resources/wr.png\"></td>\n",
    "    <td class=\"tg-0pky\">White Rook</td>\n",
    "    <td class=\"tg-0pky\">wr</td>\n",
    "  </tr>\n",
    "  <tr>\n",
    "    <td class=\"tg-0pky\"><img style=\"height: 25px;\" src=\"Resources/wn.png\"></td>\n",
    "    <td class=\"tg-0pky\">White Knight</td>\n",
    "    <td class=\"tg-0pky\">wn</td>\n",
    "  </tr>\n",
    "  <tr>\n",
    "    <td class=\"tg-0pky\"><img style=\"height: 25px;\" src=\"Resources/wb.png\"></td>\n",
    "    <td class=\"tg-0pky\">White Bishop</td>\n",
    "    <td class=\"tg-0pky\">wb</td>\n",
    "  </tr>\n",
    "  <tr>\n",
    "    <td class=\"tg-0pky\"><img style=\"height: 25px;\" src=\"Resources/wq.png\"></td>\n",
    "    <td class=\"tg-0pky\">White Queen</td>\n",
    "    <td class=\"tg-0pky\">wq</td>\n",
    "  </tr>\n",
    "  <tr>\n",
    "    <td class=\"tg-0pky\"><img style=\"height: 25px;\" src=\"Resources/wk.png\"></td>\n",
    "    <td class=\"tg-0pky\">White King</td>\n",
    "    <td class=\"tg-0pky\">wk</td>\n",
    "  </tr>\n",
    "  <tr>\n",
    "    <td class=\"tg-0pky\"><img style=\"height: 25px;\" src=\"Resources/bp.png\"></td>\n",
    "    <td class=\"tg-0pky\">Black Pawn</td>\n",
    "    <td class=\"tg-0pky\">bp</td>\n",
    "  </tr>\n",
    "  <tr>\n",
    "    <td class=\"tg-0lax\"><img style=\"height: 25px;\" src=\"Resources/br.png\"></td>\n",
    "    <td class=\"tg-0lax\">Black Rook</td>\n",
    "    <td class=\"tg-0lax\">br</td>\n",
    "  </tr>\n",
    "  <tr>\n",
    "    <td class=\"tg-0lax\"><img style=\"height: 25px;\" src=\"Resources/bn.png\"></td>\n",
    "    <td class=\"tg-0lax\">Black Knight</td>\n",
    "    <td class=\"tg-0lax\">bn</td>\n",
    "  </tr>\n",
    "  <tr>\n",
    "    <td class=\"tg-0lax\"><img style=\"height: 25px;\" src=\"Resources/bb.png\"></td>\n",
    "    <td class=\"tg-0lax\">Black Bishop</td>\n",
    "    <td class=\"tg-0lax\">bb</td>\n",
    "  </tr>\n",
    "  <tr>\n",
    "    <td class=\"tg-0lax\"><img style=\"height: 25px;\" src=\"Resources/bq.png\"></td>\n",
    "    <td class=\"tg-0lax\">Black Queen</td>\n",
    "    <td class=\"tg-0lax\">bq</td>\n",
    "  </tr>\n",
    "  <tr>\n",
    "    <td class=\"tg-0lax\"><img style=\"height: 25px;\" src=\"Resources/bk.png\"></td>\n",
    "    <td class=\"tg-0lax\">Black King</td>\n",
    "    <td class=\"tg-0lax\">bk</td>\n",
    "  </tr>\n",
    "</table>\n",
    "\n",
    "```python\n",
    ">>> chessboard = [ ['wr', 'wb', 'wn', 'wk', 'wq', 'wn', 'wb', 'wr'],\n",
    "                   ['wp', 'wp', 'wp', 'wp', 'wp', 'wp', 'wp', 'wp'],\n",
    "                   ['--', '--', '--', '--', '--', '--', '--', '--'],\n",
    "                   ['--', '--', '--', '--', '--', '--', '--', '--'],\n",
    "                   ['--', '--', '--', '--', '--', '--', '--', '--'],\n",
    "                   ['--', '--', '--', '--', '--', '--', '--', '--'],\n",
    "                   ['bp', 'bp', 'bp', 'bp', 'bp', 'bp', 'bp', 'bp'],\n",
    "                   ['br', 'bb', 'bn', 'bk', 'bq', 'bn', 'bb', 'br'] ]\n",
    "```"
   ]
  },
  {
   "cell_type": "markdown",
   "metadata": {
    "deletable": false,
    "editable": false,
    "run_control": {
     "frozen": true
    }
   },
   "source": [
    "### Part 2: Accessing Elements\n",
    "Now that we've got our 2-dimensional list setup, we likely want to be able to access values that are stored inside. To do so, we make use of the same indexing operator we would with a single-dimensional list. As a refresher, if we had the following list:\n",
    "```python\n",
    ">>> list_sample = [\"Apples\", \"Oranges\", \"Bananas\"]\n",
    "```\n",
    "Then we would access the second element (```\"Oranges\"```) like this:\n",
    "```python\n",
    ">>> list_sample[1] # Resolves as \"Oranges\"\n",
    "\"Oranges\"\n",
    "```\n",
    "With a multi-dimensional list, one simple chains together these index operations. In the above chess example, if we wanted access to the element in the 2nd row, 4th column, we would do the following:\n",
    "```python\n",
    ">>> chessboard[1][3] # Resolves as 'wp'\n",
    "\"wp\"\n",
    "```"
   ]
  },
  {
   "cell_type": "markdown",
   "metadata": {
    "deletable": false,
    "editable": false,
    "run_control": {
     "frozen": true
    }
   },
   "source": [
    "### Part 3: Iteratively Generating a 2D List\n",
    "Alright, now that we've covered how to declare a 2D list and how to access the elements within it, the last component to cover is how to generate the 2D list iteratively. In other words, make use of a nested looping structure. This approach is useful when the 2D is dependent on some external or internal factor rather than some static configuration. As an example, let's go through the process of writing the setup with a variable pattern:"
   ]
  },
  {
   "cell_type": "code",
   "execution_count": 2,
   "metadata": {
    "deletable": false,
    "editable": false
   },
   "outputs": [
    {
     "name": "stdout",
     "output_type": "stream",
     "text": [
      "['*', '*', '&', '&', '&']\n",
      "['&', '&', '*', '*', '&']\n",
      "['&', '&', '&', '&', '*']\n",
      "['*', '&', '&', '&', '&']\n",
      "['&', '*', '*', '&', '&']\n"
     ]
    }
   ],
   "source": [
    "def generate_pattern(row_num, col_num, symbols, offsets):\n",
    "    \"\"\"\n",
    "    generate_pattern() is a function that, given the number of rows, the number of columns,\n",
    "    the symbols, and any offsets (number of appearances for each symbol).\n",
    "    \"\"\"\n",
    "    symbol_counter = 0\n",
    "    offset_counter = 1\n",
    "    output_pattern = []\n",
    "    # Generate each row iteratively\n",
    "    for row in range(row_num):\n",
    "        row_pattern = []\n",
    "        col_counter = 0\n",
    "        # Generate each column in the row and append to the current row\n",
    "        while col_counter != col_num:\n",
    "            if offset_counter > offsets[symbol_counter]:\n",
    "                symbol_counter += 1\n",
    "                offset_counter = 1\n",
    "            else:\n",
    "                row_pattern.append(symbols[symbol_counter])\n",
    "                offset_counter += 1\n",
    "                col_counter += 1\n",
    "            if symbol_counter == len(symbols):\n",
    "                symbol_counter = 0\n",
    "        # Append the completed row to the pattern\n",
    "        output_pattern.append(row_pattern)\n",
    "    return output_pattern\n",
    "\n",
    "pattern = generate_pattern(5, 5, [\"*\", \"$\", \"&\"], [2, 0, 5])\n",
    "for row in pattern:\n",
    "    print(row)"
   ]
  },
  {
   "cell_type": "markdown",
   "metadata": {
    "deletable": false,
    "editable": false,
    "run_control": {
     "frozen": true
    }
   },
   "source": [
    "Try running the above code. It should generate a 5 by 5 2D list. Now give it a try yourself - write a function that generates a 2D list of a variable size (as an argument like above) and have it display the fibonacci sequence. In other words, the first value should be 0 and the second a 1, then so forth. The fibonacci sequence is defined as such: the next number is the sum of the previous two."
   ]
  },
  {
   "cell_type": "code",
   "execution_count": 3,
   "metadata": {},
   "outputs": [
    {
     "name": "stdout",
     "output_type": "stream",
     "text": [
      "[0, 1, 1]\n",
      "[2, 3, 5]\n"
     ]
    }
   ],
   "source": [
    "def fibonacci(numrow,numcol):\n",
    "\tnum1 = 0 \n",
    "\tnum2 = 1 \n",
    "\touterlist = []\n",
    "\tfor row in range(numrow):\n",
    "\t\tinnerlist = []\n",
    "\t\tfor col in range(numcol):\n",
    "\t\t\tinnerlist.append(num1)\n",
    "\t\t\tnum1,num2 = num2,num1 + num2\n",
    "\t\touterlist.append(innerlist)\n",
    "\treturn(outerlist)\n",
    "\n",
    "sequence = fibonacci(2,3)\n",
    "\n",
    "for row in sequence:\n",
    "\tprint(row)"
   ]
  },
  {
   "cell_type": "markdown",
   "metadata": {
    "deletable": false,
    "editable": false,
    "run_control": {
     "frozen": true
    }
   },
   "source": [
    "## Tutorial Exercises"
   ]
  },
  {
   "cell_type": "markdown",
   "metadata": {
    "deletable": false,
    "editable": false,
    "run_control": {
     "frozen": true
    }
   },
   "source": [
    "Your task this Tutorial is to write one of the two following programs - you're welcome to select whichever you prefer. Neither is worth more marks than the other.\n",
    "\n",
    "#### (1) Drawing Shapes with PyGame\n",
    "<img style=\"height: 100px;\" src=\"Resources\\pygame.png\">\n",
    "***\n",
    "You must write a PyGame program that satisfies the following requirements:\n",
    "* You must divide the window into a 8 x 8 grid\n",
    "    * This grid must take the form of a 2D list\n",
    "    * The values of the 2D list should be initialized by default as 0\n",
    "<img style=\"width: 250px;\" src=\"Resources\\grid.png\">\n",
    "* When the user clicks inside one of the grid boxes, you should update the corresponding value in the 2D list to 1 (or back to zero if it already was a 1). Think of it as a 'Toggle'.\n",
    "* For each grid box, you must draw some shape inside the box if the stored value for that box is a 1 - otherwise, draw nothing.\n",
    "    * For the shape, you may either draw a simple shape (rect, circle, etc.) or a complex shape via the usage of a function. Please note that doing a complex shape (depending on the complexity and degree of completeness) may result in the awarding of a bonus 10% at the discretion of the TA.\n",
    "* To handle the mouse-based events, please refer to the following documentation: https://www.pygame.org/docs/ref/mouse.html\n",
    "    * Note that pygame.mouse.get_pos() returns a tuple with the (x, y) location\n",
    "    * Note that pygame.mouse.get_pressed() returns a tuple of the states of the buttons - for a left click, you're concerned with the first index value.\n",
    "* **If you do not want to approach this problem using mouse-based input, you may instead use the input statement to take, separately, the row and column that the user wishes to toggle.**\n",
    "\n",
    "#### (2) Chessgame-based Functions in the Terminal\n",
    "<img style=\"height: 100px;\" src=\"Resources\\terminal.png\">\n",
    "***\n",
    "* You must write a function (```print_board_state(...)```) that outputs the current state of the board.\n",
    "    * As an input, this function should take a 2D list - 8 by 8.\n",
    "    * As an ouput, this function should return a nicely formatted board-like output.\n",
    "* You must write a function (```is_space_occupied(...)```) that returns a boolean stating whether a given spot has a piece or not.\n",
    "    * This function must take as input a flag indicating whose turn it currently is (I'd recommend using a character representing either 'w' or 'b').\n",
    "        * If there is a piece, but that piece is not the current player's piece, it should return False nonetheless.\n",
    "    * It must also take as input the variable storing the board-state.\n",
    "    * Finally, the function must also take a coordinate (tuple) for which square they wish to check.\n",
    "* You must write a function (```is_valid_move(...)```) that returns a boolean stating whether a piece can move to a specified location or not. Note that the move being suggested does not need to be valid as per chess rules.\n",
    "    * As input, this must take a tuple refering to the coordinate of the piece being moved.\n",
    "    * As input, this must also take a tuple referring to the location to move to.\n",
    "    * Within this function, you should use your above function to verify that both the current location and location to be moved are correct (current location should be your piece and moved location should be empty or an opponents space).\n",
    "    * Of course, you'll also need the board as input (the 2D list) and the flag for whose turn it current is.\n",
    "    * You're welcome to add input parameters as required.\n",
    "    \n",
    "* As a potential bonus, you may modify the above function (```is_valid_move()```) to also take into account the piece's particularity. In other words, the move proposed must also be legal for the piece being moved. A pawn can only move forwards, except if it is capturing a piece, in which case it may move diagonally one space. You must have the behaviors coded for for at least 2 pieces to receive the credit for this (10% bonus).\n",
    "* ** Please note that you are NOT required to code up a full working game. Rather, you must only write the above functions that satisfy the requirements listed. You may test your code with a series of hard-coded tests, such as: **\n",
    "```python\n",
    "print(is_valid_move(board, from_loc, to_loc, turn_bool))\n",
    "print_board_state(board)\n",
    "print(is_space_occupied(board, coordinate, turn_bool))\n",
    "```"
   ]
  },
  {
   "cell_type": "code",
   "execution_count": 4,
   "metadata": {},
   "outputs": [
    {
     "name": "stdout",
     "output_type": "stream",
     "text": [
      "['wr', 'wb', 'wn', 'wk', 'wq', 'wn', 'wb', 'wr']\n",
      "['wp', 'wp', 'wp', 'wp', 'wp', 'wp', 'wp', 'wp']\n",
      "['--', '--', '--', '--', '--', '--', '--', '--']\n",
      "['--', '--', '--', '--', '--', '--', '--', '--']\n",
      "['--', '--', '--', '--', '--', '--', '--', '--']\n",
      "['--', '--', '--', '--', '--', '--', '--', '--']\n",
      "['bp', 'bp', 'bp', 'bp', 'bp', 'bp', 'bp', 'bp']\n",
      "['br', 'bb', 'bn', 'bk', 'bq', 'bn', 'bb', 'br']\n"
     ]
    }
   ],
   "source": [
    "def chessboard(row_num, col_num, pieces, offsets):\n",
    "    pieces_counter = 0\n",
    "    offset_counter = 1\n",
    "    output_pattern = []\n",
    "    for row in range(row_num):\n",
    "        row_pattern = []\n",
    "        col_counter = 0\n",
    "        while col_counter != col_num:\n",
    "            if offset_counter > offsets[pieces_counter]:\n",
    "               \tpieces_counter += 1\n",
    "                offset_counter = 1\n",
    "            else:\n",
    "                row_pattern.append(pieces[pieces_counter])\n",
    "                offset_counter += 1\n",
    "                col_counter += 1\n",
    "            if pieces_counter == len(pieces):\n",
    "                pieces_counter = 0\n",
    "        output_pattern.append(row_pattern)\n",
    "    return output_pattern\n",
    "\n",
    "chess = chessboard(8, 8, [\"wr\", \"wb\", \"wn\",\"wk\",\"wq\",\"wn\",\"wb\",\"wr\",\"wp\",\"--\",\"bp\",\"br\", \"bb\", \"bn\",\"bk\",\"bq\",\"bn\",\"bb\",\"br\"], [1, 1, 1,1,1,1,1,1,8,32,8,1,1,1,1,1,1,1,1])\n",
    "def print_board_state():\n",
    "\tfor row in chess:\n",
    "   \t\tprint(row)\n",
    "print_board_state()"
   ]
  },
  {
   "cell_type": "markdown",
   "metadata": {
    "deletable": false,
    "editable": false,
    "run_control": {
     "frozen": true
    }
   },
   "source": [
    "## Knowledge Test"
   ]
  },
  {
   "cell_type": "markdown",
   "metadata": {
    "deletable": false,
    "editable": false,
    "run_control": {
     "frozen": true
    }
   },
   "source": [
    "To cap off this Tutorial, complete the following test of knowledge. Please answer the following question(s) to the best of your ability. Try to complete this without consulting the notes above if possible. As mentioned in the milestones above, each question is worth a possible 5%, with no part marks possible."
   ]
  },
  {
   "cell_type": "markdown",
   "metadata": {
    "deletable": false,
    "editable": false,
    "run_control": {
     "frozen": true
    }
   },
   "source": [
    "*(1) Given a 3 Dimensional List of size 5 by 6 by 10, how would you access the contents of 4th element in the outer list? What type of object is that item?*\n",
    "***"
   ]
  },
  {
   "cell_type": "markdown",
   "metadata": {},
   "source": [
    "list[3] "
   ]
  },
  {
   "cell_type": "markdown",
   "metadata": {
    "deletable": false,
    "editable": false,
    "run_control": {
     "frozen": true
    }
   },
   "source": [
    "*Use the following code for the next 2 questions:*\n",
    "```python\n",
    "two_dimensional_list = []\n",
    "for row in range(5):\n",
    "    for col in range(10):\n",
    "        two_dimensional_list.append(0)\n",
    "```"
   ]
  },
  {
   "cell_type": "markdown",
   "metadata": {
    "deletable": false,
    "editable": false,
    "run_control": {
     "frozen": true
    }
   },
   "source": [
    "*(2) In the above code, what is the size of ```two_dimensional_list```?*\n",
    "***"
   ]
  },
  {
   "cell_type": "markdown",
   "metadata": {},
   "source": [
    "5 by 10 "
   ]
  },
  {
   "cell_type": "markdown",
   "metadata": {
    "deletable": false,
    "editable": false,
    "run_control": {
     "frozen": true
    }
   },
   "source": [
    "*(3) If the intention of the above code was to create a two-dimensional list, was it done properly? If not, explain what is wrong.*\n",
    "***"
   ]
  },
  {
   "cell_type": "markdown",
   "metadata": {},
   "source": [
    "no, there is no inner list"
   ]
  },
  {
   "cell_type": "markdown",
   "metadata": {
    "deletable": false,
    "editable": false,
    "run_control": {
     "frozen": true
    }
   },
   "source": [
    "*(4) What is the difference between a multi-dimensional list and a multi-dimensional tuple?*\n",
    "***"
   ]
  },
  {
   "cell_type": "markdown",
   "metadata": {},
   "source": [
    "multidimensional lists can be modified, as to multidimensional tuples cant be modified and only redefined"
   ]
  },
  {
   "cell_type": "markdown",
   "metadata": {
    "deletable": false,
    "editable": false,
    "run_control": {
     "frozen": true
    }
   },
   "source": [
    "***\n",
    "## Resources / References\n",
    "<br>\n",
    "<div class=note-title><p class=numberCircleNote>R</p> External Resources</div>\n",
    "<div class=note> </div>\n",
    "<br>\n",
    "<div class=note-title><p class=numberCircleNote>iR</p> Internal Resources</div>\n",
    "<div class=note> </div>\n",
    "\n",
    "\n",
    "***\n",
    "## Appendix\n",
    "The following section will contain some code vital to the visual component of this Tutorial Specification. Note that any code found in the section will not impact any code being run, though it is highly recommended to re-run the cells here if you have cleared the output of ALL cells."
   ]
  },
  {
   "cell_type": "code",
   "execution_count": 1,
   "metadata": {
    "hide_input": true,
    "init_cell": true
   },
   "outputs": [
    {
     "data": {
      "text/html": [
       "<style>\n",
       "div.warn {    \n",
       "    background-color: #ffe6e6;\n",
       "    padding: 0.5em;\n",
       "    padding-left: 1em;\n",
       "}\n",
       "div.warn-title { \n",
       "    background-color: #cc0000;\n",
       "    color: #FFFFFF;\n",
       "    padding-left: 0.75em;\n",
       "    font-weight: bold;\n",
       "}\n",
       "\n",
       ".numberCircleWarn {\n",
       "    border-radius: 50%;\n",
       "    behavior: url(PIE.htc);\n",
       "    display: inline-block;\n",
       "    /* remove if you don't care about IE8 */\n",
       "    width: 18px;\n",
       "    height: 18px;\n",
       "    padding: 3px;\n",
       "    background: #ffffff;\n",
       "    color: #cc0000;\n",
       "    text-align: center;\n",
       "    font: 12px Arial, sans-serif;\n",
       "}\n",
       "\n",
       "div.note {\n",
       "    background-color: #e6f2ff;\n",
       "    padding: 0.5em;\n",
       "    padding-left: 1em;\n",
       "}\n",
       "\n",
       "div.note-title {\n",
       "    background-color: #80bdff;\n",
       "    color: #FFFFFF;\n",
       "    padding-left: 0.75em;\n",
       "    font-weight: bold;\n",
       "}\n",
       "\n",
       ".numberCircleNote {\n",
       "    border-radius: 50%;\n",
       "    behavior: url(PIE.htc);\n",
       "    display: inline-block;\n",
       "    /* remove if you don't care about IE8 */\n",
       "    width: 18px;\n",
       "    height: 18px;\n",
       "    padding: 3px;\n",
       "    background: #ffffff;\n",
       "    color: #80bdff;\n",
       "    text-align: center;\n",
       "    font: 12px Arial, sans-serif;\n",
       "    font-weight: bold;\n",
       "}\n",
       "\n",
       "div.success {\n",
       "    background-color: #e6fff3;\n",
       "    padding: 0.5em;\n",
       "    padding-left: 1em;\n",
       "}\n",
       "\n",
       "div.success-title {\n",
       "    background-color: #009933;\n",
       "    color: #FFFFFF;\n",
       "    padding-left: 0.75em;\n",
       "    font-weight: bold;\n",
       "}\n",
       "\n",
       ".numberCircleSuccess {\n",
       "    border-radius: 50%;\n",
       "    behavior: url(PIE.htc);\n",
       "    display: inline-block;\n",
       "    /* remove if you don't care about IE8 */\n",
       "    width: 18px;\n",
       "    height: 18px;\n",
       "    padding: 3px;\n",
       "    background: #ffffff;\n",
       "    color: #009933;\n",
       "    text-align: center;\n",
       "    font: 12px Arial, sans-serif;\n",
       "    line-height: 1.2;\n",
       "}\n",
       "\n",
       "div.code {\n",
       "    background-color: #f9e6ff;\n",
       "    padding: 0.5em;\n",
       "    padding-left: 1em;\n",
       "}\n",
       "\n",
       "div.code-title {\n",
       "    background-color: #730099;\n",
       "    color: #FFFFFF;\n",
       "    padding-left: 0.75em;\n",
       "    font-weight: bold;\n",
       "}\n",
       "\n",
       ".numberCircleCode {\n",
       "    border-radius: 50%;\n",
       "    behavior: url(PIE.htc);\n",
       "    display: inline-block;\n",
       "    /* remove if you don't care about IE8 */\n",
       "    width: 18px;\n",
       "    height: 18px;\n",
       "    padding: 3px;\n",
       "    background: #ffffff;\n",
       "    color: #730099;\n",
       "    text-align: center;\n",
       "    font: 12px Arial, sans-serif;\n",
       "}\n",
       "</style>"
      ],
      "text/plain": [
       "<IPython.core.display.HTML object>"
      ]
     },
     "execution_count": 1,
     "metadata": {},
     "output_type": "execute_result"
    }
   ],
   "source": [
    "from IPython.core.display import HTML\n",
    "def css_styling():\n",
    "    styles = open(\"Resources/stylesheet.css\", \"r\").read()\n",
    "    return HTML(styles)\n",
    "css_styling()"
   ]
  }
 ],
 "metadata": {
  "kernelspec": {
   "display_name": "Python 3",
   "language": "python",
   "name": "python3"
  },
  "language_info": {
   "codemirror_mode": {
    "name": "ipython",
    "version": 3
   },
   "file_extension": ".py",
   "mimetype": "text/x-python",
   "name": "python",
   "nbconvert_exporter": "python",
   "pygments_lexer": "ipython3",
   "version": "3.6.8"
  }
 },
 "nbformat": 4,
 "nbformat_minor": 2
}
