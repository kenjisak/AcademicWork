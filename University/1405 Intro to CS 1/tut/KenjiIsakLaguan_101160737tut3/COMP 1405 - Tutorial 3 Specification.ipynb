{
 "cells": [
  {
   "cell_type": "markdown",
   "metadata": {
    "deletable": false,
    "editable": false,
    "run_control": {
     "frozen": true
    }
   },
   "source": [
    "**COMP 1405 - Introduction to Computer Science I (Fall 2018)** <img style=\"float: right; height: 50px;\" src=\"Resources/carleton.png\"><br>\n",
    "\n",
    "*Specification for Tutorial 3 / 10*\n",
    "\n",
    "***"
   ]
  },
  {
   "cell_type": "markdown",
   "metadata": {
    "deletable": false,
    "editable": false,
    "run_control": {
     "frozen": true
    }
   },
   "source": [
    "## Tutorial 3: Control Structures and Branching\n",
    "Last week was a dive into more complex user interactions via input and output (formatting). Not everything can be devised as a simple ask and print type program, though. This week we will be exploring how to use the simplest form of a control structure, allowing us to make use of branching program paths.\n",
    "\n",
    "This will be a **graded** Tutorial and you must submit your Tutorial by the end of your respective Tutorial time to receive the credit for it. This Tutorial must be accomplished during the Tutorial time and in the Tutorial Lab at school - we will be taking attendance: submissions by non-attendees will not be considered and an automatic grade of 0 will be given. Otherwise, the milestones for this Tutorial will be as followed:\n",
    "\n",
    "| <p align=\"left\">Milestone</p>                                                       | <p align=\"center\">Associated Grade</p> |\n",
    "|-------------------------------------------------------------------------------------|------------------|\n",
    "| <p align=\"left\">Completing the introductory 'Tutorial' components (prior to the Tutorial Exercises)</p> |        <p align=\"center\">20%</p>       |\n",
    "| <p align=\"left\">Completing the Tutorial Exercises 'halfway' (2 supported shapes OR one of part-time/full-time)</p>  |        <p align=\"center\">50%</p>       |\n",
    "| <p align=\"left\">Completing the Tutorial Exercises</p>            |        <p align=\"center\">80%</p>       |\n",
    "| <p align=\"left\">Knowledge Quiz (5% per correct response)</p>                                            |    <p align=\"center\">80% - 100%</p>    |\n",
    "\n",
    "Once you are completed the Tutorial, please zip up all the relevant files (i.e. all the downloaded ones and any additional ones you have added) and adhere to the following naming convention:\n",
    "\n",
    "```FirstnameLastname_studentnumber.zip```\n",
    "\n",
    "Example: \n",
    "JohnDoe_100000000.zip<br><br>\n",
    "\n",
    "<div class=warn-title><p class=numberCircleWarn>&nbsp;!!</p> Warning</div>\n",
    "<div class=warn>Be sure to upload this .zip file to CuLearn under the <b>Tutorial 03 Submission</b>.</div>"
   ]
  },
  {
   "cell_type": "markdown",
   "metadata": {
    "deletable": false,
    "editable": false,
    "run_control": {
     "frozen": true
    }
   },
   "source": [
    "### Part 1: Introduction to Logical Boolean Statements\n",
    "Before going into control structures, it is important to understand what logical boolean statements (or just boolean statements) are. We learned previously that a boolean can have one of two possible values: True or False. While it is possible to simple pre-set a variable to True or False, usually it makes more sense to have some evaluation component. For example:\n",
    "<br><br>\n",
    "<div class=code-title><p class=numberCircleCode>&lt;&gt;</p> Code</div>\n",
    "<div class=\"code\">\n",
    "    <pre style=\"background-color: #f9e6ff;\"><code class=\"language-python\" style=\"background-color: #f9e6ff;\">number = 5\n",
    "evaluation_1 = number > 10\n",
    "evaluation_2 = number < 10</code></pre>\n",
    "</div>\n",
    "\n",
    "To build a boolean statement, we make use of logical operators. As shown above, these can include ```<``` and ```>```. These operators will always return a boolean value (either True or False). In the above example, ```evaluation_1``` is False and ```evaluation_2``` is True. Here are the rest of the logical operators:\n",
    "\n",
    "| Logical Operator | Meaning                  | Usage  |\n",
    "|------------------|--------------------------|--------|\n",
    "| <                | <p align=\"left\">Less than</p>                | a < b  |\n",
    "| >                | <p align=\"left\">Greater than</p>             | a > b  |\n",
    "| <=               | <p align=\"left\">Less than or Equal to</p>    | a <= b |\n",
    "| >=               | <p align=\"left\">Greater than or Equal to</p> | a >= b |\n",
    "| ==               | <p align=\"left\">Equal to</p>                 | a == b |\n",
    "    | !=               | <p align=\"left\">Not Equal to</p>             | a != b |\n",
    "    \n",
    "Try writing your own boolean statements using some of the logical operators above (not > or < though)."
   ]
  },
  {
   "cell_type": "code",
   "execution_count": 3,
   "metadata": {},
   "outputs": [],
   "source": [
    "num = 1\n",
    "evalone = num >= 5\n",
    "evaltwo = num == 1"
   ]
  },
  {
   "cell_type": "markdown",
   "metadata": {
    "deletable": false,
    "editable": false,
    "run_control": {
     "frozen": true
    }
   },
   "source": [
    "### Part 2: Introduction to the Conditional Control Structure"
   ]
  },
  {
   "cell_type": "markdown",
   "metadata": {
    "deletable": false,
    "editable": false,
    "run_control": {
     "frozen": true
    }
   },
   "source": [
    "Now that we have a grasp on boolean statements, we can advance to using conditional type control structures. This structure comes in three varieties: ```if```, ```elif```, and ```else```. It should be noted that while there are three varieties, they **must** be used in a particular sequence. The first conditional control structure must always be the ```if``` statement. If there are only two possible branches, then the second must be the ```else``` statement. If there are three or more possibilities, every middle branch uses the ```elif``` (or else-if) statement. For example:\n",
    "<br><br>\n",
    "<div class=code-title><p class=numberCircleCode>&lt;&gt;</p> Code: 1 Condition</div>\n",
    "<div class=\"code\">\n",
    "    <pre style=\"background-color: #f9e6ff;\"><code class=\"language-python\" style=\"background-color: #f9e6ff;\">if (a == b):\n",
    "    # do something</code></pre>\n",
    "</div>\n",
    "<br>\n",
    "<div class=code-title><p class=numberCircleCode>&lt;&gt;</p> Code: 2 Conditions</div>\n",
    "<div class=\"code\">\n",
    "    <pre style=\"background-color: #f9e6ff;\"><code class=\"language-python\" style=\"background-color: #f9e6ff;\">if (a == b):\n",
    "    # do something\n",
    "else:\n",
    "    # do something</code></pre>\n",
    "</div>\n",
    "<br>\n",
    "<div class=code-title><p class=numberCircleCode>&lt;&gt;</p> Code: 3+ Conditions</div>\n",
    "<div class=\"code\">\n",
    "    <pre style=\"background-color: #f9e6ff;\"><code class=\"language-python\" style=\"background-color: #f9e6ff;\">if (a == b):\n",
    "    # do something\n",
    "elif (a > b):\n",
    "    # do something\n",
    "elif (a < b):\n",
    "    # do something\n",
    "else:\n",
    "    # do something</code></pre>\n",
    "</div>\n",
    "    \n",
    "For the ```if``` and ```elif``` statements, you must include your boolean statement inside. If the statement evaluates to True, the part within them is run. Otherwise, it will be ignored. The ```else``` statement does not require a boolean statement as it simply encompasses all other possibilities. Try writing up a quick set of two conditions for the following two variables: \n",
    "<br><br>\n",
    "<div class=code-title><p class=numberCircleCode>&lt;&gt;</p> Code</div>\n",
    "<div class=\"code\">\n",
    "    <pre style=\"background-color: #f9e6ff;\"><code class=\"language-python\" style=\"background-color: #f9e6ff;\">a = 7\n",
    "b = 14</code></pre>\n",
    "</div>"
   ]
  },
  {
   "cell_type": "code",
   "execution_count": 2,
   "metadata": {},
   "outputs": [
    {
     "name": "stdout",
     "output_type": "stream",
     "text": [
      "7 14\n"
     ]
    }
   ],
   "source": [
    "a = 7\n",
    "b = 14\n",
    "if (a == b):\n",
    "    print(a+b)\n",
    "else:\n",
    "    print(a,b)"
   ]
  },
  {
   "cell_type": "markdown",
   "metadata": {
    "deletable": false,
    "editable": false,
    "run_control": {
     "frozen": true
    }
   },
   "source": [
    "## Tutorial Exercises"
   ]
  },
  {
   "cell_type": "markdown",
   "metadata": {
    "deletable": false,
    "editable": false,
    "run_control": {
     "frozen": true
    }
   },
   "source": [
    "Your task this Tutorial is to write __one of the two__ following programs - you're welcome to select whichever you prefer. Neither is worth more marks than the other.\n",
    "\n",
    "#### (1) Drawing Shapes with PyGame\n",
    "<img style=\"height: 100px;\" src=\"Resources\\pygame.png\">\n",
    "***\n",
    "You must write a PyGame program that satisfies the following requirements:\n",
    "* The program must ask the user for 2 inputs - 1 shape and 1 color. Both will be strings\n",
    "* Your program must support at least 4 shapes\n",
    "* Your program must support at least 3 colors\n",
    "\n",
    "#### (2) In-Depth Auditing System with Console\n",
    "<img style=\"height: 100px;\" src=\"Resources\\terminal.png\">\n",
    "***\n",
    "You must write an interactive auditing system that satisfies the following requirements:\n",
    "* The program must ask the user for their first name, last name, and age (type-cast as required)\n",
    "* The program must ask the user if they are full-time or part-time\n",
    "* If they are part-time: you must ask the user for 3 sets of input for their course codes/names\n",
    "* If they are full-time: you must ask the user for 5 sets of input for their course codes/names\n",
    "* Print out (nicely formatted) all the information given"
   ]
  },
  {
   "cell_type": "code",
   "execution_count": 4,
   "metadata": {},
   "outputs": [
    {
     "name": "stdout",
     "output_type": "stream",
     "text": [
      "whats your first name?Kenji\n",
      "whats your last name?Isak\n",
      "how old are you?18\n",
      "Are you full time or partime in school?\n",
      "1. full time\n",
      "2. part time\n",
      "Enter the number: 2\n",
      "Please enter all your 3 course codes\n",
      " CLCV 1001\n",
      " PSYC 1001\n",
      " MATH 1001\n",
      "\n",
      "-----------------\n",
      "All info:\n",
      "\n",
      "First Name: Kenji\n",
      "Last Name:  Isak\n",
      "Age:        18\n",
      "\n",
      "Courses:\n",
      "\n",
      "CLCV 1001 \n",
      "PSYC 1001 \n",
      "MATH 1001 \n"
     ]
    }
   ],
   "source": [
    "firstname = input (\"whats your first name?\")\n",
    "lastname = input (\"whats your last name?\")\n",
    "agestring = input (\"how old are you?\")\n",
    "age = int(agestring)\n",
    "\n",
    "print(\"Are you full time or partime in school?\")\n",
    "print(\"1. full time\\n2. part time\")\n",
    "\n",
    "fopstring = input(\"Enter the number: \")\n",
    "fop = int(fopstring)\n",
    "\n",
    "if (fop == 1):\n",
    "\tprint(\"Please enter all your 5 course codes\")\t\n",
    "\tcc1 = input(\" \")\n",
    "\tcc2 = input(\" \")\n",
    "\tcc3 = input(\" \")\n",
    "\tcc4 = input(\" \")\n",
    "\tcc5 = input(\" \")\n",
    "\tprint(\"\\n-----------------\\nAll info:\")\n",
    "\tprint(\"\\nFirst Name:{:>6s}\\nLast Name:{:>6s}\\nAge:{:>10d}\".format(firstname,lastname,age))\n",
    "\tprint(\"\\nCourses:\\n\")\t\n",
    "\tprint(\"{:>10s}\".format(cc1))\n",
    "\tprint(\"{:>10s}\".format(cc2))\n",
    "\tprint(\"{:>10s}\".format(cc3))\n",
    "\tprint(\"{:>10s}\".format(cc4))\n",
    "\tprint(\"{:>10s}\".format(cc5))\n",
    "else:\n",
    "\tprint(\"Please enter all your 3 course codes\")\t\n",
    "\tcc1 = input(\" \")\n",
    "\tcc2 = input(\" \")\n",
    "\tcc3 = input(\" \")\n",
    "\tprint(\"\\n-----------------\\nAll info:\")\n",
    "\tprint(\"\\nFirst Name:{:>6s}\\nLast Name:{:>6s}\\nAge:{:>10d}\".format(firstname,lastname,age))\n",
    "\tprint(\"\\nCourses:\\n\")\t\n",
    "\tprint(\"{:<10s}\".format(cc1))\n",
    "\tprint(\"{:<10s}\".format(cc2))\n",
    "\tprint(\"{:<10s}\".format(cc3))\n"
   ]
  },
  {
   "cell_type": "markdown",
   "metadata": {
    "deletable": false,
    "editable": false,
    "run_control": {
     "frozen": true
    }
   },
   "source": [
    "## Knowledge Test"
   ]
  },
  {
   "cell_type": "markdown",
   "metadata": {
    "deletable": false,
    "editable": false,
    "run_control": {
     "frozen": true
    }
   },
   "source": [
    "To cap off this Tutorial, complete the following test of knowledge. Please answer the following question(s) to the best of your ability. Try to complete this without consulting the notes above if possible. As mentioned in the milestones above, each question is worth a possible 5%, with no part marks possible."
   ]
  },
  {
   "cell_type": "markdown",
   "metadata": {
    "deletable": false,
    "editable": false,
    "run_control": {
     "frozen": true
    }
   },
   "source": [
    "*(1) Jonathan has written the following code script, but it is not working as intended - what is wrong with his code? How would you propose to fix it? Fix the code below and then add your written answer to the cell below. Don't forget to change your cell to Markdown for your response.*"
   ]
  },
  {
   "cell_type": "code",
   "execution_count": null,
   "metadata": {
    "deletable": false,
    "editable": false
   },
   "outputs": [],
   "source": [
    "a = 7\n",
    "b = 7\n",
    "if (a = b):\n",
    "    print(\"{} is equal to {}\".format(a, b))"
   ]
  },
  {
   "cell_type": "markdown",
   "metadata": {},
   "source": [
    "line 3 needs a double equals to evaluate\n",
    "if(a==b):"
   ]
  },
  {
   "cell_type": "markdown",
   "metadata": {
    "deletable": false,
    "editable": false,
    "run_control": {
     "frozen": true
    }
   },
   "source": [
    "*(2) Samantha includes the following snippet of code in her script, but the professor has rejected it, claiming that her code doesn't conform to standard practice and is inefficient. Can you spot the mistake in the code below? Explain your response in the cell below - don't forget to change your cell to Markdown for your response.*\n",
    "\n",
    "```python\n",
    "a = 5\n",
    "b = 13\n",
    "\n",
    "# Conditionals with 2 possible branches\n",
    "if (a == b):\n",
    "    print(\"{} is equal to {}\".format(a, b))\n",
    "elif (a != b):\n",
    "    print(\"{} is not equal to {}\".format(a, b))\n",
    "    \n",
    "# end program```"
   ]
  },
  {
   "cell_type": "markdown",
   "metadata": {},
   "source": [
    "if there are only 2 possible branches then it should be an else, not an elif. elif is only used and is standard practice when there are 3 or more possible branches"
   ]
  },
  {
   "cell_type": "markdown",
   "metadata": {
    "deletable": false,
    "editable": false,
    "run_control": {
     "frozen": true
    }
   },
   "source": [
    "*(3) What is the meaning of the ```!=``` operator? Explain your response in the cell below - don't forget to change your cell to Markdown for your response.*"
   ]
  },
  {
   "cell_type": "markdown",
   "metadata": {},
   "source": [
    "that operator means \"doesnt equal to\""
   ]
  },
  {
   "cell_type": "markdown",
   "metadata": {
    "deletable": false,
    "editable": false,
    "run_control": {
     "frozen": true
    }
   },
   "source": [
    "*(4) Bryan is having a little difficulty with conditional control structures - his code doesn't seem to be working and he can't figure out why. Bryan has narrowed it down to the following snippet of code - explain what the error in the cell below. Be sure to change your cell to Markdown for your response.*\n",
    "\n",
    "```python\n",
    "a = 5\n",
    "b = 6\n",
    "\n",
    "if (a + b = 11):\n",
    "    print(\"Success!\")\n",
    "else:\n",
    "    print(\"Failure...\")```"
   ]
  },
  {
   "cell_type": "markdown",
   "metadata": {},
   "source": [
    "on line 4 the if statement is missing a double equals to evaluate"
   ]
  },
  {
   "cell_type": "markdown",
   "metadata": {
    "deletable": false,
    "editable": false,
    "run_control": {
     "frozen": true
    }
   },
   "source": [
    "***\n",
    "## Resources / References\n",
    "<br>\n",
    "<div class=note-title><p class=numberCircleNote>R</p> External Resources</div>\n",
    "<div class=note> <a href=\"https://www.pygame.org/docs/\">PyGame Documentation</a><br><a href=\"https://docs.python.org/3.6/library/stdtypes.html#index-1\">Python Built-In Types Documentation</a></div>\n",
    "<br>\n",
    "<div class=note-title><p class=numberCircleNote>iR</p> Internal Resources</div>\n",
    "<div class=note> Lecture 04 - Pipelines, Processes, and Data Types<br>Lecture 05 - Logical Operators and Boolean Values<br>Lecture 06 - Control Structures and Branching</div>\n",
    "\n",
    "\n",
    "***\n",
    "## Appendix\n",
    "The following section will contain some code vital to the visual component of this Tutorial Specification. Note that any code found in the section will not impact any code being run, though it is highly recommended to re-run the cells here if you have cleared the output of ALL cells."
   ]
  },
  {
   "cell_type": "code",
   "execution_count": 2,
   "metadata": {
    "deletable": false,
    "editable": false,
    "hide_input": true,
    "init_cell": true,
    "run_control": {
     "frozen": true
    }
   },
   "outputs": [
    {
     "data": {
      "text/html": [
       "<style>\n",
       "div.warn {    \n",
       "    background-color: #ffe6e6;\n",
       "    padding: 0.5em;\n",
       "    padding-left: 1em;\n",
       "}\n",
       "div.warn-title { \n",
       "    background-color: #cc0000;\n",
       "    color: #FFFFFF;\n",
       "    padding-left: 0.75em;\n",
       "    font-weight: bold;\n",
       "}\n",
       "\n",
       ".numberCircleWarn {\n",
       "    border-radius: 50%;\n",
       "    behavior: url(PIE.htc);\n",
       "    display: inline-block;\n",
       "    /* remove if you don't care about IE8 */\n",
       "    width: 18px;\n",
       "    height: 18px;\n",
       "    padding: 3px;\n",
       "    background: #ffffff;\n",
       "    color: #cc0000;\n",
       "    text-align: center;\n",
       "    font: 12px Arial, sans-serif;\n",
       "}\n",
       "\n",
       "div.note {\n",
       "    background-color: #e6f2ff;\n",
       "    padding: 0.5em;\n",
       "    padding-left: 1em;\n",
       "}\n",
       "\n",
       "div.note-title {\n",
       "    background-color: #80bdff;\n",
       "    color: #FFFFFF;\n",
       "    padding-left: 0.75em;\n",
       "    font-weight: bold;\n",
       "}\n",
       "\n",
       ".numberCircleNote {\n",
       "    border-radius: 50%;\n",
       "    behavior: url(PIE.htc);\n",
       "    display: inline-block;\n",
       "    /* remove if you don't care about IE8 */\n",
       "    width: 18px;\n",
       "    height: 18px;\n",
       "    padding: 3px;\n",
       "    background: #ffffff;\n",
       "    color: #80bdff;\n",
       "    text-align: center;\n",
       "    font: 12px Arial, sans-serif;\n",
       "    font-weight: bold;\n",
       "}\n",
       "\n",
       "div.success {\n",
       "    background-color: #e6fff3;\n",
       "    padding: 0.5em;\n",
       "    padding-left: 1em;\n",
       "}\n",
       "\n",
       "div.success-title {\n",
       "    background-color: #009933;\n",
       "    color: #FFFFFF;\n",
       "    padding-left: 0.75em;\n",
       "    font-weight: bold;\n",
       "}\n",
       "\n",
       ".numberCircleSuccess {\n",
       "    border-radius: 50%;\n",
       "    behavior: url(PIE.htc);\n",
       "    display: inline-block;\n",
       "    /* remove if you don't care about IE8 */\n",
       "    width: 18px;\n",
       "    height: 18px;\n",
       "    padding: 3px;\n",
       "    background: #ffffff;\n",
       "    color: #009933;\n",
       "    text-align: center;\n",
       "    font: 12px Arial, sans-serif;\n",
       "    line-height: 1.2;\n",
       "}\n",
       "\n",
       "div.code {\n",
       "    background-color: #f9e6ff;\n",
       "    padding: 0.5em;\n",
       "    padding-left: 1em;\n",
       "}\n",
       "\n",
       "div.code-title {\n",
       "    background-color: #730099;\n",
       "    color: #FFFFFF;\n",
       "    padding-left: 0.75em;\n",
       "    font-weight: bold;\n",
       "}\n",
       "\n",
       ".numberCircleCode {\n",
       "    border-radius: 50%;\n",
       "    behavior: url(PIE.htc);\n",
       "    display: inline-block;\n",
       "    /* remove if you don't care about IE8 */\n",
       "    width: 18px;\n",
       "    height: 18px;\n",
       "    padding: 3px;\n",
       "    background: #ffffff;\n",
       "    color: #730099;\n",
       "    text-align: center;\n",
       "    font: 12px Arial, sans-serif;\n",
       "}\n",
       "</style>"
      ],
      "text/plain": [
       "<IPython.core.display.HTML object>"
      ]
     },
     "execution_count": 2,
     "metadata": {},
     "output_type": "execute_result"
    }
   ],
   "source": [
    "from IPython.core.display import HTML\n",
    "def css_styling():\n",
    "    styles = open(\"./Resources/stylesheet.css\", \"r\").read()\n",
    "    return HTML(styles)\n",
    "css_styling()"
   ]
  }
 ],
 "metadata": {
  "kernelspec": {
   "display_name": "Python 3",
   "language": "python",
   "name": "python3"
  },
  "language_info": {
   "codemirror_mode": {
    "name": "ipython",
    "version": 3
   },
   "file_extension": ".py",
   "mimetype": "text/x-python",
   "name": "python",
   "nbconvert_exporter": "python",
   "pygments_lexer": "ipython3",
   "version": "3.6.8"
  },
  "toc": {
   "base_numbering": 1,
   "nav_menu": {},
   "number_sections": true,
   "sideBar": true,
   "skip_h1_title": false,
   "title_cell": "Table of Contents",
   "title_sidebar": "Contents",
   "toc_cell": false,
   "toc_position": {},
   "toc_section_display": true,
   "toc_window_display": false
  }
 },
 "nbformat": 4,
 "nbformat_minor": 2
}
