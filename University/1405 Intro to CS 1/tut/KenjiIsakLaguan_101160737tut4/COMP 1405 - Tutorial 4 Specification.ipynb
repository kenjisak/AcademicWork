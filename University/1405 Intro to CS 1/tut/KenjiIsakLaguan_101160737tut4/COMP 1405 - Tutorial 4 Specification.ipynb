{
 "cells": [
  {
   "cell_type": "markdown",
   "metadata": {
    "deletable": false,
    "editable": false,
    "run_control": {
     "frozen": true
    }
   },
   "source": [
    "**COMP 1405 - Introduction to Computer Science I (Fall 2018)** <img style=\"float: right; height: 50px;\" src=\"Resources/carleton.png\"><br>\n",
    "\n",
    "*Specification for Tutorial 4 / 10*\n",
    "\n",
    "***"
   ]
  },
  {
   "cell_type": "markdown",
   "metadata": {
    "deletable": false,
    "editable": false,
    "run_control": {
     "frozen": true
    }
   },
   "source": [
    "## Tutorial 4: Looping Control Structures\n",
    "Last week, we covered boolean statements and simple conditional branching control structures. If you feel like you need a refresher on any of those topics, please refer back to either the Tutorial 3 specification or the class notes on the subject. This week, we will be covering looping-type control structures.\n",
    "\n",
    "This will be a **graded** Tutorial and you must submit your Tutorial by the end of your respective Tutorial time to receive the credit for it. This Tutorial must be accomplished during the Tutorial time and in the Tutorial Lab at school - we will be taking attendance: submissions by non-attendees will not be considered and an automatic grade of 0 will be given. Otherwise, the milestones for this Tutorial will be as followed:\n",
    "\n",
    "| <p align=\"left\">Milestone</p>                                                       | <p align=\"center\">Associated Grade</p> |\n",
    "|-------------------------------------------------------------------------------------|------------------|\n",
    "| <p align=\"left\">Completing the introductory 'Tutorial' components (prior to the Tutorial Exercises)</p> |        <p align=\"center\">20%</p>       |\n",
    "| <p align=\"left\">Completing the Tutorial Exercises 'halfway' (2 supported shapes and positions OR complete shopping loop (no receipt))</p>  |        <p align=\"center\">50%</p>       |\n",
    "| <p align=\"left\">Completing the Tutorial Exercises</p>            |        <p align=\"center\">80%</p>       |\n",
    "| <p align=\"left\">Knowledge Quiz (5% per correct response)</p>                                            |    <p align=\"center\">80% - 100%</p>    |\n",
    "\n",
    "Once you are completed the Tutorial, please zip up all the relevant files (i.e. all the downloaded ones and any additional ones you have added) and adhere to the following naming convention:\n",
    "\n",
    "```FirstnameLastname_studentnumber.zip```\n",
    "\n",
    "Example: \n",
    "JohnDoe_100000000.zip<br><br>\n",
    "\n",
    "<div class=warn-title><p class=numberCircleWarn>&nbsp;!!</p> Warning</div>\n",
    "<div class=warn>Be sure to upload this .zip file to CuLearn under the <b>Tutorial 04 Submission</b>.</div>"
   ]
  },
  {
   "cell_type": "markdown",
   "metadata": {
    "deletable": false,
    "editable": false,
    "run_control": {
     "frozen": true
    }
   },
   "source": [
    "### Part 1: Looping Control Structures\n",
    "The purpose of control structures is to encode some special behavior so as to make code more efficient and also handle more specialized scenarios. The conditional type structure allows us to encode branching paths in code that are dependent on some boolean condition. However, if we want to repeat code or logic, having to manually write them out over and over again causes code to be unweildly and difficult to maintain. For example, something like this is extremely difficult to read and annoying to write:\n",
    "<br><br>\n",
    "<div class=code-title><p class=numberCircleCode>&lt;&gt;</p> Code</div>\n",
    "<div class=\"code\">\n",
    "    <pre style=\"background-color: #f9e6ff;\"><code class=\"language-python\" style=\"background-color: #f9e6ff;\">value = 1\n",
    "if value >= 3:\n",
    "    print(\"Success\")\n",
    "else:\n",
    "    value = value + 1\n",
    "    if value >= 3:\n",
    "        print(\"Success\")\n",
    "    else:\n",
    "        value = value + 1\n",
    "        if value >= 3:\n",
    "            print(\"Success\")\n",
    "        ...</code></pre>\n",
    "</div>\n",
    "\n",
    "For this reason, amongst others, we use the looping-type control structures. There are two primary types of looping control structures we will explore this tutorial: the while loop and the for loop."
   ]
  },
  {
   "cell_type": "markdown",
   "metadata": {
    "deletable": false,
    "editable": false,
    "run_control": {
     "frozen": true
    }
   },
   "source": [
    "### Part 2: While Loop\n",
    "The while loop is a boolean-statement-based looping structure, wherein the number of times the structure will loop is dependent on boolean logic. If we look back at the code we showed above, we could thus easily rewrite it to be something like this:\n",
    "\n",
    "<br><br>\n",
    "<div class=code-title><p class=numberCircleCode>&lt;&gt;</p> Code</div>\n",
    "<div class=\"code\">\n",
    "    <pre style=\"background-color: #f9e6ff;\"><code class=\"language-python\" style=\"background-color: #f9e6ff;\">value = 1\n",
    "while(value < 3):\n",
    "    value = value + 1\n",
    "print(\"Success\")</code></pre>\n",
    "</div>\n",
    "\n",
    "What this snippet of code does is it will run the ```value = value + 1``` part of the loop over and over again up until the boolean statement within the while parentheses is satisfied. In this case, our logic would be something like this:\n",
    "\n",
    "1) value = 1\n",
    "\n",
    "2) is value < 3? Yes? Let's enter the while loop then\n",
    "\n",
    "3) value = value + 1 --> value = 2\n",
    "\n",
    "4) is value < 3? Yes? Let's re-run the while loop then\n",
    "\n",
    "5) value = value + 1 --> value = 3\n",
    "\n",
    "6) is value < 3? No? Let's escape the while loop then\n",
    "\n",
    "7) print \"Success\" to console"
   ]
  },
  {
   "cell_type": "markdown",
   "metadata": {
    "deletable": false,
    "editable": false,
    "run_control": {
     "frozen": true
    }
   },
   "source": [
    "Try writing your own while loop now - ask the user for some input, then repeatedly ask the user until they enter some number. Remember to type-cast as needed!"
   ]
  },
  {
   "cell_type": "code",
   "execution_count": null,
   "metadata": {},
   "outputs": [],
   "source": [
    "while True:\n",
    "    try:\n",
    "        num = int(input(\"Enter any number: \"))\n",
    "    except ValueError:\n",
    "        print(\"Invalid Number...\")\n",
    "        continue\n",
    "    if num<=0 or num>=0:\n",
    "        break"
   ]
  },
  {
   "cell_type": "markdown",
   "metadata": {
    "deletable": false,
    "editable": false,
    "run_control": {
     "frozen": true
    }
   },
   "source": [
    "### Part 3: For Loop\n",
    "The for loop is a very special variant of loop - rather than open-endedly allowing for any boolean statement, the for loop requires a definite and fixed number representing the amount of times it will repeat. To represent this, we use a function called ```range```. This function takes in either 1 or 2 values, wherein a single value will always be the non-inclusive end-point (with an assumed starting point of 0). In the case of 2 numbers, the first will be an inclusive start-point. For example, try running the following code:"
   ]
  },
  {
   "cell_type": "code",
   "execution_count": null,
   "metadata": {
    "deletable": false,
    "editable": false
   },
   "outputs": [],
   "source": [
    "for value in range(0, 10):\n",
    "    print(\"The value of 'value' is {}\".format(value))"
   ]
  },
  {
   "cell_type": "markdown",
   "metadata": {
    "deletable": false,
    "editable": false,
    "run_control": {
     "frozen": true
    }
   },
   "source": [
    "The variable we called ```value``` is an arbitrary name - you are more than welcome to name it whatever you'd like. It is highly recommended to go with variable names that are descriptive to their purpose rather than simply using ```i``` or ```x``` though. Try writing your own for loop that asks the user for their top 5 favorite things and immediately printing each of them."
   ]
  },
  {
   "cell_type": "code",
   "execution_count": null,
   "metadata": {},
   "outputs": [],
   "source": [
    "print(\"Please enter your 5 favourite things\")\n",
    "for numofthings in range(5):\n",
    "    things = input()\n",
    "    print(things)"
   ]
  },
  {
   "cell_type": "markdown",
   "metadata": {
    "deletable": false,
    "editable": false,
    "run_control": {
     "frozen": true
    }
   },
   "source": [
    "## Tutorial Exercises"
   ]
  },
  {
   "cell_type": "markdown",
   "metadata": {
    "deletable": false,
    "editable": false,
    "run_control": {
     "frozen": true
    }
   },
   "source": [
    "Your task this Tutorial is to write one of the two following programs - you're welcome to select whichever you prefer. Neither is worth more marks than the other.\n",
    "\n",
    "#### (1) Drawing Shapes with PyGame\n",
    "You must write a PyGame program that satisfies the following requirements:\n",
    "* The program must ask the user for 2 sets of input:\n",
    "     * 1 for how many shapes to draw\n",
    "     * 3 for each shape being drawn (type of shape, color, and position)\n",
    "* Your program must support at least 4 shapes\n",
    "* Your program must support at least 3 colors\n",
    "* Your program must support at least 5 positions (top-left, bottom-left, top-right, bottom-right, center)\n",
    "\n",
    "#### (2) In-Depth Shopping System with Console\n",
    "You must write an interactive shopping system that satisfies the following requirements:\n",
    "* The program must output a list of items that are for sale, as well as their prices\n",
    "* The program must continually ask the user (in a loop) what they wish to purchase\n",
    "* Once the user inputs an item, the system will ask the user how many they want\n",
    "* If the user inputs \"EXIT\" or some variant of your choice, the program must exit the loop\n",
    "* On exiting the loop, you must output a receipt of the transaction (as a tip, you can 'add' strings together to combine)\n",
    "* Be sure to keep a running total of the cost as well that should be outputted (along with taxes (assume 13%))"
   ]
  },
  {
   "cell_type": "code",
   "execution_count": null,
   "metadata": {},
   "outputs": [],
   "source": [
    "print(\"Grocery Items:\\n1. Can of soup(5.99)\\n2. Orange Juice(3.99)\\n3. Chocolate Bar(1.99\")\n",
    "\n",
    "cost1 = int(5)\n",
    "cost2 = int(3)\n",
    "cost3 = int(1)\n",
    "\n",
    "cart = int(0)\n",
    "while True:\n",
    "    itemnum = input(\"Enter the item number of the item would you like to purchase(Enter EXIT to quit) \")\n",
    "    if itemnum == \"EXIT\":\n",
    "        break\n",
    "    numofitem = int(input(\"How many of these would you like? \"))\n",
    "    if itemnum == \"1\":\n",
    "        itemnum = int(cost1)\n",
    "    elif itemnum == \"2\":\n",
    "        itemnum = int(cost2)\n",
    "    elif itemnum == \"3\":\n",
    "        itemnum = int(cost3)\n",
    "\n",
    "    cart = cart + (itemnum * numofitem)\n",
    "\n",
    "total = cart * 1.13\n",
    "print(\"Your total is: \",(\"{:.2f}\".format(total)))\n"
   ]
  },
  {
   "cell_type": "markdown",
   "metadata": {
    "deletable": false,
    "editable": false,
    "run_control": {
     "frozen": true
    }
   },
   "source": [
    "## Knowledge Test"
   ]
  },
  {
   "cell_type": "markdown",
   "metadata": {
    "deletable": false,
    "editable": false,
    "run_control": {
     "frozen": true
    }
   },
   "source": [
    "To cap off this Tutorial, complete the following test of knowledge. Please answer the following question(s) to the best of your ability. Try to complete this without consulting the notes above if possible. As mentioned in the milestones above, each question is worth a possible 5%, with no part marks possible."
   ]
  },
  {
   "cell_type": "markdown",
   "metadata": {
    "deletable": false,
    "editable": false,
    "run_control": {
     "frozen": true
    }
   },
   "source": [
    "*(1) When is the correct time to use a while loop over a for loop? Be sure to convert your cell to Markdown in order to record your response.*\n",
    "***"
   ]
  },
  {
   "cell_type": "markdown",
   "metadata": {},
   "source": [
    "You would use while loop if you were trying to get the user to produce a specific output, so it can go on forever until that specific output/arguement is reached. You would use a for loop when you only want a certain amount of the loop to repeat."
   ]
  },
  {
   "cell_type": "markdown",
   "metadata": {
    "deletable": false,
    "editable": false,
    "run_control": {
     "frozen": true
    }
   },
   "source": [
    "*(2) If one does not enter a starting point, what is the assumed starting point? Be sure to convert your cell to Markdown in order to record your response.*\n",
    "***"
   ]
  },
  {
   "cell_type": "markdown",
   "metadata": {},
   "source": [
    "0"
   ]
  },
  {
   "cell_type": "markdown",
   "metadata": {
    "deletable": false,
    "editable": false,
    "run_control": {
     "frozen": true
    }
   },
   "source": [
    "*(3) Mohammed's having a little trouble with looping control structures. He is getting real close to the answer, but his code below throws an error - what is wrong with the code? Please explain in the cell below - don't forget to convert the cell to Markdown to record your response.*\n",
    "***\n",
    "```python\n",
    "user_continue = True\n",
    "while(user_continue = True):\n",
    "    print(\"Some output!\")\n",
    "    user_input = input(\"Do you wish to continue? (Yes or No) \")\n",
    "    if user_input == \"No\":\n",
    "        user_continue = False```"
   ]
  },
  {
   "cell_type": "markdown",
   "metadata": {},
   "source": [
    "He is missing the 2nd equals sign on user_continue = True to evaluate the arguement."
   ]
  },
  {
   "cell_type": "markdown",
   "metadata": {
    "deletable": false,
    "editable": false,
    "run_control": {
     "frozen": true
    }
   },
   "source": [
    "*(4) How many iterations does the following range represent? ```range(15, 74)```. What is the last and first numbers included in this range if one was to print out each? Make sure to convert the cell to Markdown to record your response below.*\n",
    "***"
   ]
  },
  {
   "cell_type": "markdown",
   "metadata": {},
   "source": [
    "the last number is 73 and the first number is 15"
   ]
  },
  {
   "cell_type": "markdown",
   "metadata": {
    "deletable": false,
    "editable": false,
    "run_control": {
     "frozen": true
    }
   },
   "source": [
    "***\n",
    "## Resources / References\n",
    "<br>\n",
    "<div class=note-title><p class=numberCircleNote>R</p> External Resources</div>\n",
    "<div class=note> </div>\n",
    "<br>\n",
    "<div class=note-title><p class=numberCircleNote>iR</p> Internal Resources</div>\n",
    "<div class=note> </div>\n",
    "\n",
    "\n",
    "***\n",
    "## Appendix\n",
    "The following section will contain some code vital to the visual component of this Tutorial Specification. Note that any code found in the section will not impact any code being run, though it is highly recommended to re-run the cells here if you have cleared the output of ALL cells."
   ]
  },
  {
   "cell_type": "code",
   "execution_count": 2,
   "metadata": {
    "deletable": false,
    "editable": false,
    "hide_input": true,
    "init_cell": true,
    "run_control": {
     "frozen": true
    }
   },
   "outputs": [
    {
     "data": {
      "text/html": [
       "<style>\n",
       "div.warn {    \n",
       "    background-color: #ffe6e6;\n",
       "    padding: 0.5em;\n",
       "    padding-left: 1em;\n",
       "}\n",
       "div.warn-title { \n",
       "    background-color: #cc0000;\n",
       "    color: #FFFFFF;\n",
       "    padding-left: 0.75em;\n",
       "    font-weight: bold;\n",
       "}\n",
       "\n",
       ".numberCircleWarn {\n",
       "    border-radius: 50%;\n",
       "    behavior: url(PIE.htc);\n",
       "    display: inline-block;\n",
       "    /* remove if you don't care about IE8 */\n",
       "    width: 18px;\n",
       "    height: 18px;\n",
       "    padding: 3px;\n",
       "    background: #ffffff;\n",
       "    color: #cc0000;\n",
       "    text-align: center;\n",
       "    font: 12px Arial, sans-serif;\n",
       "}\n",
       "\n",
       "div.note {\n",
       "    background-color: #e6f2ff;\n",
       "    padding: 0.5em;\n",
       "    padding-left: 1em;\n",
       "}\n",
       "\n",
       "div.note-title {\n",
       "    background-color: #80bdff;\n",
       "    color: #FFFFFF;\n",
       "    padding-left: 0.75em;\n",
       "    font-weight: bold;\n",
       "}\n",
       "\n",
       ".numberCircleNote {\n",
       "    border-radius: 50%;\n",
       "    behavior: url(PIE.htc);\n",
       "    display: inline-block;\n",
       "    /* remove if you don't care about IE8 */\n",
       "    width: 18px;\n",
       "    height: 18px;\n",
       "    padding: 3px;\n",
       "    background: #ffffff;\n",
       "    color: #80bdff;\n",
       "    text-align: center;\n",
       "    font: 12px Arial, sans-serif;\n",
       "    font-weight: bold;\n",
       "}\n",
       "\n",
       "div.success {\n",
       "    background-color: #e6fff3;\n",
       "    padding: 0.5em;\n",
       "    padding-left: 1em;\n",
       "}\n",
       "\n",
       "div.success-title {\n",
       "    background-color: #009933;\n",
       "    color: #FFFFFF;\n",
       "    padding-left: 0.75em;\n",
       "    font-weight: bold;\n",
       "}\n",
       "\n",
       ".numberCircleSuccess {\n",
       "    border-radius: 50%;\n",
       "    behavior: url(PIE.htc);\n",
       "    display: inline-block;\n",
       "    /* remove if you don't care about IE8 */\n",
       "    width: 18px;\n",
       "    height: 18px;\n",
       "    padding: 3px;\n",
       "    background: #ffffff;\n",
       "    color: #009933;\n",
       "    text-align: center;\n",
       "    font: 12px Arial, sans-serif;\n",
       "    line-height: 1.2;\n",
       "}\n",
       "\n",
       "div.code {\n",
       "    background-color: #f9e6ff;\n",
       "    padding: 0.5em;\n",
       "    padding-left: 1em;\n",
       "}\n",
       "\n",
       "div.code-title {\n",
       "    background-color: #730099;\n",
       "    color: #FFFFFF;\n",
       "    padding-left: 0.75em;\n",
       "    font-weight: bold;\n",
       "}\n",
       "\n",
       ".numberCircleCode {\n",
       "    border-radius: 50%;\n",
       "    behavior: url(PIE.htc);\n",
       "    display: inline-block;\n",
       "    /* remove if you don't care about IE8 */\n",
       "    width: 18px;\n",
       "    height: 18px;\n",
       "    padding: 3px;\n",
       "    background: #ffffff;\n",
       "    color: #730099;\n",
       "    text-align: center;\n",
       "    font: 12px Arial, sans-serif;\n",
       "}\n",
       "</style>"
      ],
      "text/plain": [
       "<IPython.core.display.HTML object>"
      ]
     },
     "execution_count": 2,
     "metadata": {},
     "output_type": "execute_result"
    }
   ],
   "source": [
    "from IPython.core.display import HTML\n",
    "def css_styling():\n",
    "    styles = open(\"./Resources/stylesheet.css\", \"r\").read()\n",
    "    return HTML(styles)\n",
    "css_styling()"
   ]
  }
 ],
 "metadata": {
  "kernelspec": {
   "display_name": "Python 3",
   "language": "python",
   "name": "python3"
  },
  "language_info": {
   "codemirror_mode": {
    "name": "ipython",
    "version": 3
   },
   "file_extension": ".py",
   "mimetype": "text/x-python",
   "name": "python",
   "nbconvert_exporter": "python",
   "pygments_lexer": "ipython3",
   "version": "3.6.8"
  },
  "toc": {
   "base_numbering": 1,
   "nav_menu": {},
   "number_sections": true,
   "sideBar": true,
   "skip_h1_title": false,
   "title_cell": "Table of Contents",
   "title_sidebar": "Contents",
   "toc_cell": false,
   "toc_position": {},
   "toc_section_display": true,
   "toc_window_display": false
  }
 },
 "nbformat": 4,
 "nbformat_minor": 2
}
