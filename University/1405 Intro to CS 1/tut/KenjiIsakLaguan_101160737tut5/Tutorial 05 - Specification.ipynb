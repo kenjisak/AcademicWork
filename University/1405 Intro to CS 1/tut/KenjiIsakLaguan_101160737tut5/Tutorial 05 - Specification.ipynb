{
 "cells": [
  {
   "cell_type": "markdown",
   "metadata": {
    "deletable": false,
    "editable": false,
    "run_control": {
     "frozen": true
    }
   },
   "source": [
    "**COMP 1005A / 1405A - Introduction to Computer Science I (Fall 2019)** <img style=\"float: right; height: 50px;\" src=\"Resources/carleton.png\"><br>\n",
    "\n",
    "*Specification for Tutorial 5 / 10*\n",
    "\n",
    "***"
   ]
  },
  {
   "cell_type": "markdown",
   "metadata": {
    "deletable": false,
    "editable": false,
    "run_control": {
     "frozen": true
    }
   },
   "source": [
    "## Tutorial 5: Linear Collections and Nested Looping Structures\n",
    "Last week, we covered basic looping structures (i.e. the for and while loops). If you feel like you need a refresher on this topic, please refer back to either the Tutorial 4 specification or the class notes on the subject. This week, we'll be covering nested looping control structures and a new linear collection (lists).\n",
    "\n",
    "This will be a **graded** Tutorial and you must submit your Tutorial by the end of your respective Tutorial time to receive the credit for it. This Tutorial must be accomplished during the Tutorial time and in the Tutorial Lab at school - we will be taking attendance: submissions by non-attendees will not be considered and an automatic grade of 0 will be given. Otherwise, the milestones for this Tutorial will be as followed:\n",
    "\n",
    "| <p align=\"left\">Milestone</p>                                                       | <p align=\"center\">Associated Grade</p> |\n",
    "|-------------------------------------------------------------------------------------|------------------|\n",
    "| <p align=\"left\">Completing the introductory 'Tutorial' components (prior to the Tutorial Exercises)</p> |        <p align=\"center\">20%</p>       |\n",
    "| <p align=\"left\">Completing the Tutorial Exercises 'halfway' (working inner loop)</p>  |        <p align=\"center\">50%</p>       |\n",
    "| <p align=\"left\">Completing the Tutorial Exercises</p>            |        <p align=\"center\">80%</p>       |\n",
    "| <p align=\"left\">Knowledge Quiz (5% per correct response)</p>                                            |    <p align=\"center\">80% - 100%</p>    |\n",
    "\n",
    "Once you are completed the Tutorial, please zip up all the relevant files (i.e. all the downloaded ones and any additional ones you have added) and adhere to the following naming convention:\n",
    "\n",
    "```FirstnameLastname_studentnumber.zip```\n",
    "\n",
    "Example: \n",
    "JohnDoe_100000000.zip<br><br>\n",
    "\n",
    "<div class=warn-title><p class=numberCircleWarn>&nbsp;!!</p> Warning</div>\n",
    "<div class=warn>Be sure to upload this .zip file to CuLearn under the <b>Tutorial 05 Submission</b>.</div>"
   ]
  },
  {
   "cell_type": "markdown",
   "metadata": {
    "deletable": false,
    "editable": false,
    "run_control": {
     "frozen": true
    }
   },
   "source": [
    "### Part 1: Linear Collections - Lists Edition\n",
    "Earlier this year (first introduced in Tutorial 01, expanded on in Tutorial 02 - refer back if you want a refresher), we looked at an immutable form a linear collection: the ```tuple```. However, while powerful, the immutability (or un-changeability) of the collection limits its usage somewhat. To remedy this, Python has the linear collection called the ```list```. A list works similarly to tuples, but allows us to modify the contents as we wish. This modification, of course, includes changing an element and adding new elements. The syntax for declaring a list is actually also quite similar: we replace the parentheses with square brackets:<br><br>\n",
    "\n",
    "<div class=code-title><p class=numberCircleCode>&lt;&gt;</p> Code</div>\n",
    "<div class=\"code\">\n",
    "    <pre style=\"background-color: #f9e6ff;\"><code class=\"language-python\" style=\"background-color: #f9e6ff;\">items = [\"Rubber Duck\", \"Keys\", 75]</code></pre>\n",
    "</div>\n",
    "\n",
    "To add multiple lists together, Python supports the basic mathematic operator: addition. So, try running the following:"
   ]
  },
  {
   "cell_type": "code",
   "execution_count": null,
   "metadata": {
    "deletable": false,
    "editable": false
   },
   "outputs": [],
   "source": [
    "list1 = [\"item1\", 24]\n",
    "list2 = [\"item2\", 5]\n",
    "\n",
    "print(list1 + list2)"
   ]
  },
  {
   "cell_type": "markdown",
   "metadata": {
    "deletable": false,
    "editable": false,
    "run_control": {
     "frozen": true
    }
   },
   "source": [
    "We can access individual elements inside a list using the subscript operator. The syntax would look something like this:\n",
    "<br><br>\n",
    "<div class=code-title><p class=numberCircleCode>&lt;&gt;</p> Code</div>\n",
    "<div class=\"code\">\n",
    "    <pre style=\"background-color: #f9e6ff;\"><code class=\"language-python\" style=\"background-color: #f9e6ff;\">items = [\"Rubber Duck\", \"Keys\", 75]\n",
    "print(items[0]) <font color=\"green\"># This would output \"Rubber Duck\"</font></code></pre>\n",
    "</div>\n",
    "\n",
    "An alternative way to access elements deeper in the list would be to provide a negative number rather than a positive one - for example, supplying -1 refers to the last element of the list. -2 then refers to the second-to-last, and so forth.\n",
    "\n",
    "Try writing two lists containing 5 items each, combining them together (don't forget to save the output), then printing out the 1st item, the 7th item, and the 9th item. Repeat the printouts using negative subscript values."
   ]
  },
  {
   "cell_type": "code",
   "execution_count": 5,
   "metadata": {},
   "outputs": [
    {
     "name": "stdout",
     "output_type": "stream",
     "text": [
      "1 7 9\n",
      "1 7 9\n"
     ]
    }
   ],
   "source": [
    "list1 = [1,2,3,4,5]\n",
    "list2 = [6,7,8,9,10]\n",
    "\n",
    "listadd = list1 + list2\n",
    "\n",
    "print(listadd[0] ,listadd[6] ,listadd[8])\n",
    "print(listadd[-10] ,listadd[-4] ,listadd[-2])"
   ]
  },
  {
   "cell_type": "markdown",
   "metadata": {
    "deletable": false,
    "editable": false,
    "run_control": {
     "frozen": true
    }
   },
   "source": [
    "### Part 2: Nested Looping Structures\n",
    "Another important structure to considered is the Nested Looping Structures. There are two primary varieties of this: the for loop variant and the while loop variant. This section will be covering the while variant, whereas the next will cover the for loop variant. It should be noted that both variations are extremely similar (and can be combined in certain circumstances), we will be covering them slightly separated for additional clarity.\n",
    "#### Part 2.1: While Loop Edition\n",
    "As we discussed in the previous Tutorial, the while loop is generally reserved for a loop with an indeterminate end-point - or an end-point that we can't properly define within a range-type constraint. The setup for a nested while loop is simply to have a while loop located within the first while loop. In other words:\n",
    "<br><br>\n",
    "<div class=code-title><p class=numberCircleCode>&lt;&gt;</p> Code</div>\n",
    "<div class=\"code\">\n",
    "    <pre style=\"background-color: #f9e6ff;\"><code class=\"language-python\" style=\"background-color: #f9e6ff;\">while (...):\n",
    "   while (...):\n",
    "      print(\"Hello\")</code></pre>\n",
    "</div>\n",
    "\n",
    "The way this loop runs will be to run inner loop to its entirely for each iteration of the outer loop. So:\n",
    "* Outer loop start iteration 1\n",
    "    * Full inner loop\n",
    "* Outer loop end iteration 1\n",
    "* Outer loop start iteration 2\n",
    "    * Full inner loop\n",
    "* Outer loop end iteration 2<br>\n",
    "..."
   ]
  },
  {
   "cell_type": "markdown",
   "metadata": {
    "deletable": false,
    "editable": false,
    "run_control": {
     "frozen": true
    }
   },
   "source": [
    "#### Part 2.2: For Loop Edition\n",
    "Also as discussed in the previous Tutorial, the for loop makes use of a definite, unchanging starting and ending point. As a reminder, these starting and ending points must remain constant over the course of the looping - you cannot change this value within the loop itself. The result will most definitely not be as you intend. For example, consider this code below:"
   ]
  },
  {
   "cell_type": "code",
   "execution_count": null,
   "metadata": {
    "deletable": false,
    "editable": false
   },
   "outputs": [],
   "source": [
    "start_point = 0\n",
    "end_point = 4\n",
    "\n",
    "for value in range(start_point, end_point):\n",
    "    print(value)\n",
    "    start_point -= 1\n",
    "    end_point += 2"
   ]
  },
  {
   "cell_type": "markdown",
   "metadata": {
    "deletable": false,
    "editable": false,
    "run_control": {
     "frozen": true
    }
   },
   "source": [
    "Note that, while we do indeed try to modify these different range points, our result does not get changed. This is because once the for loop begins, those values are stored. \n",
    "\n",
    "Anyways, back to nested loops.. Similar to the while loop, one simply includes the second loop within the first one. Similarly, each inner loop will fully run for each iteration of the outer loop. Here is a simple example:"
   ]
  },
  {
   "cell_type": "code",
   "execution_count": null,
   "metadata": {
    "deletable": false,
    "editable": false
   },
   "outputs": [],
   "source": [
    "for i in range(3):\n",
    "    print(\"Entering iteration {} of outer loop\".format(i))\n",
    "    for j in range(2):\n",
    "        print(\"\\tEntering iteration {} of inner loop\".format(j))"
   ]
  },
  {
   "cell_type": "markdown",
   "metadata": {
    "deletable": false,
    "editable": false,
    "run_control": {
     "frozen": true
    }
   },
   "source": [
    "Now try writing your own nested loop - rather than one or the other though, please write one with a while outer loop and a for inner loop. The conditions can be anything you want, but be sure that it does end (no infinite loops)."
   ]
  },
  {
   "cell_type": "code",
   "execution_count": 6,
   "metadata": {},
   "outputs": [
    {
     "name": "stdout",
     "output_type": "stream",
     "text": [
      "0\n",
      "1\n"
     ]
    }
   ],
   "source": [
    "x = 0 \n",
    "\n",
    "while x < 2:\n",
    "    for x in range ( 2 ):\n",
    "        print(x)\n",
    "        x = x + 1"
   ]
  },
  {
   "cell_type": "markdown",
   "metadata": {
    "deletable": false,
    "editable": false,
    "run_control": {
     "frozen": true
    }
   },
   "source": [
    "## Tutorial Exercises\n",
    "Your task this Tutorial is to write one of the two following programs - you're welcome to select whichever you prefer. Neither is worth more marks than the other.\n",
    "\n",
    "#### (1) Drawing Shapes with PyGame\n",
    "<img style=\"height: 100px;\" src=\"Resources\\pygame.png\">\n",
    "***\n",
    "You must write a PyGame program that satisfies the following requirements:\n",
    "* The program must first ask the user for an integer input: how many shapes they want to draw\n",
    "* The program must then ask the user for 3 inputs for each shape:\n",
    "    * 1 from among 4 different possible shapes\n",
    "    * 1 from among 6 different posssible colors\n",
    "    * 1 from among 5 different possible positions (top-left, bottom-left, top-right, bottom-right, center)\n",
    "* Once your program has gotten those inputs, you must ask the user if they wish to add more shapes\n",
    "    * If the user says YES, then loop back and ask the user again how many more they wish to add\n",
    "    * If the user says NO, exit the nested loops and draw the appropriate shapes in the PyGame window\n",
    "* Your program must store your shapes in a list\n",
    "* Your program must not draw anything until the user finalizes their shape selection (when they say \"NO\")\n",
    "\n",
    "#### (2) Interactive Math Practice System with Console\n",
    "<img style=\"height: 100px;\" src=\"Resources\\terminal.png\">\n",
    "***\n",
    "You must write an interactive math practicing system that satisfies the following requirements:\n",
    "* The program must ask the user for the number of questions that they wish to be asked\n",
    "* The program must then ask the user what type of questions they wish to be asked (addition, multiplication, or mixed (we'll skip division and subtraction for now))\n",
    "* For each question, you will randomly generate two integers valued between 1 and 15\n",
    "* For each question, if the user selects 'mixed' you will randomly generate an index value between 0 and 1 - if this results in 0, make the current problem addition, else make it multiplication\n",
    "* Be sure to use the input function to take in the user's response\n",
    "* Keep track of the user's track record (correct vs incorrect) via some sort of counter\n",
    "* Once the user completes their test, ask them if they wish to play again\n",
    "    * If the user says YES, then loop back and ask the user again how many more they wish to be tested on\n",
    "    * If the user says NO, output their final track record (just a single common one for all games played)"
   ]
  },
  {
   "cell_type": "code",
   "execution_count": 9,
   "metadata": {},
   "outputs": [
    {
     "name": "stdout",
     "output_type": "stream",
     "text": [
      "How many questions would you like?3\n",
      "What kind of questions would you like? (addition, multiplication, or mixed)addition\n",
      "14  +  12  = \n",
      "26\n",
      "5  +  7  = \n",
      "0\n",
      "\n",
      "9  +  13  = \n",
      "0\n",
      "\n",
      "Would you like to restart again?YES\n",
      "How many questions would you like?2\n",
      "What kind of questions would you like? (addition, multiplication, or mixed)multiplication\n",
      "4  *  4  = \n",
      "16\n",
      "1  *  3  = \n",
      "0\n",
      "\n",
      "Would you like to restart again?YES\n",
      "How many questions would you like?3\n",
      "What kind of questions would you like? (addition, multiplication, or mixed)mixed\n",
      "10  +  9  = \n",
      "19\n",
      "6  *  9  = \n",
      "0\n",
      "\n",
      "5  *  6  = \n",
      "0\n",
      "\n",
      "Would you like to restart again?NO\n",
      "You got  3 questions right!\n"
     ]
    }
   ],
   "source": [
    "import random\n",
    "counter = 0\n",
    "restart = True\n",
    "while restart == True:\n",
    "\tnumquestions = input(\"How many questions would you like?\")\n",
    "\tnumquestions = int(numquestions)\n",
    "\ttypeofquestions = input(\"What kind of questions would you like? (addition, multiplication, or mixed)\")\n",
    "\n",
    "\tif typeofquestions == \"addition\":\n",
    "\t\tfor x in range(numquestions):\n",
    "\t\t\trandomnumfirst = random.randint(1,15)\n",
    "\t\t\trandomnumsecond = random.randint(1,15)\n",
    "\t\t\tprint(randomnumfirst,\" + \",randomnumsecond, \" = \")\n",
    "\t\t\tanswer = input()\n",
    "\t\t\tanswer = int(answer)\n",
    "\t\t\tif answer == (randomnumfirst + randomnumsecond):\n",
    "\t\t\t\tcounter += 1\n",
    "\t\t\telse:\n",
    "\t\t\t\tprint(\"\")\n",
    "\t\trestartagain = input(\"Would you like to restart again?\")\n",
    "\t\tif restartagain == \"YES\":\n",
    "\t\t\trestart = True\n",
    "\t\telse:\n",
    "\t\t\trestart = False\n",
    "\t\t\tprint(\"You got \", counter, \"questions right!\")\n",
    "\telif typeofquestions == \"multiplication\":\n",
    "\t\tfor x in range(numquestions):\n",
    "\t\t\trandomnumfirst = random.randint(1,15)\n",
    "\t\t\trandomnumsecond = random.randint(1,15)\n",
    "\t\t\tprint(randomnumfirst,\" * \",randomnumsecond, \" = \")\n",
    "\t\t\tanswer = input()\n",
    "\t\t\tanswer = int(answer)\n",
    "\t\t\tif answer == (randomnumfirst * randomnumsecond):\n",
    "\t\t\t\tcounter += 1\n",
    "\t\t\telse:\n",
    "\t\t\t\tprint(\"\")\n",
    "\t\trestartagain = input(\"Would you like to restart again?\")\n",
    "\t\tif restartagain == \"YES\":\n",
    "\t\t\trestart = True\n",
    "\t\telse:\n",
    "\t\t\trestart = False\n",
    "\t\t\tprint(\"You got \", counter, \"questions right!\")\n",
    "\telse:\n",
    "\t\tfor x in range(numquestions):\n",
    "\t\t\trandomtype = random.randint(0,1)\n",
    "\t\t\tif randomtype == 0:\n",
    "\t\t\t\trandomnumfirst = random.randint(1,15)\n",
    "\t\t\t\trandomnumsecond = random.randint(1,15)\n",
    "\t\t\t\tprint(randomnumfirst,\" + \",randomnumsecond, \" = \")\n",
    "\t\t\t\tanswer = input()\n",
    "\t\t\t\tanswer = int(answer)\n",
    "\t\t\t\tif answer == (randomnumfirst + randomnumsecond):\n",
    "\t\t\t\t\tcounter += 1\n",
    "\t\t\t\telse:\n",
    "\t\t\t\t\tprint(\"\")\n",
    "\t\t\telse:\n",
    "\t\t\t\trandomnumfirst = random.randint(1,15)\n",
    "\t\t\t\trandomnumsecond = random.randint(1,15)\n",
    "\t\t\t\tprint(randomnumfirst,\" * \",randomnumsecond, \" = \")\n",
    "\t\t\t\tanswer = input()\n",
    "\t\t\t\tanswer = int(answer)\n",
    "\t\t\t\tif answer == (randomnumfirst * randomnumsecond):\n",
    "\t\t\t\t\tcounter += 1\n",
    "\t\t\t\telse:\n",
    "\t\t\t\t\tprint(\"\")\n",
    "\t\trestartagain = input(\"Would you like to restart again?\")\n",
    "\t\tif restartagain == \"YES\":\n",
    "\t\t\trestart = True\n",
    "\t\telse:\n",
    "\t\t\trestart = False\n",
    "\t\t\tprint(\"You got \", counter, \"questions right!\")"
   ]
  },
  {
   "cell_type": "markdown",
   "metadata": {
    "deletable": false,
    "editable": false,
    "run_control": {
     "frozen": true
    }
   },
   "source": [
    "## Knowledge Test\n",
    "To cap off this Tutorial, complete the following test of knowledge. Please answer the following question(s) to the best of your ability. Try to complete this without consulting the notes above if possible. As mentioned in the milestones above, each question is worth a possible 5%, with no part marks possible."
   ]
  },
  {
   "cell_type": "markdown",
   "metadata": {
    "deletable": false,
    "editable": false,
    "run_control": {
     "frozen": true
    }
   },
   "source": [
    "*(1) Access the value '3' from the following list using **two** different index values.:*\n",
    "```python\n",
    "lst = [1, 5, '3', 'Hello']```\n",
    "***"
   ]
  },
  {
   "cell_type": "code",
   "execution_count": 4,
   "metadata": {},
   "outputs": [
    {
     "name": "stdout",
     "output_type": "stream",
     "text": [
      "3 3\n"
     ]
    }
   ],
   "source": [
    "lst = [1, 5, '3', 'Hello']\n",
    "print(lst[2] , lst[-2])"
   ]
  },
  {
   "cell_type": "markdown",
   "metadata": {
    "deletable": false,
    "editable": false,
    "run_control": {
     "frozen": true
    }
   },
   "source": [
    "*(2) Marguerite wishes to make a console-based E-Commerce system. This system must continually ask the user (until they enter 'EXIT' or 'FINISH') to enter the category of item they wish to purchase. For example, a category might be something like 'Electronics', 'Health', 'Clothing', etc. Once the user enters a valid category, the system should iterate over and print out all items that are inside that category to the console, before prompting the user to select an item. At this stage, the user can either enter an item or EXIT back to the category selection. Marguerite reckons that this system will require a set of 2 nested loops, but isn't sure which ones to use for the INNER and OUTER loop. Which would be the ideal type of loop to use for each case and why? Be sure to convert your cell to Markdown in order to record your response.*\n",
    "***"
   ]
  },
  {
   "cell_type": "markdown",
   "metadata": {},
   "source": [
    "continue to keep picking categories = true\n",
    "\n",
    "while continue to keep picking categories == true:\n",
    "    while continue to keep picking categories == true:\n",
    "        print item list\n",
    "        if false then quit out of loop \n",
    "\n",
    "you dont really need 2 loops, you can just use 1 while true loop to continuously ask the user if they would like to continue. the user is only inputting 1 answer, thats the category.  so once the user enters a category it prints the list, the user is prompted at the end if theyd like to continue or not and if not , it'd set whatever the boolean variable name for the while loop to false and ends the loop. if they really wants a nested loop then she can have another while true loop with the same boolean variable on the outer loop so it ends at the same time \n",
    "\n",
    "if the system isnt using a list, they can use a while true loop on the outer loop and a for loop in the inner loop to display the items once the user inputs which category in the while true loop"
   ]
  },
  {
   "cell_type": "markdown",
   "metadata": {
    "deletable": false,
    "editable": false,
    "run_control": {
     "frozen": true
    }
   },
   "source": [
    "*(3) Samuel makes use of the following code:*\n",
    "```python\n",
    "num_questions = 5\n",
    "for i in range(num_questions):\n",
    "    # asks some math question\n",
    "    if question != answer:\n",
    "        num_questions += 1\n",
    "    \n",
    "print(num_questions)```\n",
    "*His intention was to have the program ask the user five questions initially, but add a new question for each time that the user answered wrongly. Understandably, this code does not work as intended - what is wrong with it? Be sure to convert your cell to Markdown in order to record your response.*\n",
    "***"
   ]
  },
  {
   "cell_type": "markdown",
   "metadata": {},
   "source": [
    "he didnt have the answer to the questions defined. but assuming he does, and assuming he also defines the user answer in the #asks some math question part. he hasn't created a random algorithm to make a new math question each time the user gets it wrong. all this is going to do is keep asking the same question repeatedly depending on how many times the user messes up. "
   ]
  },
  {
   "cell_type": "markdown",
   "metadata": {
    "deletable": false,
    "editable": false,
    "run_control": {
     "frozen": true
    }
   },
   "source": [
    "*(4) Which structure of nested loop would be most appropriate to draw a chess board (without any pieces)? Be sure to convert your cell to Markdown in order to record your response.*\n",
    "***"
   ]
  },
  {
   "cell_type": "markdown",
   "metadata": {},
   "source": [
    "for loop inside a for loop "
   ]
  },
  {
   "cell_type": "markdown",
   "metadata": {
    "deletable": false,
    "editable": false,
    "run_control": {
     "frozen": true
    }
   },
   "source": [
    "***\n",
    "## Resources / References\n",
    "<br>\n",
    "<div class=note-title><p class=numberCircleNote>R</p> External Resources</div>\n",
    "<div class=note>Python3 Datastructures: https://docs.python.org/3/tutorial/datastructures.html</div>\n",
    "<br>\n",
    "<div class=note-title><p class=numberCircleNote>iR</p> Internal Resources</div>\n",
    "<div class=note>Lecture 08 - Looping Control Structures<br>Lecture 09 - Nested Looping Structures<br>Lecture 12 - Introduction to Linear Collections</div>\n",
    "\n",
    "\n",
    "***\n",
    "## Appendix\n",
    "The following section will contain some code vital to the visual component of this Tutorial Specification. Note that any code found in the section will not impact any code being run, though it is highly recommended to re-run the cells here if you have cleared the output of ALL cells."
   ]
  },
  {
   "cell_type": "code",
   "execution_count": 1,
   "metadata": {
    "deletable": false,
    "editable": false,
    "hide_input": true,
    "init_cell": true
   },
   "outputs": [
    {
     "ename": "FileNotFoundError",
     "evalue": "[Errno 2] No such file or directory: './Resources/stylesheet.css'",
     "output_type": "error",
     "traceback": [
      "\u001b[0;31m---------------------------------------------------------------------------\u001b[0m",
      "\u001b[0;31mFileNotFoundError\u001b[0m                         Traceback (most recent call last)",
      "\u001b[0;32m<ipython-input-1-5635e74c763e>\u001b[0m in \u001b[0;36m<module>\u001b[0;34m()\u001b[0m\n\u001b[1;32m      3\u001b[0m     \u001b[0mstyles\u001b[0m \u001b[0;34m=\u001b[0m \u001b[0mopen\u001b[0m\u001b[0;34m(\u001b[0m\u001b[0;34m\"./Resources/stylesheet.css\"\u001b[0m\u001b[0;34m,\u001b[0m \u001b[0;34m\"r\"\u001b[0m\u001b[0;34m)\u001b[0m\u001b[0;34m.\u001b[0m\u001b[0mread\u001b[0m\u001b[0;34m(\u001b[0m\u001b[0;34m)\u001b[0m\u001b[0;34m\u001b[0m\u001b[0;34m\u001b[0m\u001b[0m\n\u001b[1;32m      4\u001b[0m     \u001b[0;32mreturn\u001b[0m \u001b[0mHTML\u001b[0m\u001b[0;34m(\u001b[0m\u001b[0mstyles\u001b[0m\u001b[0;34m)\u001b[0m\u001b[0;34m\u001b[0m\u001b[0;34m\u001b[0m\u001b[0m\n\u001b[0;32m----> 5\u001b[0;31m \u001b[0mcss_styling\u001b[0m\u001b[0;34m(\u001b[0m\u001b[0;34m)\u001b[0m\u001b[0;34m\u001b[0m\u001b[0;34m\u001b[0m\u001b[0m\n\u001b[0m",
      "\u001b[0;32m<ipython-input-1-5635e74c763e>\u001b[0m in \u001b[0;36mcss_styling\u001b[0;34m()\u001b[0m\n\u001b[1;32m      1\u001b[0m \u001b[0;32mfrom\u001b[0m \u001b[0mIPython\u001b[0m\u001b[0;34m.\u001b[0m\u001b[0mcore\u001b[0m\u001b[0;34m.\u001b[0m\u001b[0mdisplay\u001b[0m \u001b[0;32mimport\u001b[0m \u001b[0mHTML\u001b[0m\u001b[0;34m\u001b[0m\u001b[0;34m\u001b[0m\u001b[0m\n\u001b[1;32m      2\u001b[0m \u001b[0;32mdef\u001b[0m \u001b[0mcss_styling\u001b[0m\u001b[0;34m(\u001b[0m\u001b[0;34m)\u001b[0m\u001b[0;34m:\u001b[0m\u001b[0;34m\u001b[0m\u001b[0;34m\u001b[0m\u001b[0m\n\u001b[0;32m----> 3\u001b[0;31m     \u001b[0mstyles\u001b[0m \u001b[0;34m=\u001b[0m \u001b[0mopen\u001b[0m\u001b[0;34m(\u001b[0m\u001b[0;34m\"./Resources/stylesheet.css\"\u001b[0m\u001b[0;34m,\u001b[0m \u001b[0;34m\"r\"\u001b[0m\u001b[0;34m)\u001b[0m\u001b[0;34m.\u001b[0m\u001b[0mread\u001b[0m\u001b[0;34m(\u001b[0m\u001b[0;34m)\u001b[0m\u001b[0;34m\u001b[0m\u001b[0;34m\u001b[0m\u001b[0m\n\u001b[0m\u001b[1;32m      4\u001b[0m     \u001b[0;32mreturn\u001b[0m \u001b[0mHTML\u001b[0m\u001b[0;34m(\u001b[0m\u001b[0mstyles\u001b[0m\u001b[0;34m)\u001b[0m\u001b[0;34m\u001b[0m\u001b[0;34m\u001b[0m\u001b[0m\n\u001b[1;32m      5\u001b[0m \u001b[0mcss_styling\u001b[0m\u001b[0;34m(\u001b[0m\u001b[0;34m)\u001b[0m\u001b[0;34m\u001b[0m\u001b[0;34m\u001b[0m\u001b[0m\n",
      "\u001b[0;31mFileNotFoundError\u001b[0m: [Errno 2] No such file or directory: './Resources/stylesheet.css'"
     ]
    }
   ],
   "source": [
    "from IPython.core.display import HTML\n",
    "def css_styling():\n",
    "    styles = open(\"./Resources/stylesheet.css\", \"r\").read()\n",
    "    return HTML(styles)\n",
    "css_styling()"
   ]
  }
 ],
 "metadata": {
  "kernelspec": {
   "display_name": "Python 3",
   "language": "python",
   "name": "python3"
  },
  "language_info": {
   "codemirror_mode": {
    "name": "ipython",
    "version": 3
   },
   "file_extension": ".py",
   "mimetype": "text/x-python",
   "name": "python",
   "nbconvert_exporter": "python",
   "pygments_lexer": "ipython3",
   "version": "3.6.8"
  }
 },
 "nbformat": 4,
 "nbformat_minor": 2
}
